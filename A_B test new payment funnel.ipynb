{
 "cells": [
  {
   "cell_type": "markdown",
   "id": "8fb523ba",
   "metadata": {
    "toc": true
   },
   "source": [
    "<h1>А/В тестирование<span class=\"tocSkip\"></span></h1>\n",
    "<div class=\"toc\"><ul class=\"toc-item\"><li><span><a href=\"#Первичное-знакомство\" data-toc-modified-id=\"Первичное-знакомство-1\"><span class=\"toc-item-num\">1&nbsp;&nbsp;</span>Первичное знакомство</a></span></li><li><span><a href=\"#Предобработка-данных\" data-toc-modified-id=\"Предобработка-данных-2\"><span class=\"toc-item-num\">2&nbsp;&nbsp;</span>Предобработка данных</a></span></li><li><span><a href=\"#Иследовательский-анализ-данных\" data-toc-modified-id=\"Иследовательский-анализ-данных-3\"><span class=\"toc-item-num\">3&nbsp;&nbsp;</span>Иследовательский анализ данных</a></span></li><li><span><a href=\"#Оценка-результата-A/B-тестирования\" data-toc-modified-id=\"Оценка-результата-A/B-тестирования-4\"><span class=\"toc-item-num\">4&nbsp;&nbsp;</span>Оценка результата A/B-тестирования</a></span></li><li><span><a href=\"#Вывод-и-рекомендации\" data-toc-modified-id=\"Вывод-и-рекомендации-5\"><span class=\"toc-item-num\">5&nbsp;&nbsp;</span>Вывод и рекомендации</a></span></li></ul></div>"
   ]
  },
  {
   "cell_type": "markdown",
   "id": "76a2d4b1",
   "metadata": {},
   "source": [
    "**Цель: провести оценку результатов A/B-теста и вернуться с итоговыми выводами/рекомендациями. Тест подразумевал увеличение конверсии по каждой метрике на 10 и более %**\n",
    "\n",
    "**А — контрольная, B — новая платёжная воронка**\n",
    "\n",
    "**Техническое задание:**\n",
    "\n",
    "- Название теста: `recommender_system_test`;\n",
    "- группы: А — контрольная, B — новая платёжная воронка;\n",
    "- дата запуска: 2020-12-07;\n",
    "- дата остановки набора новых пользователей: 2020-12-21;\n",
    "- дата остановки: 2021-01-04;\n",
    "- аудитория: 15% новых пользователей из региона EU;\n",
    "- назначение теста: тестирование изменений, связанных с внедрением улучшенной рекомендательной системы;\n",
    "- ожидаемое количество участников теста: 6000.\n",
    "- ожидаемый эффект: за 14 дней с момента регистрации пользователи покажут улучшение каждой метрики не менее, чем на 10%:\n",
    "    - конверсии в просмотр карточек товаров — событие `product_page`,\n",
    "    - просмотры корзины — `product_cart`,\n",
    "    - покупки — `purchase`.\n",
    "\n",
    "**План исследования**\n",
    "1. Первичное знакомство\n",
    "- Изучить все таблицы, которые необходимы для корректного анализа A/B теста\n",
    "- Загрузить все необходимые библиотеки\n",
    "\n",
    "2. Предобработка данных:\n",
    "- преобразовать поля с датами во всех датафреймах в тип datetime\n",
    "- проанализировать пропуски. Имеются только в датафрейме final_ab_events в поле details. Заполнять не будем, так как природа пропусков очевидна - связана со спецификой заполнения данного поля, заполняется только при событии purchase\n",
    "- дубликаты отсутствуют\n",
    "- приводить к нижнему регистру не требуется\n",
    "- проверить условия ТЗ и почистить/обрезать данные при необходимости\n",
    "- сформировать итоговый датафрейм с пользователями и событиями, в том числе проверить распределение групп А и В\n",
    "- добавить новый столбец с датами для дальнейшего анализа\n",
    "- удалить события, которые могут исказить результаты теста\n",
    "\n",
    "3. Исследовательский анализ данных:\n",
    "- проверить количество событий на пользователя, одинаково ли распределены в выборках\n",
    "- посмотреть, какие события есть в логах, как часто они встречаются,в том числе посчитать события по уникальным пользователям\n",
    "- проверить как число событий в выборках распределено по дням\n",
    "- проверить как меняется конверсия в воронке в выборках на разных этапах\n",
    "- описать какие особенности данных нужно учесть, прежде чем приступать к A/B-тестированию\n",
    "\n",
    "4. Оценить результаты A/B-тестирования\n",
    "- проверить статистическую разницу долей z-критерием\n",
    "    \n",
    "5. Описать выводы по этапу исследовательского анализа данных и по проведённой оценке результатов A/B-тестирования. Сделать общее заключение о корректности проведения теста"
   ]
  },
  {
   "cell_type": "markdown",
   "id": "c1f6c79e",
   "metadata": {},
   "source": [
    "## Первичное знакомство"
   ]
  },
  {
   "cell_type": "code",
   "execution_count": 1,
   "id": "eb9f7238",
   "metadata": {},
   "outputs": [
    {
     "name": "stdout",
     "output_type": "stream",
     "text": [
      "Note: you may need to restart the kernel to use updated packages.\n"
     ]
    }
   ],
   "source": [
    "%pip install -U kaleido -q"
   ]
  },
  {
   "cell_type": "code",
   "execution_count": 2,
   "id": "33039094",
   "metadata": {},
   "outputs": [],
   "source": [
    "#загрузила библиотеки\n",
    "import pandas as pd\n",
    "import scipy.stats as stats\n",
    "import math as mth\n",
    "import datetime as dt\n",
    "from datetime import timedelta\n",
    "import numpy as np\n",
    "import matplotlib.pyplot as plt\n",
    "from plotly import graph_objects as go\n",
    "import plotly.express as px\n",
    "import plotly.io as pio\n",
    "pio.renderers.default=\"png\"\n",
    "import seaborn as sns\n",
    "sns.set(rc={'figure.figsize':(15,10)})"
   ]
  },
  {
   "cell_type": "code",
   "execution_count": 3,
   "id": "aa18f8b7",
   "metadata": {},
   "outputs": [
    {
     "data": {
      "text/html": [
       "<div>\n",
       "<style scoped>\n",
       "    .dataframe tbody tr th:only-of-type {\n",
       "        vertical-align: middle;\n",
       "    }\n",
       "\n",
       "    .dataframe tbody tr th {\n",
       "        vertical-align: top;\n",
       "    }\n",
       "\n",
       "    .dataframe thead th {\n",
       "        text-align: right;\n",
       "    }\n",
       "</style>\n",
       "<table border=\"1\" class=\"dataframe\">\n",
       "  <thead>\n",
       "    <tr style=\"text-align: right;\">\n",
       "      <th></th>\n",
       "      <th>name</th>\n",
       "      <th>regions</th>\n",
       "      <th>start_dt</th>\n",
       "      <th>finish_dt</th>\n",
       "    </tr>\n",
       "  </thead>\n",
       "  <tbody>\n",
       "    <tr>\n",
       "      <th>0</th>\n",
       "      <td>Christmas&amp;New Year Promo</td>\n",
       "      <td>EU, N.America</td>\n",
       "      <td>2020-12-25</td>\n",
       "      <td>2021-01-03</td>\n",
       "    </tr>\n",
       "    <tr>\n",
       "      <th>1</th>\n",
       "      <td>St. Valentine's Day Giveaway</td>\n",
       "      <td>EU, CIS, APAC, N.America</td>\n",
       "      <td>2020-02-14</td>\n",
       "      <td>2020-02-16</td>\n",
       "    </tr>\n",
       "    <tr>\n",
       "      <th>2</th>\n",
       "      <td>St. Patric's Day Promo</td>\n",
       "      <td>EU, N.America</td>\n",
       "      <td>2020-03-17</td>\n",
       "      <td>2020-03-19</td>\n",
       "    </tr>\n",
       "    <tr>\n",
       "      <th>3</th>\n",
       "      <td>Easter Promo</td>\n",
       "      <td>EU, CIS, APAC, N.America</td>\n",
       "      <td>2020-04-12</td>\n",
       "      <td>2020-04-19</td>\n",
       "    </tr>\n",
       "    <tr>\n",
       "      <th>4</th>\n",
       "      <td>4th of July Promo</td>\n",
       "      <td>N.America</td>\n",
       "      <td>2020-07-04</td>\n",
       "      <td>2020-07-11</td>\n",
       "    </tr>\n",
       "  </tbody>\n",
       "</table>\n",
       "</div>"
      ],
      "text/plain": [
       "                           name                   regions    start_dt  \\\n",
       "0      Christmas&New Year Promo             EU, N.America  2020-12-25   \n",
       "1  St. Valentine's Day Giveaway  EU, CIS, APAC, N.America  2020-02-14   \n",
       "2        St. Patric's Day Promo             EU, N.America  2020-03-17   \n",
       "3                  Easter Promo  EU, CIS, APAC, N.America  2020-04-12   \n",
       "4             4th of July Promo                 N.America  2020-07-04   \n",
       "\n",
       "    finish_dt  \n",
       "0  2021-01-03  \n",
       "1  2020-02-16  \n",
       "2  2020-03-19  \n",
       "3  2020-04-19  \n",
       "4  2020-07-11  "
      ]
     },
     "execution_count": 3,
     "metadata": {},
     "output_type": "execute_result"
    }
   ],
   "source": [
    "#загрузила датафрейм - календарь маркетинговых событий на 2020 год\n",
    "try:\n",
    "    ab_project_marketing_events = pd.read_csv('/datasets/ab_project_marketing_events.csv')\n",
    "except:\n",
    "    ab_project_marketing_events = pd.read_csv(r\"C:\\scripts\\ab_project_marketing_events.csv\")\n",
    "    \n",
    "ab_project_marketing_events.head()"
   ]
  },
  {
   "cell_type": "code",
   "execution_count": 4,
   "id": "4086d2eb",
   "metadata": {},
   "outputs": [
    {
     "data": {
      "text/html": [
       "<div>\n",
       "<style scoped>\n",
       "    .dataframe tbody tr th:only-of-type {\n",
       "        vertical-align: middle;\n",
       "    }\n",
       "\n",
       "    .dataframe tbody tr th {\n",
       "        vertical-align: top;\n",
       "    }\n",
       "\n",
       "    .dataframe thead th {\n",
       "        text-align: right;\n",
       "    }\n",
       "</style>\n",
       "<table border=\"1\" class=\"dataframe\">\n",
       "  <thead>\n",
       "    <tr style=\"text-align: right;\">\n",
       "      <th></th>\n",
       "      <th>user_id</th>\n",
       "      <th>event_dt</th>\n",
       "      <th>event_name</th>\n",
       "      <th>details</th>\n",
       "    </tr>\n",
       "  </thead>\n",
       "  <tbody>\n",
       "    <tr>\n",
       "      <th>0</th>\n",
       "      <td>E1BDDCE0DAFA2679</td>\n",
       "      <td>2020-12-07 20:22:03</td>\n",
       "      <td>purchase</td>\n",
       "      <td>99.99</td>\n",
       "    </tr>\n",
       "    <tr>\n",
       "      <th>1</th>\n",
       "      <td>7B6452F081F49504</td>\n",
       "      <td>2020-12-07 09:22:53</td>\n",
       "      <td>purchase</td>\n",
       "      <td>9.99</td>\n",
       "    </tr>\n",
       "    <tr>\n",
       "      <th>2</th>\n",
       "      <td>9CD9F34546DF254C</td>\n",
       "      <td>2020-12-07 12:59:29</td>\n",
       "      <td>purchase</td>\n",
       "      <td>4.99</td>\n",
       "    </tr>\n",
       "    <tr>\n",
       "      <th>3</th>\n",
       "      <td>96F27A054B191457</td>\n",
       "      <td>2020-12-07 04:02:40</td>\n",
       "      <td>purchase</td>\n",
       "      <td>4.99</td>\n",
       "    </tr>\n",
       "    <tr>\n",
       "      <th>4</th>\n",
       "      <td>1FD7660FDF94CA1F</td>\n",
       "      <td>2020-12-07 10:15:09</td>\n",
       "      <td>purchase</td>\n",
       "      <td>4.99</td>\n",
       "    </tr>\n",
       "  </tbody>\n",
       "</table>\n",
       "</div>"
      ],
      "text/plain": [
       "            user_id             event_dt event_name  details\n",
       "0  E1BDDCE0DAFA2679  2020-12-07 20:22:03   purchase    99.99\n",
       "1  7B6452F081F49504  2020-12-07 09:22:53   purchase     9.99\n",
       "2  9CD9F34546DF254C  2020-12-07 12:59:29   purchase     4.99\n",
       "3  96F27A054B191457  2020-12-07 04:02:40   purchase     4.99\n",
       "4  1FD7660FDF94CA1F  2020-12-07 10:15:09   purchase     4.99"
      ]
     },
     "execution_count": 4,
     "metadata": {},
     "output_type": "execute_result"
    }
   ],
   "source": [
    "#загрузила датафрейм - действия новых пользователей в период с 7 декабря 2020 по 4 января 2021 года\n",
    "try:\n",
    "    final_ab_events = pd.read_csv('/datasets/final_ab_events.csv')\n",
    "except:\n",
    "    final_ab_events = pd.read_csv(r\"C:\\scripts\\final_ab_events.csv\")\n",
    "\n",
    "final_ab_events.head()"
   ]
  },
  {
   "cell_type": "code",
   "execution_count": 5,
   "id": "b3aafc61",
   "metadata": {},
   "outputs": [
    {
     "data": {
      "text/html": [
       "<div>\n",
       "<style scoped>\n",
       "    .dataframe tbody tr th:only-of-type {\n",
       "        vertical-align: middle;\n",
       "    }\n",
       "\n",
       "    .dataframe tbody tr th {\n",
       "        vertical-align: top;\n",
       "    }\n",
       "\n",
       "    .dataframe thead th {\n",
       "        text-align: right;\n",
       "    }\n",
       "</style>\n",
       "<table border=\"1\" class=\"dataframe\">\n",
       "  <thead>\n",
       "    <tr style=\"text-align: right;\">\n",
       "      <th></th>\n",
       "      <th>user_id</th>\n",
       "      <th>first_date</th>\n",
       "      <th>region</th>\n",
       "      <th>device</th>\n",
       "    </tr>\n",
       "  </thead>\n",
       "  <tbody>\n",
       "    <tr>\n",
       "      <th>0</th>\n",
       "      <td>D72A72121175D8BE</td>\n",
       "      <td>2020-12-07</td>\n",
       "      <td>EU</td>\n",
       "      <td>PC</td>\n",
       "    </tr>\n",
       "    <tr>\n",
       "      <th>1</th>\n",
       "      <td>F1C668619DFE6E65</td>\n",
       "      <td>2020-12-07</td>\n",
       "      <td>N.America</td>\n",
       "      <td>Android</td>\n",
       "    </tr>\n",
       "    <tr>\n",
       "      <th>2</th>\n",
       "      <td>2E1BF1D4C37EA01F</td>\n",
       "      <td>2020-12-07</td>\n",
       "      <td>EU</td>\n",
       "      <td>PC</td>\n",
       "    </tr>\n",
       "    <tr>\n",
       "      <th>3</th>\n",
       "      <td>50734A22C0C63768</td>\n",
       "      <td>2020-12-07</td>\n",
       "      <td>EU</td>\n",
       "      <td>iPhone</td>\n",
       "    </tr>\n",
       "    <tr>\n",
       "      <th>4</th>\n",
       "      <td>E1BDDCE0DAFA2679</td>\n",
       "      <td>2020-12-07</td>\n",
       "      <td>N.America</td>\n",
       "      <td>iPhone</td>\n",
       "    </tr>\n",
       "  </tbody>\n",
       "</table>\n",
       "</div>"
      ],
      "text/plain": [
       "            user_id  first_date     region   device\n",
       "0  D72A72121175D8BE  2020-12-07         EU       PC\n",
       "1  F1C668619DFE6E65  2020-12-07  N.America  Android\n",
       "2  2E1BF1D4C37EA01F  2020-12-07         EU       PC\n",
       "3  50734A22C0C63768  2020-12-07         EU   iPhone\n",
       "4  E1BDDCE0DAFA2679  2020-12-07  N.America   iPhone"
      ]
     },
     "execution_count": 5,
     "metadata": {},
     "output_type": "execute_result"
    }
   ],
   "source": [
    "#загрузила датафрейм - пользователи, зарегистрировавшиеся с 7 по 21 декабря 2020 года\n",
    "try:\n",
    "    final_ab_new_users = pd.read_csv('/datasets/final_ab_new_users.csv')\n",
    "except:\n",
    "    final_ab_new_users = pd.read_csv(r\"C:\\scripts\\final_ab_new_users.csv\")\n",
    "\n",
    "final_ab_new_users.head()"
   ]
  },
  {
   "cell_type": "code",
   "execution_count": 6,
   "id": "b3cd0ed6",
   "metadata": {
    "scrolled": true
   },
   "outputs": [
    {
     "data": {
      "text/html": [
       "<div>\n",
       "<style scoped>\n",
       "    .dataframe tbody tr th:only-of-type {\n",
       "        vertical-align: middle;\n",
       "    }\n",
       "\n",
       "    .dataframe tbody tr th {\n",
       "        vertical-align: top;\n",
       "    }\n",
       "\n",
       "    .dataframe thead th {\n",
       "        text-align: right;\n",
       "    }\n",
       "</style>\n",
       "<table border=\"1\" class=\"dataframe\">\n",
       "  <thead>\n",
       "    <tr style=\"text-align: right;\">\n",
       "      <th></th>\n",
       "      <th>user_id</th>\n",
       "      <th>group</th>\n",
       "      <th>ab_test</th>\n",
       "    </tr>\n",
       "  </thead>\n",
       "  <tbody>\n",
       "    <tr>\n",
       "      <th>0</th>\n",
       "      <td>D1ABA3E2887B6A73</td>\n",
       "      <td>A</td>\n",
       "      <td>recommender_system_test</td>\n",
       "    </tr>\n",
       "    <tr>\n",
       "      <th>1</th>\n",
       "      <td>A7A3664BD6242119</td>\n",
       "      <td>A</td>\n",
       "      <td>recommender_system_test</td>\n",
       "    </tr>\n",
       "    <tr>\n",
       "      <th>2</th>\n",
       "      <td>DABC14FDDFADD29E</td>\n",
       "      <td>A</td>\n",
       "      <td>recommender_system_test</td>\n",
       "    </tr>\n",
       "    <tr>\n",
       "      <th>3</th>\n",
       "      <td>04988C5DF189632E</td>\n",
       "      <td>A</td>\n",
       "      <td>recommender_system_test</td>\n",
       "    </tr>\n",
       "    <tr>\n",
       "      <th>4</th>\n",
       "      <td>482F14783456D21B</td>\n",
       "      <td>B</td>\n",
       "      <td>recommender_system_test</td>\n",
       "    </tr>\n",
       "  </tbody>\n",
       "</table>\n",
       "</div>"
      ],
      "text/plain": [
       "            user_id group                  ab_test\n",
       "0  D1ABA3E2887B6A73     A  recommender_system_test\n",
       "1  A7A3664BD6242119     A  recommender_system_test\n",
       "2  DABC14FDDFADD29E     A  recommender_system_test\n",
       "3  04988C5DF189632E     A  recommender_system_test\n",
       "4  482F14783456D21B     B  recommender_system_test"
      ]
     },
     "execution_count": 6,
     "metadata": {},
     "output_type": "execute_result"
    }
   ],
   "source": [
    "#загрузила датафрейм - таблица участников тестов\n",
    "try:\n",
    "    final_ab_participants = pd.read_csv('/datasets/final_ab_participants.csv')\n",
    "except:\n",
    "    final_ab_participants = pd.read_csv(r\"C:\\scripts\\final_ab_participants.csv\")\n",
    "\n",
    "final_ab_participants.head()"
   ]
  },
  {
   "cell_type": "markdown",
   "id": "d0b39e04",
   "metadata": {},
   "source": [
    "## Предобработка данных"
   ]
  },
  {
   "cell_type": "code",
   "execution_count": 7,
   "id": "a11474a9",
   "metadata": {},
   "outputs": [
    {
     "name": "stdout",
     "output_type": "stream",
     "text": [
      "<class 'pandas.core.frame.DataFrame'>\n",
      "RangeIndex: 14 entries, 0 to 13\n",
      "Data columns (total 4 columns):\n",
      " #   Column     Non-Null Count  Dtype \n",
      "---  ------     --------------  ----- \n",
      " 0   name       14 non-null     object\n",
      " 1   regions    14 non-null     object\n",
      " 2   start_dt   14 non-null     object\n",
      " 3   finish_dt  14 non-null     object\n",
      "dtypes: object(4)\n",
      "memory usage: 576.0+ bytes\n",
      "<class 'pandas.core.frame.DataFrame'>\n",
      "RangeIndex: 440317 entries, 0 to 440316\n",
      "Data columns (total 4 columns):\n",
      " #   Column      Non-Null Count   Dtype  \n",
      "---  ------      --------------   -----  \n",
      " 0   user_id     440317 non-null  object \n",
      " 1   event_dt    440317 non-null  object \n",
      " 2   event_name  440317 non-null  object \n",
      " 3   details     62740 non-null   float64\n",
      "dtypes: float64(1), object(3)\n",
      "memory usage: 13.4+ MB\n",
      "<class 'pandas.core.frame.DataFrame'>\n",
      "RangeIndex: 61733 entries, 0 to 61732\n",
      "Data columns (total 4 columns):\n",
      " #   Column      Non-Null Count  Dtype \n",
      "---  ------      --------------  ----- \n",
      " 0   user_id     61733 non-null  object\n",
      " 1   first_date  61733 non-null  object\n",
      " 2   region      61733 non-null  object\n",
      " 3   device      61733 non-null  object\n",
      "dtypes: object(4)\n",
      "memory usage: 1.9+ MB\n",
      "<class 'pandas.core.frame.DataFrame'>\n",
      "RangeIndex: 18268 entries, 0 to 18267\n",
      "Data columns (total 3 columns):\n",
      " #   Column   Non-Null Count  Dtype \n",
      "---  ------   --------------  ----- \n",
      " 0   user_id  18268 non-null  object\n",
      " 1   group    18268 non-null  object\n",
      " 2   ab_test  18268 non-null  object\n",
      "dtypes: object(3)\n",
      "memory usage: 428.3+ KB\n"
     ]
    }
   ],
   "source": [
    "#посмотрела информацию по колонкам\n",
    "list = ab_project_marketing_events, final_ab_events, final_ab_new_users, final_ab_participants\n",
    "\n",
    "for row in list:\n",
    "    row.info()"
   ]
  },
  {
   "cell_type": "code",
   "execution_count": 8,
   "id": "c8f8df9c",
   "metadata": {},
   "outputs": [],
   "source": [
    "#преобразовала поля с датами\n",
    "ab_project_marketing_events['start_dt'] = ab_project_marketing_events['start_dt'].map(\n",
    "    lambda x: dt.datetime.strptime(x, '%Y-%m-%d')\n",
    ")"
   ]
  },
  {
   "cell_type": "code",
   "execution_count": 9,
   "id": "5c838bb3",
   "metadata": {},
   "outputs": [],
   "source": [
    "ab_project_marketing_events['finish_dt'] = ab_project_marketing_events['finish_dt'].map(\n",
    "    lambda x: dt.datetime.strptime(x, '%Y-%m-%d')\n",
    ")"
   ]
  },
  {
   "cell_type": "code",
   "execution_count": 10,
   "id": "87e64c78",
   "metadata": {},
   "outputs": [],
   "source": [
    "final_ab_events['event_dt'] = pd.to_datetime(final_ab_events['event_dt'], format='%Y-%m-%dT%H:%M:%S')"
   ]
  },
  {
   "cell_type": "code",
   "execution_count": 11,
   "id": "97235ed5",
   "metadata": {},
   "outputs": [],
   "source": [
    "final_ab_new_users['first_date'] = final_ab_new_users['first_date'].map(\n",
    "    lambda x: dt.datetime.strptime(x, '%Y-%m-%d')\n",
    ")"
   ]
  },
  {
   "cell_type": "code",
   "execution_count": 12,
   "id": "c9781e7e",
   "metadata": {},
   "outputs": [
    {
     "name": "stdout",
     "output_type": "stream",
     "text": [
      "<class 'pandas.core.frame.DataFrame'>\n",
      "RangeIndex: 14 entries, 0 to 13\n",
      "Data columns (total 4 columns):\n",
      " #   Column     Non-Null Count  Dtype         \n",
      "---  ------     --------------  -----         \n",
      " 0   name       14 non-null     object        \n",
      " 1   regions    14 non-null     object        \n",
      " 2   start_dt   14 non-null     datetime64[ns]\n",
      " 3   finish_dt  14 non-null     datetime64[ns]\n",
      "dtypes: datetime64[ns](2), object(2)\n",
      "memory usage: 576.0+ bytes\n",
      "<class 'pandas.core.frame.DataFrame'>\n",
      "RangeIndex: 440317 entries, 0 to 440316\n",
      "Data columns (total 4 columns):\n",
      " #   Column      Non-Null Count   Dtype         \n",
      "---  ------      --------------   -----         \n",
      " 0   user_id     440317 non-null  object        \n",
      " 1   event_dt    440317 non-null  datetime64[ns]\n",
      " 2   event_name  440317 non-null  object        \n",
      " 3   details     62740 non-null   float64       \n",
      "dtypes: datetime64[ns](1), float64(1), object(2)\n",
      "memory usage: 13.4+ MB\n",
      "<class 'pandas.core.frame.DataFrame'>\n",
      "RangeIndex: 61733 entries, 0 to 61732\n",
      "Data columns (total 4 columns):\n",
      " #   Column      Non-Null Count  Dtype         \n",
      "---  ------      --------------  -----         \n",
      " 0   user_id     61733 non-null  object        \n",
      " 1   first_date  61733 non-null  datetime64[ns]\n",
      " 2   region      61733 non-null  object        \n",
      " 3   device      61733 non-null  object        \n",
      "dtypes: datetime64[ns](1), object(3)\n",
      "memory usage: 1.9+ MB\n",
      "<class 'pandas.core.frame.DataFrame'>\n",
      "RangeIndex: 18268 entries, 0 to 18267\n",
      "Data columns (total 3 columns):\n",
      " #   Column   Non-Null Count  Dtype \n",
      "---  ------   --------------  ----- \n",
      " 0   user_id  18268 non-null  object\n",
      " 1   group    18268 non-null  object\n",
      " 2   ab_test  18268 non-null  object\n",
      "dtypes: object(3)\n",
      "memory usage: 428.3+ KB\n"
     ]
    }
   ],
   "source": [
    "#посмотрела датафреймы после преобразования полей с датами\n",
    "list = ab_project_marketing_events, final_ab_events, final_ab_new_users, final_ab_participants\n",
    "\n",
    "for row in list:\n",
    "    row.info()"
   ]
  },
  {
   "cell_type": "code",
   "execution_count": 13,
   "id": "7d136d88",
   "metadata": {},
   "outputs": [
    {
     "name": "stdout",
     "output_type": "stream",
     "text": [
      "name         0\n",
      "regions      0\n",
      "start_dt     0\n",
      "finish_dt    0\n",
      "dtype: int64\n",
      "user_id            0\n",
      "event_dt           0\n",
      "event_name         0\n",
      "details       377577\n",
      "dtype: int64\n",
      "user_id       0\n",
      "first_date    0\n",
      "region        0\n",
      "device        0\n",
      "dtype: int64\n",
      "user_id    0\n",
      "group      0\n",
      "ab_test    0\n",
      "dtype: int64\n"
     ]
    }
   ],
   "source": [
    "#проверила на пропуски каждый датафрейм\n",
    "list = ab_project_marketing_events, final_ab_events, final_ab_new_users, final_ab_participants\n",
    "\n",
    "for row in list:\n",
    "    print(row.isna().sum())"
   ]
  },
  {
   "cell_type": "markdown",
   "id": "31dfd38b",
   "metadata": {},
   "source": [
    "Пропуски только в датафрейме final_ab_events в поле details"
   ]
  },
  {
   "cell_type": "code",
   "execution_count": 14,
   "id": "8a0bfa64",
   "metadata": {},
   "outputs": [
    {
     "data": {
      "text/html": [
       "<div>\n",
       "<style scoped>\n",
       "    .dataframe tbody tr th:only-of-type {\n",
       "        vertical-align: middle;\n",
       "    }\n",
       "\n",
       "    .dataframe tbody tr th {\n",
       "        vertical-align: top;\n",
       "    }\n",
       "\n",
       "    .dataframe thead th {\n",
       "        text-align: right;\n",
       "    }\n",
       "</style>\n",
       "<table border=\"1\" class=\"dataframe\">\n",
       "  <thead>\n",
       "    <tr style=\"text-align: right;\">\n",
       "      <th></th>\n",
       "      <th>count_nan</th>\n",
       "    </tr>\n",
       "    <tr>\n",
       "      <th>event_name</th>\n",
       "      <th></th>\n",
       "    </tr>\n",
       "  </thead>\n",
       "  <tbody>\n",
       "    <tr>\n",
       "      <th>login</th>\n",
       "      <td>189552</td>\n",
       "    </tr>\n",
       "    <tr>\n",
       "      <th>product_cart</th>\n",
       "      <td>62462</td>\n",
       "    </tr>\n",
       "    <tr>\n",
       "      <th>product_page</th>\n",
       "      <td>125563</td>\n",
       "    </tr>\n",
       "    <tr>\n",
       "      <th>purchase</th>\n",
       "      <td>0</td>\n",
       "    </tr>\n",
       "  </tbody>\n",
       "</table>\n",
       "</div>"
      ],
      "text/plain": [
       "              count_nan\n",
       "event_name             \n",
       "login            189552\n",
       "product_cart      62462\n",
       "product_page     125563\n",
       "purchase              0"
      ]
     },
     "execution_count": 14,
     "metadata": {},
     "output_type": "execute_result"
    }
   ],
   "source": [
    "#дополнительно проверила пропуски в датафрейме final_ab_events в поле details\n",
    "def det (x):\n",
    "    result = {\n",
    "        'count_nan': x['details'].isna().sum()\n",
    "    }\n",
    "    return pd.Series(result)\n",
    "\n",
    "final_ab_events.groupby(['event_name']).apply(det)"
   ]
  },
  {
   "cell_type": "markdown",
   "id": "6f3c054d",
   "metadata": {},
   "source": [
    "Наличие пропусков обусловлено тем, что поле заполняется только при событии purchase"
   ]
  },
  {
   "cell_type": "code",
   "execution_count": 15,
   "id": "bf01b13c",
   "metadata": {},
   "outputs": [
    {
     "name": "stdout",
     "output_type": "stream",
     "text": [
      "Кол-во дубликатов - 0\n",
      "Кол-во дубликатов - 0\n",
      "Кол-во дубликатов - 0\n",
      "Кол-во дубликатов - 0\n"
     ]
    }
   ],
   "source": [
    "#проверила на дубликаты\n",
    "list = ab_project_marketing_events, final_ab_events, final_ab_new_users, final_ab_participants\n",
    "\n",
    "for row in list:\n",
    "    print('Кол-во дубликатов -', row.duplicated().sum())"
   ]
  },
  {
   "cell_type": "markdown",
   "id": "953c621d",
   "metadata": {},
   "source": [
    "Дубликаты отсутствуют"
   ]
  },
  {
   "cell_type": "code",
   "execution_count": 16,
   "id": "d9e5dad3",
   "metadata": {},
   "outputs": [
    {
     "name": "stdout",
     "output_type": "stream",
     "text": [
      "2020-12-07 00:00:33\n",
      "2020-12-30 23:36:33\n"
     ]
    }
   ],
   "source": [
    "#посмотрела минимальный и максимальный день события\n",
    "print(final_ab_events['event_dt'].min())\n",
    "print(final_ab_events['event_dt'].max())"
   ]
  },
  {
   "cell_type": "markdown",
   "id": "abc4d022",
   "metadata": {},
   "source": [
    "Тест закончился раньше, чем предполагалось. AS IS - 4 января, TO BE - 30 декабря. Необходимо предположить с чем связано"
   ]
  },
  {
   "cell_type": "code",
   "execution_count": 17,
   "id": "e7882b0f",
   "metadata": {},
   "outputs": [
    {
     "name": "stdout",
     "output_type": "stream",
     "text": [
      "2020-12-07 00:00:00\n",
      "2020-12-21 00:00:00\n"
     ]
    }
   ],
   "source": [
    "#посмотрела минимальный и максимальный день регистрации\n",
    "users_test = final_ab_participants[final_ab_participants['ab_test'] == 'recommender_system_test']\n",
    "users_test_ab = users_test.merge(final_ab_new_users, on='user_id', how='inner')\n",
    "print(users_test_ab ['first_date'].min())\n",
    "print(users_test_ab ['first_date'].max())"
   ]
  },
  {
   "cell_type": "markdown",
   "id": "73dbd9db",
   "metadata": {},
   "source": [
    "По событию регистрация мы владеем данными с 7.12 по 21.12"
   ]
  },
  {
   "cell_type": "code",
   "execution_count": 18,
   "id": "a958f0cc",
   "metadata": {},
   "outputs": [
    {
     "name": "stdout",
     "output_type": "stream",
     "text": [
      "Кол-во новых пользоватлей из EU, зарегистрированных с 7 декабря по 21 декабря 2020 - 42340\n"
     ]
    }
   ],
   "source": [
    "#проверка условиям ТЗ - 15% новых пользователей из региона EU\n",
    "#считаем кол-во зарегистрированных пользователей с 7.12 по 21.12\n",
    "new_users_eu = final_ab_new_users[(final_ab_new_users['region']=='EU') & (final_ab_new_users['first_date'] <= '2020-12-21')]['user_id'].nunique()\n",
    "print ('Кол-во новых пользоватлей из EU, зарегистрированных с 7 декабря по 21 декабря 2020 -', new_users_eu)"
   ]
  },
  {
   "cell_type": "code",
   "execution_count": 19,
   "id": "8d1ac537",
   "metadata": {},
   "outputs": [
    {
     "data": {
      "text/plain": [
       "array(['recommender_system_test', 'interface_eu_test'], dtype=object)"
      ]
     },
     "execution_count": 19,
     "metadata": {},
     "output_type": "execute_result"
    }
   ],
   "source": [
    "#проверим исходный датафрейм по уникальным значениям тестов\n",
    "final_ab_participants['ab_test'].unique()"
   ]
  },
  {
   "cell_type": "markdown",
   "id": "3996404d",
   "metadata": {},
   "source": [
    "2 теста: interface_eu_test и recommender_system_test"
   ]
  },
  {
   "cell_type": "code",
   "execution_count": 20,
   "id": "2e0f34da",
   "metadata": {},
   "outputs": [
    {
     "name": "stdout",
     "output_type": "stream",
     "text": [
      "Кол-во новых пользователей из EU, которые участвуют в тесте - 6351\n"
     ]
    }
   ],
   "source": [
    "#считаем кол-во участников теста recommender_system_test из EU\n",
    "users_test_ab_eu = users_test_ab[users_test_ab['region'] == 'EU']['user_id'].nunique()\n",
    "print ('Кол-во новых пользователей из EU, которые участвуют в тесте -', users_test_ab_eu)"
   ]
  },
  {
   "cell_type": "code",
   "execution_count": 21,
   "id": "a661e46e",
   "metadata": {},
   "outputs": [
    {
     "name": "stdout",
     "output_type": "stream",
     "text": [
      "Доля пользователей, которые участвует в тесте из EU - 15 %\n"
     ]
    }
   ],
   "source": [
    "print('Доля пользователей, которые участвует в тесте из EU -', round(users_test_ab_eu/new_users_eu * 100), '%')"
   ]
  },
  {
   "cell_type": "markdown",
   "id": "c85fa21a",
   "metadata": {},
   "source": [
    "По условиям ТЗ 15% новых пользователей должны быть из региона EU - соблюдено"
   ]
  },
  {
   "cell_type": "code",
   "execution_count": 22,
   "id": "0c55b09d",
   "metadata": {},
   "outputs": [
    {
     "name": "stdout",
     "output_type": "stream",
     "text": [
      "Кол-во уникальных пользователей в тесте -  6701\n"
     ]
    }
   ],
   "source": [
    "#приступаем к чистке данных\n",
    "print ('Кол-во уникальных пользователей в тесте - ', users_test_ab['user_id'].nunique())"
   ]
  },
  {
   "cell_type": "markdown",
   "id": "98f07236",
   "metadata": {},
   "source": [
    "До очистки кол-во уникальных пользователей в тесте recommender_system_test - 6701"
   ]
  },
  {
   "cell_type": "code",
   "execution_count": 23,
   "id": "5a1187f2",
   "metadata": {},
   "outputs": [
    {
     "data": {
      "text/plain": [
       "group\n",
       "A    3824\n",
       "B    2877\n",
       "Name: user_id, dtype: int64"
      ]
     },
     "execution_count": 23,
     "metadata": {},
     "output_type": "execute_result"
    }
   ],
   "source": [
    "#проверила, что нет пересечений с конкурирующим тестом и нет пользователей, участвующих в двух группах теста одновременно\n",
    "users_test_ab.groupby('group')['user_id'].nunique()"
   ]
  },
  {
   "cell_type": "code",
   "execution_count": 24,
   "id": "881a39e7",
   "metadata": {},
   "outputs": [
    {
     "name": "stdout",
     "output_type": "stream",
     "text": [
      "Группа А больше группы В на - 33 %\n"
     ]
    }
   ],
   "source": [
    "total_A = users_test_ab.query('group == \"A\"')['user_id'].nunique()\n",
    "total_B = users_test_ab.query('group == \"B\"')['user_id'].nunique()\n",
    "print('Группа А больше группы В на -', round(total_A/total_B*100)-100, '%')"
   ]
  },
  {
   "cell_type": "markdown",
   "id": "3c002df5",
   "metadata": {},
   "source": [
    "Между группами нет пересечений, сумма равняется общему количеству пользователей.Они распределены неравномерно, так как группа А на 33% больше группы B"
   ]
  },
  {
   "cell_type": "code",
   "execution_count": 25,
   "id": "0780a673",
   "metadata": {},
   "outputs": [
    {
     "name": "stdout",
     "output_type": "stream",
     "text": [
      "Кол-во пользователей, которые пересекаются с конкурирующим тестом - 1602\n"
     ]
    }
   ],
   "source": [
    "duplicate = (\n",
    "    final_ab_participants.groupby('user_id')\n",
    "    .agg({'ab_test': 'nunique'})\n",
    "    .sort_values(by='ab_test', ascending=False)\n",
    "    .reset_index()\n",
    "    .query('ab_test == 2')\n",
    ")\n",
    "print ('Кол-во пользователей, которые пересекаются с конкурирующим тестом -', duplicate['user_id'].nunique())"
   ]
  },
  {
   "cell_type": "markdown",
   "id": "7ae5285e",
   "metadata": {},
   "source": [
    "1602 пользователя фигурируют в обоих тестах, необходимо удалить их из теста recommender_system_test, так как их поведение нельзя оценивать как релевантное(на поведение может повлиять несколько факторов)"
   ]
  },
  {
   "cell_type": "code",
   "execution_count": 26,
   "id": "936b8622",
   "metadata": {},
   "outputs": [
    {
     "data": {
      "text/plain": [
       "group\n",
       "A    2903\n",
       "B    2196\n",
       "Name: user_id, dtype: int64"
      ]
     },
     "execution_count": 26,
     "metadata": {},
     "output_type": "execute_result"
    }
   ],
   "source": [
    "#удалила пользователей, которые участвуют в двух тестах одновременно и посмотрела распределение\n",
    "users_test_ab_group = (\n",
    "    users_test_ab.query('user_id not in @duplicate[\"user_id\"]')\n",
    "                        .groupby('group')['user_id']\n",
    "                        .nunique()\n",
    ")\n",
    "users_test_ab_group"
   ]
  },
  {
   "cell_type": "code",
   "execution_count": 27,
   "id": "e5653f6f",
   "metadata": {},
   "outputs": [
    {
     "name": "stdout",
     "output_type": "stream",
     "text": [
      "Группа А больше группы В на - 32 %\n"
     ]
    }
   ],
   "source": [
    "total_A_new = users_test_ab.query('user_id not in @duplicate[\"user_id\"] and group==\"A\"')['user_id'].nunique()\n",
    "total_B_new = users_test_ab.query('user_id not in @duplicate[\"user_id\"] and group==\"B\"')['user_id'].nunique()\n",
    "\n",
    "print('Группа А больше группы В на -', round(total_A_new/total_B_new*100)-100, '%')"
   ]
  },
  {
   "cell_type": "markdown",
   "id": "6143319d",
   "metadata": {},
   "source": [
    "Группы распределены неравномерно, группа А больше группа В на 32%. Также после очистки датафрейма от user_id, которые участвуют в конкурирующем тесте, выборка уменьшилась и составляет уже 5099 шт"
   ]
  },
  {
   "cell_type": "code",
   "execution_count": 28,
   "id": "fa3757b2",
   "metadata": {},
   "outputs": [
    {
     "data": {
      "text/html": [
       "<div>\n",
       "<style scoped>\n",
       "    .dataframe tbody tr th:only-of-type {\n",
       "        vertical-align: middle;\n",
       "    }\n",
       "\n",
       "    .dataframe tbody tr th {\n",
       "        vertical-align: top;\n",
       "    }\n",
       "\n",
       "    .dataframe thead th {\n",
       "        text-align: right;\n",
       "    }\n",
       "</style>\n",
       "<table border=\"1\" class=\"dataframe\">\n",
       "  <thead>\n",
       "    <tr style=\"text-align: right;\">\n",
       "      <th></th>\n",
       "      <th>user_id</th>\n",
       "      <th>group</th>\n",
       "      <th>ab_test</th>\n",
       "      <th>first_date</th>\n",
       "      <th>region</th>\n",
       "      <th>device</th>\n",
       "    </tr>\n",
       "  </thead>\n",
       "  <tbody>\n",
       "    <tr>\n",
       "      <th>0</th>\n",
       "      <td>D1ABA3E2887B6A73</td>\n",
       "      <td>A</td>\n",
       "      <td>recommender_system_test</td>\n",
       "      <td>2020-12-07</td>\n",
       "      <td>EU</td>\n",
       "      <td>PC</td>\n",
       "    </tr>\n",
       "    <tr>\n",
       "      <th>1</th>\n",
       "      <td>A7A3664BD6242119</td>\n",
       "      <td>A</td>\n",
       "      <td>recommender_system_test</td>\n",
       "      <td>2020-12-20</td>\n",
       "      <td>EU</td>\n",
       "      <td>iPhone</td>\n",
       "    </tr>\n",
       "    <tr>\n",
       "      <th>4</th>\n",
       "      <td>482F14783456D21B</td>\n",
       "      <td>B</td>\n",
       "      <td>recommender_system_test</td>\n",
       "      <td>2020-12-14</td>\n",
       "      <td>EU</td>\n",
       "      <td>PC</td>\n",
       "    </tr>\n",
       "    <tr>\n",
       "      <th>5</th>\n",
       "      <td>4FF2998A348C484F</td>\n",
       "      <td>A</td>\n",
       "      <td>recommender_system_test</td>\n",
       "      <td>2020-12-20</td>\n",
       "      <td>EU</td>\n",
       "      <td>Mac</td>\n",
       "    </tr>\n",
       "    <tr>\n",
       "      <th>6</th>\n",
       "      <td>7473E0943673C09E</td>\n",
       "      <td>A</td>\n",
       "      <td>recommender_system_test</td>\n",
       "      <td>2020-12-16</td>\n",
       "      <td>EU</td>\n",
       "      <td>iPhone</td>\n",
       "    </tr>\n",
       "    <tr>\n",
       "      <th>...</th>\n",
       "      <td>...</td>\n",
       "      <td>...</td>\n",
       "      <td>...</td>\n",
       "      <td>...</td>\n",
       "      <td>...</td>\n",
       "      <td>...</td>\n",
       "    </tr>\n",
       "    <tr>\n",
       "      <th>6696</th>\n",
       "      <td>053FB26D6D49EDDC</td>\n",
       "      <td>A</td>\n",
       "      <td>recommender_system_test</td>\n",
       "      <td>2020-12-10</td>\n",
       "      <td>N.America</td>\n",
       "      <td>Android</td>\n",
       "    </tr>\n",
       "    <tr>\n",
       "      <th>6697</th>\n",
       "      <td>9D263B8EF15CF188</td>\n",
       "      <td>B</td>\n",
       "      <td>recommender_system_test</td>\n",
       "      <td>2020-12-16</td>\n",
       "      <td>N.America</td>\n",
       "      <td>Mac</td>\n",
       "    </tr>\n",
       "    <tr>\n",
       "      <th>6698</th>\n",
       "      <td>F2FBBA33F37DEC46</td>\n",
       "      <td>A</td>\n",
       "      <td>recommender_system_test</td>\n",
       "      <td>2020-12-18</td>\n",
       "      <td>APAC</td>\n",
       "      <td>Mac</td>\n",
       "    </tr>\n",
       "    <tr>\n",
       "      <th>6699</th>\n",
       "      <td>29C92313A98B1176</td>\n",
       "      <td>B</td>\n",
       "      <td>recommender_system_test</td>\n",
       "      <td>2020-12-07</td>\n",
       "      <td>APAC</td>\n",
       "      <td>Android</td>\n",
       "    </tr>\n",
       "    <tr>\n",
       "      <th>6700</th>\n",
       "      <td>6715343AFBA285AE</td>\n",
       "      <td>B</td>\n",
       "      <td>recommender_system_test</td>\n",
       "      <td>2020-12-07</td>\n",
       "      <td>CIS</td>\n",
       "      <td>Android</td>\n",
       "    </tr>\n",
       "  </tbody>\n",
       "</table>\n",
       "<p>5099 rows × 6 columns</p>\n",
       "</div>"
      ],
      "text/plain": [
       "               user_id group                  ab_test first_date     region  \\\n",
       "0     D1ABA3E2887B6A73     A  recommender_system_test 2020-12-07         EU   \n",
       "1     A7A3664BD6242119     A  recommender_system_test 2020-12-20         EU   \n",
       "4     482F14783456D21B     B  recommender_system_test 2020-12-14         EU   \n",
       "5     4FF2998A348C484F     A  recommender_system_test 2020-12-20         EU   \n",
       "6     7473E0943673C09E     A  recommender_system_test 2020-12-16         EU   \n",
       "...                ...   ...                      ...        ...        ...   \n",
       "6696  053FB26D6D49EDDC     A  recommender_system_test 2020-12-10  N.America   \n",
       "6697  9D263B8EF15CF188     B  recommender_system_test 2020-12-16  N.America   \n",
       "6698  F2FBBA33F37DEC46     A  recommender_system_test 2020-12-18       APAC   \n",
       "6699  29C92313A98B1176     B  recommender_system_test 2020-12-07       APAC   \n",
       "6700  6715343AFBA285AE     B  recommender_system_test 2020-12-07        CIS   \n",
       "\n",
       "       device  \n",
       "0          PC  \n",
       "1      iPhone  \n",
       "4          PC  \n",
       "5         Mac  \n",
       "6      iPhone  \n",
       "...       ...  \n",
       "6696  Android  \n",
       "6697      Mac  \n",
       "6698      Mac  \n",
       "6699  Android  \n",
       "6700  Android  \n",
       "\n",
       "[5099 rows x 6 columns]"
      ]
     },
     "execution_count": 28,
     "metadata": {},
     "output_type": "execute_result"
    }
   ],
   "source": [
    "#подготовила итоговый датафрейм с пользователями после очистки\n",
    "users_test_ab_new =  users_test_ab.query('user_id not in @duplicate[\"user_id\"]')\n",
    "users_test_ab_new"
   ]
  },
  {
   "cell_type": "code",
   "execution_count": 29,
   "id": "bae16aff",
   "metadata": {},
   "outputs": [
    {
     "name": "stdout",
     "output_type": "stream",
     "text": [
      "<class 'pandas.core.frame.DataFrame'>\n",
      "Int64Index: 21115 entries, 0 to 21114\n",
      "Data columns (total 9 columns):\n",
      " #   Column      Non-Null Count  Dtype         \n",
      "---  ------      --------------  -----         \n",
      " 0   user_id     21115 non-null  object        \n",
      " 1   group       21115 non-null  object        \n",
      " 2   ab_test     21115 non-null  object        \n",
      " 3   first_date  21115 non-null  datetime64[ns]\n",
      " 4   region      21115 non-null  object        \n",
      " 5   device      21115 non-null  object        \n",
      " 6   event_dt    18804 non-null  datetime64[ns]\n",
      " 7   event_name  18804 non-null  object        \n",
      " 8   details     2483 non-null   float64       \n",
      "dtypes: datetime64[ns](2), float64(1), object(6)\n",
      "memory usage: 1.6+ MB\n"
     ]
    }
   ],
   "source": [
    "#соединила логи с событиями и итоговый датафрейм с пользователями\n",
    "test_ab_new = users_test_ab_new.merge(final_ab_events, on='user_id', how='left')\n",
    "test_ab_new.info()"
   ]
  },
  {
   "cell_type": "markdown",
   "id": "0cee5183",
   "metadata": {},
   "source": [
    "Пропуски есть в столбцах event_dt и event_name. Означает, что данные клиенты только зарегистрировались, более не выполняли действия или по техническим причинам им не пришел логин/далее не пошли по процессу. Для расчета изначальной воронки будут нам полезны, а также этот факт необходимо зафиксировать в выводах"
   ]
  },
  {
   "cell_type": "code",
   "execution_count": 30,
   "id": "d5907ac1",
   "metadata": {},
   "outputs": [
    {
     "name": "stdout",
     "output_type": "stream",
     "text": [
      "<class 'pandas.core.frame.DataFrame'>\n",
      "Int64Index: 21115 entries, 0 to 21114\n",
      "Data columns (total 9 columns):\n",
      " #   Column      Non-Null Count  Dtype         \n",
      "---  ------      --------------  -----         \n",
      " 0   user_id     21115 non-null  object        \n",
      " 1   group       21115 non-null  object        \n",
      " 2   ab_test     21115 non-null  object        \n",
      " 3   first_date  21115 non-null  datetime64[ns]\n",
      " 4   region      21115 non-null  object        \n",
      " 5   device      21115 non-null  object        \n",
      " 6   event_dt    18804 non-null  datetime64[ns]\n",
      " 7   event_name  21115 non-null  object        \n",
      " 8   details     2483 non-null   float64       \n",
      "dtypes: datetime64[ns](2), float64(1), object(6)\n",
      "memory usage: 1.6+ MB\n"
     ]
    }
   ],
   "source": [
    "#заполнила пропуски в event_name значением registration\n",
    "test_ab_new['event_name'] = test_ab_new['event_name'].fillna('registration')\n",
    "test_ab_new.info()"
   ]
  },
  {
   "cell_type": "markdown",
   "id": "cde05251",
   "metadata": {},
   "source": [
    "Заполнила пропуски в поле event_name значением registration, так как пользователи, которые остановились на регистрации нам тоже полезны"
   ]
  },
  {
   "cell_type": "code",
   "execution_count": 31,
   "id": "229aab76",
   "metadata": {},
   "outputs": [
    {
     "name": "stdout",
     "output_type": "stream",
     "text": [
      "<class 'pandas.core.frame.DataFrame'>\n",
      "Int64Index: 21115 entries, 0 to 21114\n",
      "Data columns (total 9 columns):\n",
      " #   Column      Non-Null Count  Dtype         \n",
      "---  ------      --------------  -----         \n",
      " 0   user_id     21115 non-null  object        \n",
      " 1   group       21115 non-null  object        \n",
      " 2   ab_test     21115 non-null  object        \n",
      " 3   first_date  21115 non-null  datetime64[ns]\n",
      " 4   region      21115 non-null  object        \n",
      " 5   device      21115 non-null  object        \n",
      " 6   event_dt    21115 non-null  datetime64[ns]\n",
      " 7   event_name  21115 non-null  object        \n",
      " 8   details     2483 non-null   float64       \n",
      "dtypes: datetime64[ns](2), float64(1), object(6)\n",
      "memory usage: 1.6+ MB\n"
     ]
    }
   ],
   "source": [
    "#заполнила пропуски в event_dt значением из first_date\n",
    "test_ab_new['event_dt'] = test_ab_new['event_dt'].fillna(test_ab_new['first_date'])\n",
    "test_ab_new.info()"
   ]
  },
  {
   "cell_type": "markdown",
   "id": "d97003d9",
   "metadata": {},
   "source": [
    "Заполнила пропуски в поле event_dt значением из first_date, так как по логам видно, что кроме регистрации, у пользователей событий не было, значит можно смело считать, что first_date = event_dt"
   ]
  },
  {
   "cell_type": "code",
   "execution_count": 32,
   "id": "98f535ce",
   "metadata": {},
   "outputs": [
    {
     "data": {
      "text/html": [
       "<div>\n",
       "<style scoped>\n",
       "    .dataframe tbody tr th:only-of-type {\n",
       "        vertical-align: middle;\n",
       "    }\n",
       "\n",
       "    .dataframe tbody tr th {\n",
       "        vertical-align: top;\n",
       "    }\n",
       "\n",
       "    .dataframe thead th {\n",
       "        text-align: right;\n",
       "    }\n",
       "</style>\n",
       "<table border=\"1\" class=\"dataframe\">\n",
       "  <thead>\n",
       "    <tr style=\"text-align: right;\">\n",
       "      <th></th>\n",
       "      <th>user_id</th>\n",
       "      <th>group</th>\n",
       "      <th>ab_test</th>\n",
       "      <th>first_date</th>\n",
       "      <th>region</th>\n",
       "      <th>device</th>\n",
       "      <th>event_dt</th>\n",
       "      <th>day</th>\n",
       "      <th>event_name</th>\n",
       "      <th>details</th>\n",
       "    </tr>\n",
       "  </thead>\n",
       "  <tbody>\n",
       "    <tr>\n",
       "      <th>0</th>\n",
       "      <td>D1ABA3E2887B6A73</td>\n",
       "      <td>A</td>\n",
       "      <td>recommender_system_test</td>\n",
       "      <td>2020-12-07</td>\n",
       "      <td>EU</td>\n",
       "      <td>PC</td>\n",
       "      <td>2020-12-07 14:43:27</td>\n",
       "      <td>7</td>\n",
       "      <td>purchase</td>\n",
       "      <td>99.99</td>\n",
       "    </tr>\n",
       "    <tr>\n",
       "      <th>1</th>\n",
       "      <td>D1ABA3E2887B6A73</td>\n",
       "      <td>A</td>\n",
       "      <td>recommender_system_test</td>\n",
       "      <td>2020-12-07</td>\n",
       "      <td>EU</td>\n",
       "      <td>PC</td>\n",
       "      <td>2020-12-25 00:04:56</td>\n",
       "      <td>25</td>\n",
       "      <td>purchase</td>\n",
       "      <td>4.99</td>\n",
       "    </tr>\n",
       "    <tr>\n",
       "      <th>2</th>\n",
       "      <td>D1ABA3E2887B6A73</td>\n",
       "      <td>A</td>\n",
       "      <td>recommender_system_test</td>\n",
       "      <td>2020-12-07</td>\n",
       "      <td>EU</td>\n",
       "      <td>PC</td>\n",
       "      <td>2020-12-07 14:43:29</td>\n",
       "      <td>7</td>\n",
       "      <td>product_cart</td>\n",
       "      <td>NaN</td>\n",
       "    </tr>\n",
       "    <tr>\n",
       "      <th>3</th>\n",
       "      <td>D1ABA3E2887B6A73</td>\n",
       "      <td>A</td>\n",
       "      <td>recommender_system_test</td>\n",
       "      <td>2020-12-07</td>\n",
       "      <td>EU</td>\n",
       "      <td>PC</td>\n",
       "      <td>2020-12-25 00:04:57</td>\n",
       "      <td>25</td>\n",
       "      <td>product_cart</td>\n",
       "      <td>NaN</td>\n",
       "    </tr>\n",
       "    <tr>\n",
       "      <th>4</th>\n",
       "      <td>D1ABA3E2887B6A73</td>\n",
       "      <td>A</td>\n",
       "      <td>recommender_system_test</td>\n",
       "      <td>2020-12-07</td>\n",
       "      <td>EU</td>\n",
       "      <td>PC</td>\n",
       "      <td>2020-12-07 14:43:27</td>\n",
       "      <td>7</td>\n",
       "      <td>product_page</td>\n",
       "      <td>NaN</td>\n",
       "    </tr>\n",
       "    <tr>\n",
       "      <th>...</th>\n",
       "      <td>...</td>\n",
       "      <td>...</td>\n",
       "      <td>...</td>\n",
       "      <td>...</td>\n",
       "      <td>...</td>\n",
       "      <td>...</td>\n",
       "      <td>...</td>\n",
       "      <td>...</td>\n",
       "      <td>...</td>\n",
       "      <td>...</td>\n",
       "    </tr>\n",
       "    <tr>\n",
       "      <th>21110</th>\n",
       "      <td>6715343AFBA285AE</td>\n",
       "      <td>B</td>\n",
       "      <td>recommender_system_test</td>\n",
       "      <td>2020-12-07</td>\n",
       "      <td>CIS</td>\n",
       "      <td>Android</td>\n",
       "      <td>2020-12-07 10:12:15</td>\n",
       "      <td>7</td>\n",
       "      <td>login</td>\n",
       "      <td>NaN</td>\n",
       "    </tr>\n",
       "    <tr>\n",
       "      <th>21111</th>\n",
       "      <td>6715343AFBA285AE</td>\n",
       "      <td>B</td>\n",
       "      <td>recommender_system_test</td>\n",
       "      <td>2020-12-07</td>\n",
       "      <td>CIS</td>\n",
       "      <td>Android</td>\n",
       "      <td>2020-12-08 22:51:16</td>\n",
       "      <td>8</td>\n",
       "      <td>login</td>\n",
       "      <td>NaN</td>\n",
       "    </tr>\n",
       "    <tr>\n",
       "      <th>21112</th>\n",
       "      <td>6715343AFBA285AE</td>\n",
       "      <td>B</td>\n",
       "      <td>recommender_system_test</td>\n",
       "      <td>2020-12-07</td>\n",
       "      <td>CIS</td>\n",
       "      <td>Android</td>\n",
       "      <td>2020-12-09 02:28:03</td>\n",
       "      <td>9</td>\n",
       "      <td>login</td>\n",
       "      <td>NaN</td>\n",
       "    </tr>\n",
       "    <tr>\n",
       "      <th>21113</th>\n",
       "      <td>6715343AFBA285AE</td>\n",
       "      <td>B</td>\n",
       "      <td>recommender_system_test</td>\n",
       "      <td>2020-12-07</td>\n",
       "      <td>CIS</td>\n",
       "      <td>Android</td>\n",
       "      <td>2020-12-10 22:55:14</td>\n",
       "      <td>10</td>\n",
       "      <td>login</td>\n",
       "      <td>NaN</td>\n",
       "    </tr>\n",
       "    <tr>\n",
       "      <th>21114</th>\n",
       "      <td>6715343AFBA285AE</td>\n",
       "      <td>B</td>\n",
       "      <td>recommender_system_test</td>\n",
       "      <td>2020-12-07</td>\n",
       "      <td>CIS</td>\n",
       "      <td>Android</td>\n",
       "      <td>2020-12-14 12:40:41</td>\n",
       "      <td>14</td>\n",
       "      <td>login</td>\n",
       "      <td>NaN</td>\n",
       "    </tr>\n",
       "  </tbody>\n",
       "</table>\n",
       "<p>21115 rows × 10 columns</p>\n",
       "</div>"
      ],
      "text/plain": [
       "                user_id group                  ab_test first_date region  \\\n",
       "0      D1ABA3E2887B6A73     A  recommender_system_test 2020-12-07     EU   \n",
       "1      D1ABA3E2887B6A73     A  recommender_system_test 2020-12-07     EU   \n",
       "2      D1ABA3E2887B6A73     A  recommender_system_test 2020-12-07     EU   \n",
       "3      D1ABA3E2887B6A73     A  recommender_system_test 2020-12-07     EU   \n",
       "4      D1ABA3E2887B6A73     A  recommender_system_test 2020-12-07     EU   \n",
       "...                 ...   ...                      ...        ...    ...   \n",
       "21110  6715343AFBA285AE     B  recommender_system_test 2020-12-07    CIS   \n",
       "21111  6715343AFBA285AE     B  recommender_system_test 2020-12-07    CIS   \n",
       "21112  6715343AFBA285AE     B  recommender_system_test 2020-12-07    CIS   \n",
       "21113  6715343AFBA285AE     B  recommender_system_test 2020-12-07    CIS   \n",
       "21114  6715343AFBA285AE     B  recommender_system_test 2020-12-07    CIS   \n",
       "\n",
       "        device            event_dt  day    event_name  details  \n",
       "0           PC 2020-12-07 14:43:27    7      purchase    99.99  \n",
       "1           PC 2020-12-25 00:04:56   25      purchase     4.99  \n",
       "2           PC 2020-12-07 14:43:29    7  product_cart      NaN  \n",
       "3           PC 2020-12-25 00:04:57   25  product_cart      NaN  \n",
       "4           PC 2020-12-07 14:43:27    7  product_page      NaN  \n",
       "...        ...                 ...  ...           ...      ...  \n",
       "21110  Android 2020-12-07 10:12:15    7         login      NaN  \n",
       "21111  Android 2020-12-08 22:51:16    8         login      NaN  \n",
       "21112  Android 2020-12-09 02:28:03    9         login      NaN  \n",
       "21113  Android 2020-12-10 22:55:14   10         login      NaN  \n",
       "21114  Android 2020-12-14 12:40:41   14         login      NaN  \n",
       "\n",
       "[21115 rows x 10 columns]"
      ]
     },
     "execution_count": 32,
     "metadata": {},
     "output_type": "execute_result"
    }
   ],
   "source": [
    "#добавила поле с датами событий\n",
    "test_ab_new.insert(7, 'day', test_ab_new['event_dt'].dt.day, True)\n",
    "test_ab_new"
   ]
  },
  {
   "cell_type": "code",
   "execution_count": 33,
   "id": "b293879c",
   "metadata": {},
   "outputs": [
    {
     "data": {
      "text/plain": [
       "5099"
      ]
     },
     "execution_count": 33,
     "metadata": {},
     "output_type": "execute_result"
    }
   ],
   "source": [
    "#посмотрела, что все 5099 уникальных клиентов фигурируют в итоговом датафрейм с логами\n",
    "total_test = test_ab_new['user_id'].nunique()\n",
    "total_test"
   ]
  },
  {
   "cell_type": "code",
   "execution_count": 34,
   "id": "b61a4c76",
   "metadata": {},
   "outputs": [
    {
     "data": {
      "text/plain": [
       "0"
      ]
     },
     "execution_count": 34,
     "metadata": {},
     "output_type": "execute_result"
    }
   ],
   "source": [
    "#проверила итоговый датафрейм на дубликаты\n",
    "test_ab_new.duplicated().sum()"
   ]
  },
  {
   "cell_type": "code",
   "execution_count": 35,
   "id": "563e876b",
   "metadata": {},
   "outputs": [
    {
     "name": "stdout",
     "output_type": "stream",
     "text": [
      "Всего событий в итоговом датафрейме - 21115\n"
     ]
    }
   ],
   "source": [
    "#посмотрела скоько всего событий в итоговом датафрейме\n",
    "total = test_ab_new['event_name'].count()\n",
    "print('Всего событий в итоговом датафрейме -', total)"
   ]
  },
  {
   "cell_type": "code",
   "execution_count": 36,
   "id": "0e8ae955",
   "metadata": {},
   "outputs": [
    {
     "data": {
      "text/html": [
       "<div>\n",
       "<style scoped>\n",
       "    .dataframe tbody tr th:only-of-type {\n",
       "        vertical-align: middle;\n",
       "    }\n",
       "\n",
       "    .dataframe tbody tr th {\n",
       "        vertical-align: top;\n",
       "    }\n",
       "\n",
       "    .dataframe thead th {\n",
       "        text-align: right;\n",
       "    }\n",
       "</style>\n",
       "<table border=\"1\" class=\"dataframe\">\n",
       "  <thead>\n",
       "    <tr style=\"text-align: right;\">\n",
       "      <th></th>\n",
       "      <th>name</th>\n",
       "      <th>regions</th>\n",
       "      <th>start_dt</th>\n",
       "      <th>finish_dt</th>\n",
       "    </tr>\n",
       "  </thead>\n",
       "  <tbody>\n",
       "    <tr>\n",
       "      <th>6</th>\n",
       "      <td>Chinese New Year Promo</td>\n",
       "      <td>APAC</td>\n",
       "      <td>2020-01-25</td>\n",
       "      <td>2020-02-07</td>\n",
       "    </tr>\n",
       "    <tr>\n",
       "      <th>1</th>\n",
       "      <td>St. Valentine's Day Giveaway</td>\n",
       "      <td>EU, CIS, APAC, N.America</td>\n",
       "      <td>2020-02-14</td>\n",
       "      <td>2020-02-16</td>\n",
       "    </tr>\n",
       "    <tr>\n",
       "      <th>8</th>\n",
       "      <td>International Women's Day Promo</td>\n",
       "      <td>EU, CIS, APAC</td>\n",
       "      <td>2020-03-08</td>\n",
       "      <td>2020-03-10</td>\n",
       "    </tr>\n",
       "    <tr>\n",
       "      <th>2</th>\n",
       "      <td>St. Patric's Day Promo</td>\n",
       "      <td>EU, N.America</td>\n",
       "      <td>2020-03-17</td>\n",
       "      <td>2020-03-19</td>\n",
       "    </tr>\n",
       "    <tr>\n",
       "      <th>3</th>\n",
       "      <td>Easter Promo</td>\n",
       "      <td>EU, CIS, APAC, N.America</td>\n",
       "      <td>2020-04-12</td>\n",
       "      <td>2020-04-19</td>\n",
       "    </tr>\n",
       "    <tr>\n",
       "      <th>7</th>\n",
       "      <td>Labor day (May 1st) Ads Campaign</td>\n",
       "      <td>EU, CIS, APAC</td>\n",
       "      <td>2020-05-01</td>\n",
       "      <td>2020-05-03</td>\n",
       "    </tr>\n",
       "    <tr>\n",
       "      <th>9</th>\n",
       "      <td>Victory Day CIS (May 9th) Event</td>\n",
       "      <td>CIS</td>\n",
       "      <td>2020-05-09</td>\n",
       "      <td>2020-05-11</td>\n",
       "    </tr>\n",
       "    <tr>\n",
       "      <th>11</th>\n",
       "      <td>Dragon Boat Festival Giveaway</td>\n",
       "      <td>APAC</td>\n",
       "      <td>2020-06-25</td>\n",
       "      <td>2020-07-01</td>\n",
       "    </tr>\n",
       "    <tr>\n",
       "      <th>4</th>\n",
       "      <td>4th of July Promo</td>\n",
       "      <td>N.America</td>\n",
       "      <td>2020-07-04</td>\n",
       "      <td>2020-07-11</td>\n",
       "    </tr>\n",
       "    <tr>\n",
       "      <th>13</th>\n",
       "      <td>Chinese Moon Festival</td>\n",
       "      <td>APAC</td>\n",
       "      <td>2020-10-01</td>\n",
       "      <td>2020-10-07</td>\n",
       "    </tr>\n",
       "    <tr>\n",
       "      <th>12</th>\n",
       "      <td>Single's Day Gift Promo</td>\n",
       "      <td>APAC</td>\n",
       "      <td>2020-11-11</td>\n",
       "      <td>2020-11-12</td>\n",
       "    </tr>\n",
       "    <tr>\n",
       "      <th>5</th>\n",
       "      <td>Black Friday Ads Campaign</td>\n",
       "      <td>EU, CIS, APAC, N.America</td>\n",
       "      <td>2020-11-26</td>\n",
       "      <td>2020-12-01</td>\n",
       "    </tr>\n",
       "    <tr>\n",
       "      <th>0</th>\n",
       "      <td>Christmas&amp;New Year Promo</td>\n",
       "      <td>EU, N.America</td>\n",
       "      <td>2020-12-25</td>\n",
       "      <td>2021-01-03</td>\n",
       "    </tr>\n",
       "    <tr>\n",
       "      <th>10</th>\n",
       "      <td>CIS New Year Gift Lottery</td>\n",
       "      <td>CIS</td>\n",
       "      <td>2020-12-30</td>\n",
       "      <td>2021-01-07</td>\n",
       "    </tr>\n",
       "  </tbody>\n",
       "</table>\n",
       "</div>"
      ],
      "text/plain": [
       "                                name                   regions   start_dt  \\\n",
       "6             Chinese New Year Promo                      APAC 2020-01-25   \n",
       "1       St. Valentine's Day Giveaway  EU, CIS, APAC, N.America 2020-02-14   \n",
       "8    International Women's Day Promo             EU, CIS, APAC 2020-03-08   \n",
       "2             St. Patric's Day Promo             EU, N.America 2020-03-17   \n",
       "3                       Easter Promo  EU, CIS, APAC, N.America 2020-04-12   \n",
       "7   Labor day (May 1st) Ads Campaign             EU, CIS, APAC 2020-05-01   \n",
       "9    Victory Day CIS (May 9th) Event                       CIS 2020-05-09   \n",
       "11     Dragon Boat Festival Giveaway                      APAC 2020-06-25   \n",
       "4                  4th of July Promo                 N.America 2020-07-04   \n",
       "13             Chinese Moon Festival                      APAC 2020-10-01   \n",
       "12           Single's Day Gift Promo                      APAC 2020-11-11   \n",
       "5          Black Friday Ads Campaign  EU, CIS, APAC, N.America 2020-11-26   \n",
       "0           Christmas&New Year Promo             EU, N.America 2020-12-25   \n",
       "10         CIS New Year Gift Lottery                       CIS 2020-12-30   \n",
       "\n",
       "    finish_dt  \n",
       "6  2020-02-07  \n",
       "1  2020-02-16  \n",
       "8  2020-03-10  \n",
       "2  2020-03-19  \n",
       "3  2020-04-19  \n",
       "7  2020-05-03  \n",
       "9  2020-05-11  \n",
       "11 2020-07-01  \n",
       "4  2020-07-11  \n",
       "13 2020-10-07  \n",
       "12 2020-11-12  \n",
       "5  2020-12-01  \n",
       "0  2021-01-03  \n",
       "10 2021-01-07  "
      ]
     },
     "execution_count": 36,
     "metadata": {},
     "output_type": "execute_result"
    }
   ],
   "source": [
    "#изучила файл с маркетинговыми активностями\n",
    "ab_project_marketing_events.sort_values(by='start_dt')"
   ]
  },
  {
   "cell_type": "code",
   "execution_count": 37,
   "id": "c7bf5bc8",
   "metadata": {},
   "outputs": [
    {
     "data": {
      "text/html": [
       "<div>\n",
       "<style scoped>\n",
       "    .dataframe tbody tr th:only-of-type {\n",
       "        vertical-align: middle;\n",
       "    }\n",
       "\n",
       "    .dataframe tbody tr th {\n",
       "        vertical-align: top;\n",
       "    }\n",
       "\n",
       "    .dataframe thead th {\n",
       "        text-align: right;\n",
       "    }\n",
       "</style>\n",
       "<table border=\"1\" class=\"dataframe\">\n",
       "  <thead>\n",
       "    <tr style=\"text-align: right;\">\n",
       "      <th></th>\n",
       "      <th>name</th>\n",
       "      <th>regions</th>\n",
       "      <th>start_dt</th>\n",
       "      <th>finish_dt</th>\n",
       "    </tr>\n",
       "  </thead>\n",
       "  <tbody>\n",
       "    <tr>\n",
       "      <th>0</th>\n",
       "      <td>Christmas&amp;New Year Promo</td>\n",
       "      <td>EU, N.America</td>\n",
       "      <td>2020-12-25</td>\n",
       "      <td>2021-01-03</td>\n",
       "    </tr>\n",
       "  </tbody>\n",
       "</table>\n",
       "</div>"
      ],
      "text/plain": [
       "                       name        regions   start_dt  finish_dt\n",
       "0  Christmas&New Year Promo  EU, N.America 2020-12-25 2021-01-03"
      ]
     },
     "execution_count": 37,
     "metadata": {},
     "output_type": "execute_result"
    }
   ],
   "source": [
    "#отфильтровала таблицу ab_project_marketing_events по дате и региону проведения теста (EU)\n",
    "ab_project_marketing_events.query('start_dt >= \"2020-12-07\" and regions.str.contains(\"EU\")')"
   ]
  },
  {
   "cell_type": "markdown",
   "id": "6ef80a27",
   "metadata": {},
   "source": [
    "Во время проведения теста зафиксирована маркетинговая активность Christmas&New Year Promo"
   ]
  },
  {
   "cell_type": "code",
   "execution_count": 38,
   "id": "07d71128",
   "metadata": {
    "scrolled": true
   },
   "outputs": [
    {
     "name": "stdout",
     "output_type": "stream",
     "text": [
      "Всего событий в итоговом датафрейме - 20640\n"
     ]
    }
   ],
   "source": [
    "#удалила события,которые произошли через 14 после регистрации\n",
    "test_ab_new['delta'] = test_ab_new['event_dt'] -  test_ab_new['first_date']\n",
    "d15 = pd.Timedelta(days=15)\n",
    "test_ab_new = test_ab_new[test_ab_new[ 'delta' ] <= d15].copy()\n",
    "print('Всего событий в итоговом датафрейме -', test_ab_new['event_name'].count())"
   ]
  },
  {
   "cell_type": "code",
   "execution_count": 39,
   "id": "cbefb5e1",
   "metadata": {},
   "outputs": [
    {
     "name": "stdout",
     "output_type": "stream",
     "text": [
      "Итоговая потеря данных составила - 2 % , 475\n"
     ]
    }
   ],
   "source": [
    "print('Итоговая потеря данных составила -', round(100-(test_ab_new['event_name'].count()/total*100)),'%', ',', total-test_ab_new['event_name'].count())"
   ]
  },
  {
   "cell_type": "markdown",
   "id": "3feb134a",
   "metadata": {},
   "source": [
    "Итоговая потеря данных составила 2% от изначального кол-ва событий в итоговом датафрейме"
   ]
  },
  {
   "cell_type": "code",
   "execution_count": 40,
   "id": "fb451ace",
   "metadata": {},
   "outputs": [
    {
     "data": {
      "text/html": [
       "<div>\n",
       "<style scoped>\n",
       "    .dataframe tbody tr th:only-of-type {\n",
       "        vertical-align: middle;\n",
       "    }\n",
       "\n",
       "    .dataframe tbody tr th {\n",
       "        vertical-align: top;\n",
       "    }\n",
       "\n",
       "    .dataframe thead th {\n",
       "        text-align: right;\n",
       "    }\n",
       "</style>\n",
       "<table border=\"1\" class=\"dataframe\">\n",
       "  <thead>\n",
       "    <tr style=\"text-align: right;\">\n",
       "      <th></th>\n",
       "      <th>user_id</th>\n",
       "      <th>group</th>\n",
       "      <th>ab_test</th>\n",
       "      <th>first_date</th>\n",
       "      <th>region</th>\n",
       "      <th>device</th>\n",
       "      <th>event_dt</th>\n",
       "      <th>day</th>\n",
       "      <th>event_name</th>\n",
       "      <th>details</th>\n",
       "      <th>delta</th>\n",
       "    </tr>\n",
       "  </thead>\n",
       "  <tbody>\n",
       "    <tr>\n",
       "      <th>14903</th>\n",
       "      <td>6E3DF9C69A6B607E</td>\n",
       "      <td>A</td>\n",
       "      <td>recommender_system_test</td>\n",
       "      <td>2020-12-14</td>\n",
       "      <td>EU</td>\n",
       "      <td>iPhone</td>\n",
       "      <td>2020-12-28 23:22:32</td>\n",
       "      <td>28</td>\n",
       "      <td>product_page</td>\n",
       "      <td>NaN</td>\n",
       "      <td>14 days 23:22:32</td>\n",
       "    </tr>\n",
       "    <tr>\n",
       "      <th>14910</th>\n",
       "      <td>6E3DF9C69A6B607E</td>\n",
       "      <td>A</td>\n",
       "      <td>recommender_system_test</td>\n",
       "      <td>2020-12-14</td>\n",
       "      <td>EU</td>\n",
       "      <td>iPhone</td>\n",
       "      <td>2020-12-28 23:22:32</td>\n",
       "      <td>28</td>\n",
       "      <td>login</td>\n",
       "      <td>NaN</td>\n",
       "      <td>14 days 23:22:32</td>\n",
       "    </tr>\n",
       "    <tr>\n",
       "      <th>14896</th>\n",
       "      <td>6E3DF9C69A6B607E</td>\n",
       "      <td>A</td>\n",
       "      <td>recommender_system_test</td>\n",
       "      <td>2020-12-14</td>\n",
       "      <td>EU</td>\n",
       "      <td>iPhone</td>\n",
       "      <td>2020-12-28 23:22:32</td>\n",
       "      <td>28</td>\n",
       "      <td>product_cart</td>\n",
       "      <td>NaN</td>\n",
       "      <td>14 days 23:22:32</td>\n",
       "    </tr>\n",
       "    <tr>\n",
       "      <th>4289</th>\n",
       "      <td>EAA6967BB9807DF2</td>\n",
       "      <td>A</td>\n",
       "      <td>recommender_system_test</td>\n",
       "      <td>2020-12-08</td>\n",
       "      <td>EU</td>\n",
       "      <td>PC</td>\n",
       "      <td>2020-12-22 22:54:40</td>\n",
       "      <td>22</td>\n",
       "      <td>product_page</td>\n",
       "      <td>NaN</td>\n",
       "      <td>14 days 22:54:40</td>\n",
       "    </tr>\n",
       "    <tr>\n",
       "      <th>4293</th>\n",
       "      <td>EAA6967BB9807DF2</td>\n",
       "      <td>A</td>\n",
       "      <td>recommender_system_test</td>\n",
       "      <td>2020-12-08</td>\n",
       "      <td>EU</td>\n",
       "      <td>PC</td>\n",
       "      <td>2020-12-22 22:54:38</td>\n",
       "      <td>22</td>\n",
       "      <td>login</td>\n",
       "      <td>NaN</td>\n",
       "      <td>14 days 22:54:38</td>\n",
       "    </tr>\n",
       "    <tr>\n",
       "      <th>...</th>\n",
       "      <td>...</td>\n",
       "      <td>...</td>\n",
       "      <td>...</td>\n",
       "      <td>...</td>\n",
       "      <td>...</td>\n",
       "      <td>...</td>\n",
       "      <td>...</td>\n",
       "      <td>...</td>\n",
       "      <td>...</td>\n",
       "      <td>...</td>\n",
       "      <td>...</td>\n",
       "    </tr>\n",
       "    <tr>\n",
       "      <th>19104</th>\n",
       "      <td>08530541B3E53C8A</td>\n",
       "      <td>B</td>\n",
       "      <td>recommender_system_test</td>\n",
       "      <td>2020-12-21</td>\n",
       "      <td>EU</td>\n",
       "      <td>iPhone</td>\n",
       "      <td>2020-12-21 00:00:00</td>\n",
       "      <td>21</td>\n",
       "      <td>registration</td>\n",
       "      <td>NaN</td>\n",
       "      <td>0 days 00:00:00</td>\n",
       "    </tr>\n",
       "    <tr>\n",
       "      <th>19105</th>\n",
       "      <td>3A8B9884EF17D2B3</td>\n",
       "      <td>A</td>\n",
       "      <td>recommender_system_test</td>\n",
       "      <td>2020-12-08</td>\n",
       "      <td>EU</td>\n",
       "      <td>iPhone</td>\n",
       "      <td>2020-12-08 00:00:00</td>\n",
       "      <td>8</td>\n",
       "      <td>registration</td>\n",
       "      <td>NaN</td>\n",
       "      <td>0 days 00:00:00</td>\n",
       "    </tr>\n",
       "    <tr>\n",
       "      <th>19106</th>\n",
       "      <td>E6BD9A774D155DEE</td>\n",
       "      <td>A</td>\n",
       "      <td>recommender_system_test</td>\n",
       "      <td>2020-12-08</td>\n",
       "      <td>EU</td>\n",
       "      <td>PC</td>\n",
       "      <td>2020-12-08 00:00:00</td>\n",
       "      <td>8</td>\n",
       "      <td>registration</td>\n",
       "      <td>NaN</td>\n",
       "      <td>0 days 00:00:00</td>\n",
       "    </tr>\n",
       "    <tr>\n",
       "      <th>19107</th>\n",
       "      <td>53F5CBB3C34747E5</td>\n",
       "      <td>A</td>\n",
       "      <td>recommender_system_test</td>\n",
       "      <td>2020-12-12</td>\n",
       "      <td>EU</td>\n",
       "      <td>iPhone</td>\n",
       "      <td>2020-12-12 00:00:00</td>\n",
       "      <td>12</td>\n",
       "      <td>registration</td>\n",
       "      <td>NaN</td>\n",
       "      <td>0 days 00:00:00</td>\n",
       "    </tr>\n",
       "    <tr>\n",
       "      <th>14872</th>\n",
       "      <td>91476358F67AAE80</td>\n",
       "      <td>B</td>\n",
       "      <td>recommender_system_test</td>\n",
       "      <td>2020-12-15</td>\n",
       "      <td>EU</td>\n",
       "      <td>PC</td>\n",
       "      <td>2020-12-15 00:00:00</td>\n",
       "      <td>15</td>\n",
       "      <td>registration</td>\n",
       "      <td>NaN</td>\n",
       "      <td>0 days 00:00:00</td>\n",
       "    </tr>\n",
       "  </tbody>\n",
       "</table>\n",
       "<p>20640 rows × 11 columns</p>\n",
       "</div>"
      ],
      "text/plain": [
       "                user_id group                  ab_test first_date region  \\\n",
       "14903  6E3DF9C69A6B607E     A  recommender_system_test 2020-12-14     EU   \n",
       "14910  6E3DF9C69A6B607E     A  recommender_system_test 2020-12-14     EU   \n",
       "14896  6E3DF9C69A6B607E     A  recommender_system_test 2020-12-14     EU   \n",
       "4289   EAA6967BB9807DF2     A  recommender_system_test 2020-12-08     EU   \n",
       "4293   EAA6967BB9807DF2     A  recommender_system_test 2020-12-08     EU   \n",
       "...                 ...   ...                      ...        ...    ...   \n",
       "19104  08530541B3E53C8A     B  recommender_system_test 2020-12-21     EU   \n",
       "19105  3A8B9884EF17D2B3     A  recommender_system_test 2020-12-08     EU   \n",
       "19106  E6BD9A774D155DEE     A  recommender_system_test 2020-12-08     EU   \n",
       "19107  53F5CBB3C34747E5     A  recommender_system_test 2020-12-12     EU   \n",
       "14872  91476358F67AAE80     B  recommender_system_test 2020-12-15     EU   \n",
       "\n",
       "       device            event_dt  day    event_name  details            delta  \n",
       "14903  iPhone 2020-12-28 23:22:32   28  product_page      NaN 14 days 23:22:32  \n",
       "14910  iPhone 2020-12-28 23:22:32   28         login      NaN 14 days 23:22:32  \n",
       "14896  iPhone 2020-12-28 23:22:32   28  product_cart      NaN 14 days 23:22:32  \n",
       "4289       PC 2020-12-22 22:54:40   22  product_page      NaN 14 days 22:54:40  \n",
       "4293       PC 2020-12-22 22:54:38   22         login      NaN 14 days 22:54:38  \n",
       "...       ...                 ...  ...           ...      ...              ...  \n",
       "19104  iPhone 2020-12-21 00:00:00   21  registration      NaN  0 days 00:00:00  \n",
       "19105  iPhone 2020-12-08 00:00:00    8  registration      NaN  0 days 00:00:00  \n",
       "19106      PC 2020-12-08 00:00:00    8  registration      NaN  0 days 00:00:00  \n",
       "19107  iPhone 2020-12-12 00:00:00   12  registration      NaN  0 days 00:00:00  \n",
       "14872      PC 2020-12-15 00:00:00   15  registration      NaN  0 days 00:00:00  \n",
       "\n",
       "[20640 rows x 11 columns]"
      ]
     },
     "execution_count": 40,
     "metadata": {},
     "output_type": "execute_result"
    }
   ],
   "source": [
    "#посморела еще раз на новый датафрейм\n",
    "test_ab_new.sort_values(by='delta', ascending=False)"
   ]
  },
  {
   "cell_type": "code",
   "execution_count": 41,
   "id": "d708c7d8",
   "metadata": {},
   "outputs": [
    {
     "data": {
      "text/html": [
       "<div>\n",
       "<style scoped>\n",
       "    .dataframe tbody tr th:only-of-type {\n",
       "        vertical-align: middle;\n",
       "    }\n",
       "\n",
       "    .dataframe tbody tr th {\n",
       "        vertical-align: top;\n",
       "    }\n",
       "\n",
       "    .dataframe thead th {\n",
       "        text-align: right;\n",
       "    }\n",
       "</style>\n",
       "<table border=\"1\" class=\"dataframe\">\n",
       "  <thead>\n",
       "    <tr style=\"text-align: right;\">\n",
       "      <th></th>\n",
       "      <th>user_id</th>\n",
       "      <th>per</th>\n",
       "    </tr>\n",
       "    <tr>\n",
       "      <th>region</th>\n",
       "      <th></th>\n",
       "      <th></th>\n",
       "    </tr>\n",
       "  </thead>\n",
       "  <tbody>\n",
       "    <tr>\n",
       "      <th>EU</th>\n",
       "      <td>4749</td>\n",
       "      <td>93.14</td>\n",
       "    </tr>\n",
       "    <tr>\n",
       "      <th>N.America</th>\n",
       "      <td>223</td>\n",
       "      <td>4.37</td>\n",
       "    </tr>\n",
       "    <tr>\n",
       "      <th>APAC</th>\n",
       "      <td>72</td>\n",
       "      <td>1.41</td>\n",
       "    </tr>\n",
       "    <tr>\n",
       "      <th>CIS</th>\n",
       "      <td>55</td>\n",
       "      <td>1.08</td>\n",
       "    </tr>\n",
       "  </tbody>\n",
       "</table>\n",
       "</div>"
      ],
      "text/plain": [
       "           user_id    per\n",
       "region                   \n",
       "EU            4749  93.14\n",
       "N.America      223   4.37\n",
       "APAC            72   1.41\n",
       "CIS             55   1.08"
      ]
     },
     "execution_count": 41,
     "metadata": {},
     "output_type": "execute_result"
    }
   ],
   "source": [
    "#распределение пользователей теста по региональной принадлежности по очищенным данным\n",
    "region = test_ab_new.groupby('region').agg({'user_id':'nunique'}).sort_values(by='user_id', ascending=False)\n",
    "region['per'] = round(region['user_id']/total_test*100, 2)\n",
    "region"
   ]
  },
  {
   "cell_type": "markdown",
   "id": "ae938d93",
   "metadata": {},
   "source": [
    "Большинство пользователей из EU (93%), 4% - N.America и по 1% - APAC и CIS, удалять пользователей не будем, так как на 7% снизится кол-во ползователей в тесте, тем самым риск \"ложных\" выводов вырастет\t"
   ]
  },
  {
   "cell_type": "markdown",
   "id": "53d5d353",
   "metadata": {},
   "source": [
    "**Промежуточный вывод**\n",
    "\n",
    "1. После чистки пересекающихся id с конкурирующем тестом мы потеряли 24% данных\n",
    "2. Не исключила события, которые произошли во время маркетинговой активности Christmas&New Year Promo, так как не знаем ни деталей проведения маркетинговой кампании, ни сферы работы нашего приложения\n",
    "3. Исключила события, которые совершены через 14 дней после даты регистрации в соответствии с ТЗ\n",
    "4. Итоговая потеря данных составила 2% от изначального кол-ва событий в итоговом датафрейме, в количестве - 475 событий\n",
    "4. Группы А и В после очищения распределены неравномерно, группа А на 32% больше группы B\n",
    "5. Большинство пользователей из EU (93%), 4% - N.America и по 1% - APAC и CIS\t\n",
    "6. Тест закончили раньше, предполагаю из-за праздников\n",
    "7. Не все пункты ТЗ (ниже) предусмотрены, проанализировать результаты можно, но могут быть искажены\n",
    "\n",
    "\n",
    "**Пункты ТЗ**\n",
    "- тест завершен раньше, что влияет на объем данных, дата старта теста не изменилась - соблюдено частично\n",
    "- 15% новых пользователей из региона EU - соблюдено\n",
    "- ожидаемое количество участников теста: 6000 - соблюдено частично из-за очистки. Итоговая выборка состоит из 5 тыс пользователей\n",
    "- ожидаемый эффект: за 14 дней с момента регистрации проверить изменение метрик - соблюдено"
   ]
  },
  {
   "cell_type": "markdown",
   "id": "dc7d66e4",
   "metadata": {},
   "source": [
    "## Иследовательский анализ данных"
   ]
  },
  {
   "cell_type": "code",
   "execution_count": 42,
   "id": "b8fbe2ed",
   "metadata": {},
   "outputs": [
    {
     "data": {
      "text/html": [
       "<div>\n",
       "<style scoped>\n",
       "    .dataframe tbody tr th:only-of-type {\n",
       "        vertical-align: middle;\n",
       "    }\n",
       "\n",
       "    .dataframe tbody tr th {\n",
       "        vertical-align: top;\n",
       "    }\n",
       "\n",
       "    .dataframe thead th {\n",
       "        text-align: right;\n",
       "    }\n",
       "</style>\n",
       "<table border=\"1\" class=\"dataframe\">\n",
       "  <thead>\n",
       "    <tr style=\"text-align: right;\">\n",
       "      <th></th>\n",
       "      <th>event_name</th>\n",
       "    </tr>\n",
       "  </thead>\n",
       "  <tbody>\n",
       "    <tr>\n",
       "      <th>count</th>\n",
       "      <td>2903.000000</td>\n",
       "    </tr>\n",
       "    <tr>\n",
       "      <th>mean</th>\n",
       "      <td>5.263520</td>\n",
       "    </tr>\n",
       "    <tr>\n",
       "      <th>std</th>\n",
       "      <td>4.222507</td>\n",
       "    </tr>\n",
       "    <tr>\n",
       "      <th>min</th>\n",
       "      <td>1.000000</td>\n",
       "    </tr>\n",
       "    <tr>\n",
       "      <th>25%</th>\n",
       "      <td>1.000000</td>\n",
       "    </tr>\n",
       "    <tr>\n",
       "      <th>50%</th>\n",
       "      <td>4.000000</td>\n",
       "    </tr>\n",
       "    <tr>\n",
       "      <th>75%</th>\n",
       "      <td>8.000000</td>\n",
       "    </tr>\n",
       "    <tr>\n",
       "      <th>max</th>\n",
       "      <td>24.000000</td>\n",
       "    </tr>\n",
       "  </tbody>\n",
       "</table>\n",
       "</div>"
      ],
      "text/plain": [
       "        event_name\n",
       "count  2903.000000\n",
       "mean      5.263520\n",
       "std       4.222507\n",
       "min       1.000000\n",
       "25%       1.000000\n",
       "50%       4.000000\n",
       "75%       8.000000\n",
       "max      24.000000"
      ]
     },
     "execution_count": 42,
     "metadata": {},
     "output_type": "execute_result"
    }
   ],
   "source": [
    "#посмотрела распределение кол-во событий на одного пользователя в выборках\n",
    "test_ab_new.query('group == \"A\"').groupby('user_id').agg({'event_name':'count'}).describe()"
   ]
  },
  {
   "cell_type": "code",
   "execution_count": 43,
   "id": "0c845488",
   "metadata": {},
   "outputs": [
    {
     "data": {
      "text/html": [
       "<div>\n",
       "<style scoped>\n",
       "    .dataframe tbody tr th:only-of-type {\n",
       "        vertical-align: middle;\n",
       "    }\n",
       "\n",
       "    .dataframe tbody tr th {\n",
       "        vertical-align: top;\n",
       "    }\n",
       "\n",
       "    .dataframe thead th {\n",
       "        text-align: right;\n",
       "    }\n",
       "</style>\n",
       "<table border=\"1\" class=\"dataframe\">\n",
       "  <thead>\n",
       "    <tr style=\"text-align: right;\">\n",
       "      <th></th>\n",
       "      <th>event_name</th>\n",
       "    </tr>\n",
       "  </thead>\n",
       "  <tbody>\n",
       "    <tr>\n",
       "      <th>count</th>\n",
       "      <td>2196.000000</td>\n",
       "    </tr>\n",
       "    <tr>\n",
       "      <th>mean</th>\n",
       "      <td>2.440801</td>\n",
       "    </tr>\n",
       "    <tr>\n",
       "      <th>std</th>\n",
       "      <td>2.819013</td>\n",
       "    </tr>\n",
       "    <tr>\n",
       "      <th>min</th>\n",
       "      <td>1.000000</td>\n",
       "    </tr>\n",
       "    <tr>\n",
       "      <th>25%</th>\n",
       "      <td>1.000000</td>\n",
       "    </tr>\n",
       "    <tr>\n",
       "      <th>50%</th>\n",
       "      <td>1.000000</td>\n",
       "    </tr>\n",
       "    <tr>\n",
       "      <th>75%</th>\n",
       "      <td>3.000000</td>\n",
       "    </tr>\n",
       "    <tr>\n",
       "      <th>max</th>\n",
       "      <td>24.000000</td>\n",
       "    </tr>\n",
       "  </tbody>\n",
       "</table>\n",
       "</div>"
      ],
      "text/plain": [
       "        event_name\n",
       "count  2196.000000\n",
       "mean      2.440801\n",
       "std       2.819013\n",
       "min       1.000000\n",
       "25%       1.000000\n",
       "50%       1.000000\n",
       "75%       3.000000\n",
       "max      24.000000"
      ]
     },
     "execution_count": 43,
     "metadata": {},
     "output_type": "execute_result"
    }
   ],
   "source": [
    "test_ab_new.query('group == \"B\"').groupby('user_id').agg({'event_name':'count'}).describe()"
   ]
  },
  {
   "cell_type": "markdown",
   "id": "92aacb16",
   "metadata": {},
   "source": [
    "В группе А по среднему значению кол-во событий - 5,2, по медиане - 4\n",
    "\n",
    "В группе В по среднему значению кол-во событий - 2,4, по медиане - 1\n",
    "\n",
    "Говорит о том, что в обоих группах присутствуют выбросы (скорей всего один пользователь совершал несколько покупок), но и распределение по событиям отличаются между группами. \n",
    "\n",
    "За основу будем брать медианное значение: в группе А - 4 события, в группе B - 1 событие. В группе А медиана значительно выше"
   ]
  },
  {
   "cell_type": "code",
   "execution_count": 44,
   "id": "5443b8e0",
   "metadata": {},
   "outputs": [
    {
     "data": {
      "text/html": [
       "<div>\n",
       "<style scoped>\n",
       "    .dataframe tbody tr th:only-of-type {\n",
       "        vertical-align: middle;\n",
       "    }\n",
       "\n",
       "    .dataframe tbody tr th {\n",
       "        vertical-align: top;\n",
       "    }\n",
       "\n",
       "    .dataframe thead th {\n",
       "        text-align: right;\n",
       "    }\n",
       "</style>\n",
       "<table border=\"1\" class=\"dataframe\">\n",
       "  <thead>\n",
       "    <tr style=\"text-align: right;\">\n",
       "      <th></th>\n",
       "      <th>user_id</th>\n",
       "    </tr>\n",
       "    <tr>\n",
       "      <th>event_name</th>\n",
       "      <th></th>\n",
       "    </tr>\n",
       "  </thead>\n",
       "  <tbody>\n",
       "    <tr>\n",
       "      <th>login</th>\n",
       "      <td>8274</td>\n",
       "    </tr>\n",
       "    <tr>\n",
       "      <th>product_page</th>\n",
       "      <td>5158</td>\n",
       "    </tr>\n",
       "    <tr>\n",
       "      <th>product_cart</th>\n",
       "      <td>2473</td>\n",
       "    </tr>\n",
       "    <tr>\n",
       "      <th>purchase</th>\n",
       "      <td>2424</td>\n",
       "    </tr>\n",
       "    <tr>\n",
       "      <th>registration</th>\n",
       "      <td>2311</td>\n",
       "    </tr>\n",
       "  </tbody>\n",
       "</table>\n",
       "</div>"
      ],
      "text/plain": [
       "              user_id\n",
       "event_name           \n",
       "login            8274\n",
       "product_page     5158\n",
       "product_cart     2473\n",
       "purchase         2424\n",
       "registration     2311"
      ]
     },
     "execution_count": 44,
     "metadata": {},
     "output_type": "execute_result"
    }
   ],
   "source": [
    "#посчитала, какие события есть в логах, как часто они встречаются\n",
    "test_ab_new.groupby('event_name').agg({'user_id':'count'}).sort_values(by='user_id', ascending=False)"
   ]
  },
  {
   "cell_type": "markdown",
   "id": "1d56fa42",
   "metadata": {},
   "source": [
    "Надо посмотреть в разрезе уникальных пользователей, здесь вызывает путаницу искусственно добавленный тип события - регистрация.\n",
    "\n",
    "А так больше всего событий с получением логина, далее просмотр карточек, просмотр корзины и на четвертом месте покупка"
   ]
  },
  {
   "cell_type": "code",
   "execution_count": 45,
   "id": "61efa97e",
   "metadata": {},
   "outputs": [
    {
     "data": {
      "text/html": [
       "<div>\n",
       "<style scoped>\n",
       "    .dataframe tbody tr th:only-of-type {\n",
       "        vertical-align: middle;\n",
       "    }\n",
       "\n",
       "    .dataframe tbody tr th {\n",
       "        vertical-align: top;\n",
       "    }\n",
       "\n",
       "    .dataframe thead th {\n",
       "        text-align: right;\n",
       "    }\n",
       "</style>\n",
       "<table border=\"1\" class=\"dataframe\">\n",
       "  <thead>\n",
       "    <tr style=\"text-align: right;\">\n",
       "      <th></th>\n",
       "      <th>event_name</th>\n",
       "      <th>user_id</th>\n",
       "    </tr>\n",
       "  </thead>\n",
       "  <tbody>\n",
       "    <tr>\n",
       "      <th>0</th>\n",
       "      <td>login</td>\n",
       "      <td>2082</td>\n",
       "    </tr>\n",
       "    <tr>\n",
       "      <th>1</th>\n",
       "      <td>product_cart</td>\n",
       "      <td>631</td>\n",
       "    </tr>\n",
       "    <tr>\n",
       "      <th>2</th>\n",
       "      <td>product_page</td>\n",
       "      <td>1360</td>\n",
       "    </tr>\n",
       "    <tr>\n",
       "      <th>3</th>\n",
       "      <td>purchase</td>\n",
       "      <td>652</td>\n",
       "    </tr>\n",
       "    <tr>\n",
       "      <th>4</th>\n",
       "      <td>registration</td>\n",
       "      <td>821</td>\n",
       "    </tr>\n",
       "  </tbody>\n",
       "</table>\n",
       "</div>"
      ],
      "text/plain": [
       "     event_name  user_id\n",
       "0         login     2082\n",
       "1  product_cart      631\n",
       "2  product_page     1360\n",
       "3      purchase      652\n",
       "4  registration      821"
      ]
     },
     "execution_count": 45,
     "metadata": {},
     "output_type": "execute_result"
    }
   ],
   "source": [
    "#посчитала, сколько пользователей совершали каждое из этих событий по группам\n",
    "funnel_A = test_ab_new.query('group == \"A\"').groupby('event_name').agg({'user_id':'nunique'}).reset_index()\n",
    "funnel_A"
   ]
  },
  {
   "cell_type": "markdown",
   "id": "a4bfac41",
   "metadata": {},
   "source": [
    "Необходимо учесть при построении воронки, что по факту зарегистрировалось (тип события регистрация) - 2903. И только 2082 получили логин, посмотрели карточки - 1360, посмотрели корзину - 631 и купили - 652"
   ]
  },
  {
   "cell_type": "code",
   "execution_count": 46,
   "id": "51a5afa4",
   "metadata": {},
   "outputs": [
    {
     "data": {
      "text/html": [
       "<div>\n",
       "<style scoped>\n",
       "    .dataframe tbody tr th:only-of-type {\n",
       "        vertical-align: middle;\n",
       "    }\n",
       "\n",
       "    .dataframe tbody tr th {\n",
       "        vertical-align: top;\n",
       "    }\n",
       "\n",
       "    .dataframe thead th {\n",
       "        text-align: right;\n",
       "    }\n",
       "</style>\n",
       "<table border=\"1\" class=\"dataframe\">\n",
       "  <thead>\n",
       "    <tr style=\"text-align: right;\">\n",
       "      <th></th>\n",
       "      <th>event_name</th>\n",
       "      <th>user_id</th>\n",
       "    </tr>\n",
       "  </thead>\n",
       "  <tbody>\n",
       "    <tr>\n",
       "      <th>4</th>\n",
       "      <td>registration</td>\n",
       "      <td>2903</td>\n",
       "    </tr>\n",
       "    <tr>\n",
       "      <th>0</th>\n",
       "      <td>login</td>\n",
       "      <td>2082</td>\n",
       "    </tr>\n",
       "    <tr>\n",
       "      <th>2</th>\n",
       "      <td>product_page</td>\n",
       "      <td>1360</td>\n",
       "    </tr>\n",
       "    <tr>\n",
       "      <th>1</th>\n",
       "      <td>product_cart</td>\n",
       "      <td>631</td>\n",
       "    </tr>\n",
       "    <tr>\n",
       "      <th>3</th>\n",
       "      <td>purchase</td>\n",
       "      <td>652</td>\n",
       "    </tr>\n",
       "  </tbody>\n",
       "</table>\n",
       "</div>"
      ],
      "text/plain": [
       "     event_name  user_id\n",
       "4  registration     2903\n",
       "0         login     2082\n",
       "2  product_page     1360\n",
       "1  product_cart      631\n",
       "3      purchase      652"
      ]
     },
     "execution_count": 46,
     "metadata": {},
     "output_type": "execute_result"
    }
   ],
   "source": [
    "funnel_A.loc[4, 'user_id'] = 2903\n",
    "funnel_A = funnel_A.reindex([4, 0, 2, 1, 3])\n",
    "funnel_A"
   ]
  },
  {
   "cell_type": "code",
   "execution_count": 47,
   "id": "d9d35466",
   "metadata": {},
   "outputs": [
    {
     "data": {
      "image/png": "[encoded data removed]",
      "text/plain": [
       "<Figure size 1080x720 with 1 Axes>"
      ]
     },
     "metadata": {},
     "output_type": "display_data"
    }
   ],
   "source": [
    "sns.barplot(data=funnel_A, x='event_name', y='user_id')\n",
    "plt.title('Воронка группы А')\n",
    "plt.xlabel('events')\n",
    "plt.ylabel('cnt_events')\n",
    "plt.show()"
   ]
  },
  {
   "cell_type": "markdown",
   "id": "8c471aae",
   "metadata": {},
   "source": [
    "Итоговая воронка по группе А - готова. Обратите внимание, что у события просмотр корзины значение меньше, чем у события покупка. Скорей всего связано с наличием обходного пути оплаты покупки, без участия корзины"
   ]
  },
  {
   "cell_type": "code",
   "execution_count": 48,
   "id": "a93c17fd",
   "metadata": {},
   "outputs": [
    {
     "data": {
      "text/html": [
       "<div>\n",
       "<style scoped>\n",
       "    .dataframe tbody tr th:only-of-type {\n",
       "        vertical-align: middle;\n",
       "    }\n",
       "\n",
       "    .dataframe tbody tr th {\n",
       "        vertical-align: top;\n",
       "    }\n",
       "\n",
       "    .dataframe thead th {\n",
       "        text-align: right;\n",
       "    }\n",
       "</style>\n",
       "<table border=\"1\" class=\"dataframe\">\n",
       "  <thead>\n",
       "    <tr style=\"text-align: right;\">\n",
       "      <th></th>\n",
       "      <th>event_name</th>\n",
       "      <th>user_id</th>\n",
       "      <th>ratio_first</th>\n",
       "      <th>ratio_prev</th>\n",
       "    </tr>\n",
       "  </thead>\n",
       "  <tbody>\n",
       "    <tr>\n",
       "      <th>4</th>\n",
       "      <td>registration</td>\n",
       "      <td>2903</td>\n",
       "      <td>100.00</td>\n",
       "      <td>inf</td>\n",
       "    </tr>\n",
       "    <tr>\n",
       "      <th>0</th>\n",
       "      <td>login</td>\n",
       "      <td>2082</td>\n",
       "      <td>71.72</td>\n",
       "      <td>71.72</td>\n",
       "    </tr>\n",
       "    <tr>\n",
       "      <th>2</th>\n",
       "      <td>product_page</td>\n",
       "      <td>1360</td>\n",
       "      <td>46.85</td>\n",
       "      <td>65.32</td>\n",
       "    </tr>\n",
       "    <tr>\n",
       "      <th>1</th>\n",
       "      <td>product_cart</td>\n",
       "      <td>631</td>\n",
       "      <td>21.74</td>\n",
       "      <td>46.40</td>\n",
       "    </tr>\n",
       "    <tr>\n",
       "      <th>3</th>\n",
       "      <td>purchase</td>\n",
       "      <td>652</td>\n",
       "      <td>22.46</td>\n",
       "      <td>103.33</td>\n",
       "    </tr>\n",
       "  </tbody>\n",
       "</table>\n",
       "</div>"
      ],
      "text/plain": [
       "     event_name  user_id  ratio_first  ratio_prev\n",
       "4  registration     2903       100.00         inf\n",
       "0         login     2082        71.72       71.72\n",
       "2  product_page     1360        46.85       65.32\n",
       "1  product_cart      631        21.74       46.40\n",
       "3      purchase      652        22.46      103.33"
      ]
     },
     "execution_count": 48,
     "metadata": {},
     "output_type": "execute_result"
    }
   ],
   "source": [
    "#посчитала конверсию к первому шагу и предыдущему\n",
    "funnel_A['ratio_first'] = round(funnel_A['user_id']/total_A_new*100,2)\n",
    "funnel_A['ratio_prev'] = round(funnel_A['user_id']/funnel_A['user_id'].shift(1, fill_value=0)*100,2)\n",
    "funnel_A"
   ]
  },
  {
   "cell_type": "markdown",
   "id": "6b230362",
   "metadata": {},
   "source": [
    "Узкие места\n",
    "\n",
    "1. Конверсия к перовому шагу: получение логина и просмотр карточек\n",
    "2. Конверсия к предыдущему шагу: просмотр корзины, но не забываем, что есть обходной путь оплаты покупки"
   ]
  },
  {
   "cell_type": "code",
   "execution_count": 49,
   "id": "cf9b1721",
   "metadata": {},
   "outputs": [
    {
     "data": {
      "text/html": [
       "<div>\n",
       "<style scoped>\n",
       "    .dataframe tbody tr th:only-of-type {\n",
       "        vertical-align: middle;\n",
       "    }\n",
       "\n",
       "    .dataframe tbody tr th {\n",
       "        vertical-align: top;\n",
       "    }\n",
       "\n",
       "    .dataframe thead th {\n",
       "        text-align: right;\n",
       "    }\n",
       "</style>\n",
       "<table border=\"1\" class=\"dataframe\">\n",
       "  <thead>\n",
       "    <tr style=\"text-align: right;\">\n",
       "      <th></th>\n",
       "      <th>event_name</th>\n",
       "      <th>user_id</th>\n",
       "    </tr>\n",
       "  </thead>\n",
       "  <tbody>\n",
       "    <tr>\n",
       "      <th>0</th>\n",
       "      <td>login</td>\n",
       "      <td>705</td>\n",
       "    </tr>\n",
       "    <tr>\n",
       "      <th>1</th>\n",
       "      <td>product_cart</td>\n",
       "      <td>195</td>\n",
       "    </tr>\n",
       "    <tr>\n",
       "      <th>2</th>\n",
       "      <td>product_page</td>\n",
       "      <td>397</td>\n",
       "    </tr>\n",
       "    <tr>\n",
       "      <th>3</th>\n",
       "      <td>purchase</td>\n",
       "      <td>198</td>\n",
       "    </tr>\n",
       "    <tr>\n",
       "      <th>4</th>\n",
       "      <td>registration</td>\n",
       "      <td>1490</td>\n",
       "    </tr>\n",
       "  </tbody>\n",
       "</table>\n",
       "</div>"
      ],
      "text/plain": [
       "     event_name  user_id\n",
       "0         login      705\n",
       "1  product_cart      195\n",
       "2  product_page      397\n",
       "3      purchase      198\n",
       "4  registration     1490"
      ]
     },
     "execution_count": 49,
     "metadata": {},
     "output_type": "execute_result"
    }
   ],
   "source": [
    "funnel_B = test_ab_new.query('group == \"B\"').groupby('event_name').agg({'user_id':'nunique'}).reset_index()\n",
    "funnel_B"
   ]
  },
  {
   "cell_type": "markdown",
   "id": "4b7a5762",
   "metadata": {},
   "source": [
    "необходимо учесть при построении воронки, что по факту зарегистрировалось - 2196. И только 755 получили логин, посмотрели карточки - 397, посмотрели корзину - 195 и купили - 198"
   ]
  },
  {
   "cell_type": "code",
   "execution_count": 50,
   "id": "27254165",
   "metadata": {},
   "outputs": [
    {
     "data": {
      "text/html": [
       "<div>\n",
       "<style scoped>\n",
       "    .dataframe tbody tr th:only-of-type {\n",
       "        vertical-align: middle;\n",
       "    }\n",
       "\n",
       "    .dataframe tbody tr th {\n",
       "        vertical-align: top;\n",
       "    }\n",
       "\n",
       "    .dataframe thead th {\n",
       "        text-align: right;\n",
       "    }\n",
       "</style>\n",
       "<table border=\"1\" class=\"dataframe\">\n",
       "  <thead>\n",
       "    <tr style=\"text-align: right;\">\n",
       "      <th></th>\n",
       "      <th>event_name</th>\n",
       "      <th>user_id</th>\n",
       "    </tr>\n",
       "  </thead>\n",
       "  <tbody>\n",
       "    <tr>\n",
       "      <th>4</th>\n",
       "      <td>registration</td>\n",
       "      <td>2196</td>\n",
       "    </tr>\n",
       "    <tr>\n",
       "      <th>0</th>\n",
       "      <td>login</td>\n",
       "      <td>705</td>\n",
       "    </tr>\n",
       "    <tr>\n",
       "      <th>2</th>\n",
       "      <td>product_page</td>\n",
       "      <td>397</td>\n",
       "    </tr>\n",
       "    <tr>\n",
       "      <th>1</th>\n",
       "      <td>product_cart</td>\n",
       "      <td>195</td>\n",
       "    </tr>\n",
       "    <tr>\n",
       "      <th>3</th>\n",
       "      <td>purchase</td>\n",
       "      <td>198</td>\n",
       "    </tr>\n",
       "  </tbody>\n",
       "</table>\n",
       "</div>"
      ],
      "text/plain": [
       "     event_name  user_id\n",
       "4  registration     2196\n",
       "0         login      705\n",
       "2  product_page      397\n",
       "1  product_cart      195\n",
       "3      purchase      198"
      ]
     },
     "execution_count": 50,
     "metadata": {},
     "output_type": "execute_result"
    }
   ],
   "source": [
    "funnel_B.loc[4, 'user_id'] = 2196\n",
    "funnel_B = funnel_B.reindex([4, 0, 2, 1, 3])\n",
    "funnel_B"
   ]
  },
  {
   "cell_type": "code",
   "execution_count": 51,
   "id": "07fed31a",
   "metadata": {},
   "outputs": [
    {
     "data": {
      "image/png": "[encoded data removed]",
      "text/plain": [
       "<Figure size 1080x720 with 1 Axes>"
      ]
     },
     "metadata": {},
     "output_type": "display_data"
    }
   ],
   "source": [
    "sns.barplot(data=funnel_B, x='event_name', y='user_id')\n",
    "plt.title('Воронка группы B')\n",
    "plt.xlabel('events')\n",
    "plt.ylabel('cnt_events')\n",
    "plt.show()"
   ]
  },
  {
   "cell_type": "markdown",
   "id": "6c83d00b",
   "metadata": {},
   "source": [
    "Итоговая воронка по группе B - готова. Обратите внимание, что у события просмотр корзины значение меньше, чем у события покупка. Скорей всего связано с наличием обходного пути оплаты покупки, без участия корзины"
   ]
  },
  {
   "cell_type": "code",
   "execution_count": 52,
   "id": "eee41ef9",
   "metadata": {},
   "outputs": [
    {
     "data": {
      "text/html": [
       "<div>\n",
       "<style scoped>\n",
       "    .dataframe tbody tr th:only-of-type {\n",
       "        vertical-align: middle;\n",
       "    }\n",
       "\n",
       "    .dataframe tbody tr th {\n",
       "        vertical-align: top;\n",
       "    }\n",
       "\n",
       "    .dataframe thead th {\n",
       "        text-align: right;\n",
       "    }\n",
       "</style>\n",
       "<table border=\"1\" class=\"dataframe\">\n",
       "  <thead>\n",
       "    <tr style=\"text-align: right;\">\n",
       "      <th></th>\n",
       "      <th>event_name</th>\n",
       "      <th>user_id</th>\n",
       "      <th>ratio_first</th>\n",
       "      <th>ratio_prev</th>\n",
       "    </tr>\n",
       "  </thead>\n",
       "  <tbody>\n",
       "    <tr>\n",
       "      <th>4</th>\n",
       "      <td>registration</td>\n",
       "      <td>2196</td>\n",
       "      <td>100.00</td>\n",
       "      <td>inf</td>\n",
       "    </tr>\n",
       "    <tr>\n",
       "      <th>0</th>\n",
       "      <td>login</td>\n",
       "      <td>705</td>\n",
       "      <td>32.10</td>\n",
       "      <td>32.10</td>\n",
       "    </tr>\n",
       "    <tr>\n",
       "      <th>2</th>\n",
       "      <td>product_page</td>\n",
       "      <td>397</td>\n",
       "      <td>18.08</td>\n",
       "      <td>56.31</td>\n",
       "    </tr>\n",
       "    <tr>\n",
       "      <th>1</th>\n",
       "      <td>product_cart</td>\n",
       "      <td>195</td>\n",
       "      <td>8.88</td>\n",
       "      <td>49.12</td>\n",
       "    </tr>\n",
       "    <tr>\n",
       "      <th>3</th>\n",
       "      <td>purchase</td>\n",
       "      <td>198</td>\n",
       "      <td>9.02</td>\n",
       "      <td>101.54</td>\n",
       "    </tr>\n",
       "  </tbody>\n",
       "</table>\n",
       "</div>"
      ],
      "text/plain": [
       "     event_name  user_id  ratio_first  ratio_prev\n",
       "4  registration     2196       100.00         inf\n",
       "0         login      705        32.10       32.10\n",
       "2  product_page      397        18.08       56.31\n",
       "1  product_cart      195         8.88       49.12\n",
       "3      purchase      198         9.02      101.54"
      ]
     },
     "execution_count": 52,
     "metadata": {},
     "output_type": "execute_result"
    }
   ],
   "source": [
    "#посчитала конверсию к первому шагу и предыдущему\n",
    "funnel_B['ratio_first'] = round(funnel_B['user_id']/total_B_new*100,2)\n",
    "funnel_B['ratio_prev'] = round(funnel_B['user_id']/funnel_B['user_id'].shift(1, fill_value=0)*100,2)\n",
    "funnel_B"
   ]
  },
  {
   "cell_type": "markdown",
   "id": "a43deab6",
   "metadata": {},
   "source": [
    "Отвратительная воронка, на каждом шаге узкое место, есть предположение, что при настройке новой платежной воронки сломали весь функционал"
   ]
  },
  {
   "cell_type": "code",
   "execution_count": 53,
   "id": "36494866",
   "metadata": {},
   "outputs": [
    {
     "data": {
      "image/png": "[encoded data removed]"
     },
     "metadata": {},
     "output_type": "display_data"
    }
   ],
   "source": [
    "#посмотрела как число событий в выборках распределено по дням между группами\n",
    "test_ab_new_cnt = (\n",
    "    test_ab_new.groupby(['day', 'group'])\n",
    "    .agg({'event_name':'count'}\n",
    "    )\n",
    "    .reset_index()\n",
    "    .sort_values(by='event_name', ascending=False)\n",
    ")\n",
    "test_ab_new_cnt.columns = ['day', 'group', 'cnt_events']\n",
    "\n",
    "fig = px.bar(\n",
    "    test_ab_new_cnt, \n",
    "    x='day', \n",
    "    y='cnt_events', \n",
    "    color='group', \n",
    "    barmode='overlay', \n",
    "    text='cnt_events',\n",
    "    title='Распределение кол-ва событий по дням в разрезе групп'\n",
    ")\n",
    "fig.show()"
   ]
  },
  {
   "cell_type": "markdown",
   "id": "072ae34e",
   "metadata": {},
   "source": [
    "Значительная динамика роста начинается с 15 числа и заканчивается 21, далее спад. Теперь понятно почему тест был завершен 30 числа, так как не было необходимости далее продолжать тест, кол-во событий снижалось. Плюс группа А лидировала на протяжении всего теста, группа B в итоге оказалось неэффективной"
   ]
  },
  {
   "cell_type": "code",
   "execution_count": 54,
   "id": "1cebbaa1",
   "metadata": {},
   "outputs": [
    {
     "data": {
      "image/png": "[encoded data removed]"
     },
     "metadata": {},
     "output_type": "display_data"
    }
   ],
   "source": [
    "fig = go.Figure()\n",
    "\n",
    "fig.add_trace(go.Funnel(name='Группа А',\n",
    "                        y=funnel_A['event_name'],\n",
    "                        x=funnel_A['user_id'],\n",
    "                        textinfo=\"value+percent initial+percent previous\"))\n",
    "\n",
    "fig.add_trace(go.Funnel(name='Группа B',\n",
    "                        y=funnel_B['event_name'],\n",
    "                        x=funnel_B['user_id'],\n",
    "                        textinfo=\"value+percent initial+percent previous\"))\n",
    "fig.update_layout(title='Воронка событий',\n",
    "                 yaxis_title='events')\n",
    "    \n",
    "fig.show()"
   ]
  },
  {
   "cell_type": "code",
   "execution_count": 55,
   "id": "6f0c92df",
   "metadata": {},
   "outputs": [
    {
     "name": "stdout",
     "output_type": "stream",
     "text": [
      "Кол-во пользователей, которые только зарегистрировались - 2311\n",
      "Доля участников в общем кол-ве - 45.32\n"
     ]
    }
   ],
   "source": [
    "#проанализировала пользователей, которые не совершали событий после регистрации\n",
    "reg = test_ab_new.query('event_name == \"registration\"')['user_id'].nunique()\n",
    "total = test_ab_new['user_id'].nunique()\n",
    "print('Кол-во пользователей, которые только зарегистрировались -', reg)\n",
    "print('Доля участников в общем кол-ве -', round(reg/total*100, 2))"
   ]
  },
  {
   "cell_type": "code",
   "execution_count": 56,
   "id": "8934ed32",
   "metadata": {},
   "outputs": [
    {
     "data": {
      "text/plain": [
       "group\n",
       "A     821\n",
       "B    1490\n",
       "Name: user_id, dtype: int64"
      ]
     },
     "execution_count": 56,
     "metadata": {},
     "output_type": "execute_result"
    }
   ],
   "source": [
    "test_ab_new.query('event_name == \"registration\"').groupby('group')['user_id'].nunique()"
   ]
  },
  {
   "cell_type": "code",
   "execution_count": 57,
   "id": "945f4594",
   "metadata": {},
   "outputs": [
    {
     "data": {
      "image/png": "[encoded data removed]"
     },
     "metadata": {},
     "output_type": "display_data"
    }
   ],
   "source": [
    "reg_fig = (\n",
    "    test_ab_new.query('event_name == \"registration\"')\n",
    "    .groupby(['event_dt', 'group'])\n",
    "    .agg({'user_id':'nunique'})\n",
    "    .reset_index()\n",
    "    .sort_values(by='user_id', ascending=False)\n",
    ")\n",
    "\n",
    "reg_fig.columns = ['day', 'group', 'сnt_user_id']\n",
    "\n",
    "fig = px.bar(\n",
    "    reg_fig, \n",
    "    x='day', \n",
    "    y='сnt_user_id', \n",
    "    color='group', \n",
    "    barmode='overlay', \n",
    "    text='сnt_user_id',\n",
    "    title='Распределение пользователей, которые только зарегистрировались'\n",
    ")\n",
    "fig.show()"
   ]
  },
  {
   "cell_type": "code",
   "execution_count": 58,
   "id": "f23e441d",
   "metadata": {},
   "outputs": [
    {
     "data": {
      "text/html": [
       "<div>\n",
       "<style scoped>\n",
       "    .dataframe tbody tr th:only-of-type {\n",
       "        vertical-align: middle;\n",
       "    }\n",
       "\n",
       "    .dataframe tbody tr th {\n",
       "        vertical-align: top;\n",
       "    }\n",
       "\n",
       "    .dataframe thead th {\n",
       "        text-align: right;\n",
       "    }\n",
       "</style>\n",
       "<table border=\"1\" class=\"dataframe\">\n",
       "  <thead>\n",
       "    <tr style=\"text-align: right;\">\n",
       "      <th></th>\n",
       "      <th>region</th>\n",
       "      <th>user_id</th>\n",
       "    </tr>\n",
       "  </thead>\n",
       "  <tbody>\n",
       "    <tr>\n",
       "      <th>2</th>\n",
       "      <td>EU</td>\n",
       "      <td>2155</td>\n",
       "    </tr>\n",
       "    <tr>\n",
       "      <th>3</th>\n",
       "      <td>N.America</td>\n",
       "      <td>104</td>\n",
       "    </tr>\n",
       "    <tr>\n",
       "      <th>0</th>\n",
       "      <td>APAC</td>\n",
       "      <td>27</td>\n",
       "    </tr>\n",
       "    <tr>\n",
       "      <th>1</th>\n",
       "      <td>CIS</td>\n",
       "      <td>25</td>\n",
       "    </tr>\n",
       "  </tbody>\n",
       "</table>\n",
       "</div>"
      ],
      "text/plain": [
       "      region  user_id\n",
       "2         EU     2155\n",
       "3  N.America      104\n",
       "0       APAC       27\n",
       "1        CIS       25"
      ]
     },
     "execution_count": 58,
     "metadata": {},
     "output_type": "execute_result"
    }
   ],
   "source": [
    "(\n",
    "    test_ab_new.query('event_name == \"registration\"')\n",
    "    .groupby(['region'])\n",
    "    .agg({'user_id':'nunique'})\n",
    "    .reset_index()\n",
    "    .sort_values(by='user_id', ascending=False)\n",
    ")"
   ]
  },
  {
   "cell_type": "markdown",
   "id": "7f75ceec",
   "metadata": {},
   "source": [
    "**Промежуточный вывод**\n",
    "\n",
    "1. 45% пользователей от всех участников теста только зарегистрировались\n",
    "2. 70% пользователей из группы B\n",
    "3. после 14 числа концентрация подобных клиентов осталась только в группе В\n",
    "4. Почти все пользователи из EU"
   ]
  },
  {
   "cell_type": "markdown",
   "id": "e553c90c",
   "metadata": {},
   "source": [
    "**Промежуточный вывод**\n",
    "1.\tНа протяжении теста лидировала группа А, как по конверсии, так и по кол-ву событий. Группа В оказалась неэффективной - показатели по конверсии и кол-ву событий ниже в несколько раз относительно контрольной группы А\n",
    "2.\tТест закончен раньше из-за снижения активности пользователей\n",
    "3.  45% пользователей от всех участников теста только зарегистрировались\n",
    "4.  Тест можно считать провальным\n",
    "\n",
    "**Особенности, которые необходимо учесть прежде, чем приступать к A/B-тестированию**\n",
    "1. Исходные данные частично соответствуют условиям ТЗ\n",
    "2. Группа А эффективнее в несколько раз, чем группа B\n",
    "3. При расчете конверсии важно учесть, что покупки могут проходить без перехода в корзину"
   ]
  },
  {
   "cell_type": "markdown",
   "id": "ebd7dc3c",
   "metadata": {},
   "source": [
    "## Оценка результата A/B-тестирования"
   ]
  },
  {
   "cell_type": "markdown",
   "id": "3767fecf",
   "metadata": {},
   "source": [
    "**Z-тест для пропорций**\n",
    "\n",
    "**H_0**: Доля конверсии группы А по каждому этапу =  Доле конверсии группы В по каждому этапу\n",
    "\n",
    "**H_1**: Доля конверсии группы А по каждому этапу ≠ Доле конверсии группы B по каждому этапу\n",
    "\n",
    "alpha = 0.05"
   ]
  },
  {
   "cell_type": "code",
   "execution_count": 59,
   "id": "558518e9",
   "metadata": {},
   "outputs": [
    {
     "data": {
      "text/plain": [
       "group\n",
       "A        2903\n",
       "B        2196\n",
       "total    5099\n",
       "Name: user_id, dtype: int64"
      ]
     },
     "execution_count": 59,
     "metadata": {},
     "output_type": "execute_result"
    }
   ],
   "source": [
    "#проверила статистическую разницу долей z-критерием\n",
    "users_test_ab_group['total'] = users_test_ab_group['A'] + users_test_ab_group['B']\n",
    "users_test_ab_group"
   ]
  },
  {
   "cell_type": "code",
   "execution_count": 60,
   "id": "cac1f555",
   "metadata": {},
   "outputs": [
    {
     "data": {
      "text/html": [
       "<div>\n",
       "<style scoped>\n",
       "    .dataframe tbody tr th:only-of-type {\n",
       "        vertical-align: middle;\n",
       "    }\n",
       "\n",
       "    .dataframe tbody tr th {\n",
       "        vertical-align: top;\n",
       "    }\n",
       "\n",
       "    .dataframe thead th {\n",
       "        text-align: right;\n",
       "    }\n",
       "</style>\n",
       "<table border=\"1\" class=\"dataframe\">\n",
       "  <thead>\n",
       "    <tr style=\"text-align: right;\">\n",
       "      <th></th>\n",
       "      <th>event_name</th>\n",
       "      <th>A</th>\n",
       "      <th>B</th>\n",
       "      <th>total</th>\n",
       "    </tr>\n",
       "  </thead>\n",
       "  <tbody>\n",
       "    <tr>\n",
       "      <th>0</th>\n",
       "      <td>login</td>\n",
       "      <td>2082</td>\n",
       "      <td>705</td>\n",
       "      <td>2787</td>\n",
       "    </tr>\n",
       "    <tr>\n",
       "      <th>1</th>\n",
       "      <td>product_page</td>\n",
       "      <td>1360</td>\n",
       "      <td>397</td>\n",
       "      <td>1757</td>\n",
       "    </tr>\n",
       "    <tr>\n",
       "      <th>2</th>\n",
       "      <td>product_cart</td>\n",
       "      <td>631</td>\n",
       "      <td>195</td>\n",
       "      <td>826</td>\n",
       "    </tr>\n",
       "    <tr>\n",
       "      <th>3</th>\n",
       "      <td>purchase</td>\n",
       "      <td>652</td>\n",
       "      <td>198</td>\n",
       "      <td>850</td>\n",
       "    </tr>\n",
       "  </tbody>\n",
       "</table>\n",
       "</div>"
      ],
      "text/plain": [
       "     event_name     A    B  total\n",
       "0         login  2082  705   2787\n",
       "1  product_page  1360  397   1757\n",
       "2  product_cart   631  195    826\n",
       "3      purchase   652  198    850"
      ]
     },
     "execution_count": 60,
     "metadata": {},
     "output_type": "execute_result"
    }
   ],
   "source": [
    "funnel = funnel_A.merge(funnel_B, on='event_name', how='inner', suffixes=('_A', '_B'))\n",
    "funnel = funnel.query('event_name != \"registration\"').reset_index(drop=True)\n",
    "funnel = funnel[['event_name', 'user_id_A', 'user_id_B']]\n",
    "funnel['total'] = funnel['user_id_A'] + funnel['user_id_B']\n",
    "funnel.columns = ['event_name', 'A', 'B', 'total']\n",
    "funnel"
   ]
  },
  {
   "cell_type": "code",
   "execution_count": 61,
   "id": "c7d7ba44",
   "metadata": {},
   "outputs": [],
   "source": [
    "def z_test_check (group1, group2, alpha):\n",
    "    for i in funnel.index: \n",
    "        p1=funnel[group1][i]/users_test_ab_group[group1]\n",
    "        p2=funnel[group2][i]/users_test_ab_group[group2]\n",
    "        p_combined=((funnel[group1][i]+funnel[group2][i])/(users_test_ab_group[group1]+users_test_ab_group[group2]))\n",
    "        difference=p1-p2\n",
    "        z_value=difference/mth.sqrt(p_combined*(1-p_combined)*(1/users_test_ab_group[group1]+1/users_test_ab_group[group2]))\n",
    "        distr=stats.norm(0, 1)\n",
    "        p_value=(1-distr.cdf(abs(z_value)))*2 \n",
    "        print ('{} p-значение:{}'.format(funnel['event_name'][i], p_value)) \n",
    "        if (p_value<alpha ): \n",
    "            print('Отвергаем нулевую гипотезу: между долями есть значимая разница') \n",
    "        else: \n",
    "            print('Не удалось отвергнуть нулевую гипотезу, нет оснований считать доли разными')"
   ]
  },
  {
   "cell_type": "code",
   "execution_count": 62,
   "id": "62b81afa",
   "metadata": {},
   "outputs": [
    {
     "name": "stdout",
     "output_type": "stream",
     "text": [
      "login p-значение:0.0\n",
      "Отвергаем нулевую гипотезу: между долями есть значимая разница\n",
      "product_page p-значение:0.0\n",
      "Отвергаем нулевую гипотезу: между долями есть значимая разница\n",
      "product_cart p-значение:0.0\n",
      "Отвергаем нулевую гипотезу: между долями есть значимая разница\n",
      "purchase p-значение:0.0\n",
      "Отвергаем нулевую гипотезу: между долями есть значимая разница\n"
     ]
    }
   ],
   "source": [
    "z_test_check('A', 'B', 0.05)"
   ]
  },
  {
   "cell_type": "markdown",
   "id": "2f683fcb",
   "metadata": {},
   "source": [
    "Между группами между долями есть значимая разница, также это показывает исследовательский анализ"
   ]
  },
  {
   "cell_type": "markdown",
   "id": "35d7f6a9",
   "metadata": {},
   "source": [
    "## Вывод и рекомендации"
   ]
  },
  {
   "cell_type": "markdown",
   "id": "5c6f1a1e",
   "metadata": {},
   "source": [
    "**Вывод**\n",
    "1. Тест можно считать провальным\n",
    "2. На протяжении теста лидировала группа А, как по конверсии, так и по кол-ву событий. Группа В оказалась неэффективной - показатели по конверсии и кол-ву событий ниже в несколько раз относительно контрольной группы А\n",
    "3. Тест закончен раньше из-за снижения активности пользователей\n",
    "4. Тест пересекается с маркетинговыми активностями, высок риск искаженных результатов\n",
    "5. Изначально выборка была сделана некорректно, из-за этого 24% данных было потеряно\n",
    "6. Большинство участников теста из EU (70%), хотя в других регионах также пользуются приложением\n",
    "\n",
    "**Рекомендации**\n",
    "1. Более тщательно готовится к тестированию, проверять изначальную выборку, минимизировать пересечения с конкурирующим тестом и исключить на этапе тестирования маркетинговые акции\n",
    "2. Проверить приложение на технические аспекты/путь клиента, так как около 40% клиентов после регистрации не доходят до получения логина. В том числе самый большой % потери был зафиксирован в группе В, возможно при настройке новой платежной воронки задели весь функционал"
   ]
  }
 ],
 "metadata": {
  "ExecuteTimeLog": [
   {
    "duration": 1342,
    "start_time": "2022-11-21T15:39:42.108Z"
   },
   {
    "duration": 75,
    "start_time": "2022-11-21T15:39:43.452Z"
   },
   {
    "duration": 729,
    "start_time": "2022-11-21T15:39:43.529Z"
   },
   {
    "duration": 174,
    "start_time": "2022-11-21T15:39:44.260Z"
   },
   {
    "duration": 68,
    "start_time": "2022-11-21T15:39:44.436Z"
   },
   {
    "duration": 85,
    "start_time": "2022-11-21T15:39:44.505Z"
   },
   {
    "duration": 5,
    "start_time": "2022-11-21T15:39:44.591Z"
   },
   {
    "duration": 9,
    "start_time": "2022-11-21T15:39:44.597Z"
   },
   {
    "duration": 97,
    "start_time": "2022-11-21T15:39:44.608Z"
   },
   {
    "duration": 361,
    "start_time": "2022-11-21T15:39:44.707Z"
   },
   {
    "duration": 81,
    "start_time": "2022-11-21T15:39:45.069Z"
   },
   {
    "duration": 52,
    "start_time": "2022-11-21T15:39:45.152Z"
   },
   {
    "duration": 88,
    "start_time": "2022-11-21T15:39:45.206Z"
   },
   {
    "duration": 215,
    "start_time": "2022-11-21T15:39:45.297Z"
   },
   {
    "duration": 6,
    "start_time": "2022-11-21T15:39:45.514Z"
   },
   {
    "duration": 5,
    "start_time": "2022-11-21T15:39:45.535Z"
   },
   {
    "duration": 28,
    "start_time": "2022-11-21T15:39:45.542Z"
   },
   {
    "duration": 5,
    "start_time": "2022-11-21T15:39:45.572Z"
   },
   {
    "duration": 37,
    "start_time": "2022-11-21T15:39:45.579Z"
   },
   {
    "duration": 4,
    "start_time": "2022-11-21T15:39:45.634Z"
   },
   {
    "duration": 14,
    "start_time": "2022-11-21T15:39:45.640Z"
   },
   {
    "duration": 10,
    "start_time": "2022-11-21T15:39:45.656Z"
   },
   {
    "duration": 35,
    "start_time": "2022-11-21T15:39:45.668Z"
   },
   {
    "duration": 131,
    "start_time": "2022-11-21T15:39:45.705Z"
   },
   {
    "duration": 32,
    "start_time": "2022-11-21T15:39:45.838Z"
   },
   {
    "duration": 180,
    "start_time": "2022-11-21T15:39:45.872Z"
   },
   {
    "duration": 19,
    "start_time": "2022-11-21T15:39:46.055Z"
   },
   {
    "duration": 20,
    "start_time": "2022-11-21T15:39:46.077Z"
   },
   {
    "duration": 51,
    "start_time": "2022-11-21T15:39:46.098Z"
   },
   {
    "duration": 7,
    "start_time": "2022-11-21T15:39:46.151Z"
   },
   {
    "duration": 33,
    "start_time": "2022-11-21T15:39:46.160Z"
   },
   {
    "duration": 6,
    "start_time": "2022-11-21T15:39:46.195Z"
   },
   {
    "duration": 18,
    "start_time": "2022-11-21T15:39:46.202Z"
   },
   {
    "duration": 16,
    "start_time": "2022-11-21T15:39:46.236Z"
   },
   {
    "duration": 31,
    "start_time": "2022-11-21T15:39:46.254Z"
   },
   {
    "duration": 22,
    "start_time": "2022-11-21T15:39:46.287Z"
   },
   {
    "duration": 20,
    "start_time": "2022-11-21T15:39:46.335Z"
   },
   {
    "duration": 10,
    "start_time": "2022-11-21T15:39:46.356Z"
   },
   {
    "duration": 26,
    "start_time": "2022-11-21T15:39:46.368Z"
   },
   {
    "duration": 11,
    "start_time": "2022-11-21T15:39:46.396Z"
   },
   {
    "duration": 203,
    "start_time": "2022-11-21T15:39:46.410Z"
   },
   {
    "duration": 22,
    "start_time": "2022-11-21T15:39:46.614Z"
   },
   {
    "duration": 10,
    "start_time": "2022-11-21T15:39:46.638Z"
   },
   {
    "duration": 211,
    "start_time": "2022-11-21T15:39:46.650Z"
   },
   {
    "duration": 461,
    "start_time": "2022-11-21T15:39:46.862Z"
   },
   {
    "duration": 20,
    "start_time": "2022-11-21T15:39:47.325Z"
   },
   {
    "duration": 7,
    "start_time": "2022-11-21T15:39:47.347Z"
   },
   {
    "duration": 20,
    "start_time": "2022-11-21T15:39:47.356Z"
   },
   {
    "duration": 179,
    "start_time": "2022-11-21T15:39:47.378Z"
   },
   {
    "duration": 55,
    "start_time": "2022-11-21T15:44:06.107Z"
   },
   {
    "duration": 1286,
    "start_time": "2022-11-21T18:01:45.899Z"
   },
   {
    "duration": 37,
    "start_time": "2022-11-21T18:01:47.187Z"
   },
   {
    "duration": 476,
    "start_time": "2022-11-21T18:01:47.226Z"
   },
   {
    "duration": 74,
    "start_time": "2022-11-21T18:01:47.704Z"
   },
   {
    "duration": 32,
    "start_time": "2022-11-21T18:01:47.780Z"
   },
   {
    "duration": 99,
    "start_time": "2022-11-21T18:01:47.813Z"
   },
   {
    "duration": 5,
    "start_time": "2022-11-21T18:01:47.913Z"
   },
   {
    "duration": 16,
    "start_time": "2022-11-21T18:01:47.919Z"
   },
   {
    "duration": 100,
    "start_time": "2022-11-21T18:01:47.937Z"
   },
   {
    "duration": 367,
    "start_time": "2022-11-21T18:01:48.039Z"
   },
   {
    "duration": 79,
    "start_time": "2022-11-21T18:01:48.409Z"
   },
   {
    "duration": 61,
    "start_time": "2022-11-21T18:01:48.489Z"
   },
   {
    "duration": 104,
    "start_time": "2022-11-21T18:01:48.552Z"
   },
   {
    "duration": 268,
    "start_time": "2022-11-21T18:01:48.660Z"
   },
   {
    "duration": 10,
    "start_time": "2022-11-21T18:01:48.930Z"
   },
   {
    "duration": 9,
    "start_time": "2022-11-21T18:01:48.941Z"
   },
   {
    "duration": 35,
    "start_time": "2022-11-21T18:01:48.952Z"
   },
   {
    "duration": 7,
    "start_time": "2022-11-21T18:01:48.989Z"
   },
   {
    "duration": 66,
    "start_time": "2022-11-21T18:01:48.998Z"
   },
   {
    "duration": 4,
    "start_time": "2022-11-21T18:01:49.066Z"
   },
   {
    "duration": 22,
    "start_time": "2022-11-21T18:01:49.072Z"
   },
   {
    "duration": 16,
    "start_time": "2022-11-21T18:01:49.098Z"
   },
   {
    "duration": 50,
    "start_time": "2022-11-21T18:01:49.117Z"
   },
   {
    "duration": 131,
    "start_time": "2022-11-21T18:01:49.169Z"
   },
   {
    "duration": 35,
    "start_time": "2022-11-21T18:01:49.302Z"
   },
   {
    "duration": 155,
    "start_time": "2022-11-21T18:01:49.338Z"
   },
   {
    "duration": 18,
    "start_time": "2022-11-21T18:01:49.495Z"
   },
   {
    "duration": 32,
    "start_time": "2022-11-21T18:01:49.515Z"
   },
   {
    "duration": 25,
    "start_time": "2022-11-21T18:01:49.549Z"
   },
   {
    "duration": 7,
    "start_time": "2022-11-21T18:01:49.576Z"
   },
   {
    "duration": 24,
    "start_time": "2022-11-21T18:01:49.585Z"
   },
   {
    "duration": 26,
    "start_time": "2022-11-21T18:01:49.611Z"
   },
   {
    "duration": 13,
    "start_time": "2022-11-21T18:01:49.639Z"
   },
   {
    "duration": 17,
    "start_time": "2022-11-21T18:01:49.654Z"
   },
   {
    "duration": 37,
    "start_time": "2022-11-21T18:01:49.673Z"
   },
   {
    "duration": 40,
    "start_time": "2022-11-21T18:01:49.711Z"
   },
   {
    "duration": 18,
    "start_time": "2022-11-21T18:01:49.753Z"
   },
   {
    "duration": 10,
    "start_time": "2022-11-21T18:01:49.773Z"
   },
   {
    "duration": 9,
    "start_time": "2022-11-21T18:01:49.785Z"
   },
   {
    "duration": 0,
    "start_time": "2022-11-21T18:01:49.796Z"
   },
   {
    "duration": 0,
    "start_time": "2022-11-21T18:01:49.798Z"
   },
   {
    "duration": 0,
    "start_time": "2022-11-21T18:01:49.799Z"
   },
   {
    "duration": 0,
    "start_time": "2022-11-21T18:01:49.800Z"
   },
   {
    "duration": 0,
    "start_time": "2022-11-21T18:01:49.802Z"
   },
   {
    "duration": 0,
    "start_time": "2022-11-21T18:01:49.835Z"
   },
   {
    "duration": 0,
    "start_time": "2022-11-21T18:01:49.837Z"
   },
   {
    "duration": 0,
    "start_time": "2022-11-21T18:01:49.838Z"
   },
   {
    "duration": 0,
    "start_time": "2022-11-21T18:01:49.839Z"
   },
   {
    "duration": 0,
    "start_time": "2022-11-21T18:01:49.841Z"
   },
   {
    "duration": 0,
    "start_time": "2022-11-21T18:01:49.843Z"
   },
   {
    "duration": 9,
    "start_time": "2022-11-21T18:02:07.183Z"
   },
   {
    "duration": 14,
    "start_time": "2022-11-21T18:02:13.777Z"
   },
   {
    "duration": 13,
    "start_time": "2022-11-21T18:02:14.884Z"
   },
   {
    "duration": 170,
    "start_time": "2022-11-21T18:02:18.447Z"
   },
   {
    "duration": 20,
    "start_time": "2022-11-21T18:02:19.039Z"
   },
   {
    "duration": 15,
    "start_time": "2022-11-21T18:02:22.537Z"
   },
   {
    "duration": 154,
    "start_time": "2022-11-21T18:02:23.140Z"
   },
   {
    "duration": 7,
    "start_time": "2022-11-21T18:04:30.633Z"
   },
   {
    "duration": 6,
    "start_time": "2022-11-21T18:04:49.885Z"
   },
   {
    "duration": 5,
    "start_time": "2022-11-21T18:04:56.171Z"
   },
   {
    "duration": 1244,
    "start_time": "2022-11-21T18:08:44.870Z"
   },
   {
    "duration": 37,
    "start_time": "2022-11-21T18:08:46.117Z"
   },
   {
    "duration": 494,
    "start_time": "2022-11-21T18:08:46.156Z"
   },
   {
    "duration": 89,
    "start_time": "2022-11-21T18:08:46.652Z"
   },
   {
    "duration": 43,
    "start_time": "2022-11-21T18:08:46.744Z"
   },
   {
    "duration": 104,
    "start_time": "2022-11-21T18:08:46.789Z"
   },
   {
    "duration": 5,
    "start_time": "2022-11-21T18:08:46.895Z"
   },
   {
    "duration": 11,
    "start_time": "2022-11-21T18:08:46.902Z"
   },
   {
    "duration": 155,
    "start_time": "2022-11-21T18:08:46.915Z"
   },
   {
    "duration": 381,
    "start_time": "2022-11-21T18:08:47.072Z"
   },
   {
    "duration": 82,
    "start_time": "2022-11-21T18:08:47.454Z"
   },
   {
    "duration": 56,
    "start_time": "2022-11-21T18:08:47.537Z"
   },
   {
    "duration": 96,
    "start_time": "2022-11-21T18:08:47.594Z"
   },
   {
    "duration": 246,
    "start_time": "2022-11-21T18:08:47.694Z"
   },
   {
    "duration": 6,
    "start_time": "2022-11-21T18:08:47.942Z"
   },
   {
    "duration": 10,
    "start_time": "2022-11-21T18:08:47.949Z"
   },
   {
    "duration": 37,
    "start_time": "2022-11-21T18:08:47.961Z"
   },
   {
    "duration": 6,
    "start_time": "2022-11-21T18:08:48.000Z"
   },
   {
    "duration": 51,
    "start_time": "2022-11-21T18:08:48.008Z"
   },
   {
    "duration": 4,
    "start_time": "2022-11-21T18:08:48.060Z"
   },
   {
    "duration": 16,
    "start_time": "2022-11-21T18:08:48.066Z"
   },
   {
    "duration": 45,
    "start_time": "2022-11-21T18:08:48.084Z"
   },
   {
    "duration": 51,
    "start_time": "2022-11-21T18:08:48.131Z"
   },
   {
    "duration": 162,
    "start_time": "2022-11-21T18:08:48.184Z"
   },
   {
    "duration": 30,
    "start_time": "2022-11-21T18:08:48.348Z"
   },
   {
    "duration": 175,
    "start_time": "2022-11-21T18:08:48.380Z"
   },
   {
    "duration": 21,
    "start_time": "2022-11-21T18:08:48.557Z"
   },
   {
    "duration": 27,
    "start_time": "2022-11-21T18:08:48.580Z"
   },
   {
    "duration": 46,
    "start_time": "2022-11-21T18:08:48.609Z"
   },
   {
    "duration": 24,
    "start_time": "2022-11-21T18:08:48.657Z"
   },
   {
    "duration": 64,
    "start_time": "2022-11-21T18:08:48.684Z"
   },
   {
    "duration": 6,
    "start_time": "2022-11-21T18:08:48.750Z"
   },
   {
    "duration": 41,
    "start_time": "2022-11-21T18:08:48.758Z"
   },
   {
    "duration": 22,
    "start_time": "2022-11-21T18:08:48.801Z"
   },
   {
    "duration": 52,
    "start_time": "2022-11-21T18:08:48.825Z"
   },
   {
    "duration": 25,
    "start_time": "2022-11-21T18:08:48.879Z"
   },
   {
    "duration": 23,
    "start_time": "2022-11-21T18:08:48.906Z"
   },
   {
    "duration": 13,
    "start_time": "2022-11-21T18:08:48.936Z"
   },
   {
    "duration": 20,
    "start_time": "2022-11-21T18:08:48.951Z"
   },
   {
    "duration": 13,
    "start_time": "2022-11-21T18:08:48.973Z"
   },
   {
    "duration": 237,
    "start_time": "2022-11-21T18:08:48.991Z"
   },
   {
    "duration": 17,
    "start_time": "2022-11-21T18:08:49.230Z"
   },
   {
    "duration": 22,
    "start_time": "2022-11-21T18:08:49.249Z"
   },
   {
    "duration": 221,
    "start_time": "2022-11-21T18:08:49.273Z"
   },
   {
    "duration": 405,
    "start_time": "2022-11-21T18:08:49.496Z"
   },
   {
    "duration": 37,
    "start_time": "2022-11-21T18:08:49.903Z"
   },
   {
    "duration": 32,
    "start_time": "2022-11-21T18:08:49.942Z"
   },
   {
    "duration": 61,
    "start_time": "2022-11-21T18:08:49.976Z"
   },
   {
    "duration": 150,
    "start_time": "2022-11-21T18:08:50.039Z"
   },
   {
    "duration": 1252,
    "start_time": "2022-11-21T18:13:35.126Z"
   },
   {
    "duration": 35,
    "start_time": "2022-11-21T18:13:36.380Z"
   },
   {
    "duration": 509,
    "start_time": "2022-11-21T18:13:36.416Z"
   },
   {
    "duration": 93,
    "start_time": "2022-11-21T18:13:36.926Z"
   },
   {
    "duration": 32,
    "start_time": "2022-11-21T18:13:37.021Z"
   },
   {
    "duration": 96,
    "start_time": "2022-11-21T18:13:37.055Z"
   },
   {
    "duration": 4,
    "start_time": "2022-11-21T18:13:37.153Z"
   },
   {
    "duration": 30,
    "start_time": "2022-11-21T18:13:37.158Z"
   },
   {
    "duration": 107,
    "start_time": "2022-11-21T18:13:37.190Z"
   },
   {
    "duration": 382,
    "start_time": "2022-11-21T18:13:37.299Z"
   },
   {
    "duration": 84,
    "start_time": "2022-11-21T18:13:37.683Z"
   },
   {
    "duration": 79,
    "start_time": "2022-11-21T18:13:37.769Z"
   },
   {
    "duration": 85,
    "start_time": "2022-11-21T18:13:37.850Z"
   },
   {
    "duration": 245,
    "start_time": "2022-11-21T18:13:37.938Z"
   },
   {
    "duration": 5,
    "start_time": "2022-11-21T18:13:38.185Z"
   },
   {
    "duration": 9,
    "start_time": "2022-11-21T18:13:38.192Z"
   },
   {
    "duration": 39,
    "start_time": "2022-11-21T18:13:38.203Z"
   },
   {
    "duration": 6,
    "start_time": "2022-11-21T18:13:38.243Z"
   },
   {
    "duration": 47,
    "start_time": "2022-11-21T18:13:38.251Z"
   },
   {
    "duration": 4,
    "start_time": "2022-11-21T18:13:38.299Z"
   },
   {
    "duration": 27,
    "start_time": "2022-11-21T18:13:38.304Z"
   },
   {
    "duration": 13,
    "start_time": "2022-11-21T18:13:38.333Z"
   },
   {
    "duration": 35,
    "start_time": "2022-11-21T18:13:38.347Z"
   },
   {
    "duration": 122,
    "start_time": "2022-11-21T18:13:38.384Z"
   },
   {
    "duration": 29,
    "start_time": "2022-11-21T18:13:38.507Z"
   },
   {
    "duration": 172,
    "start_time": "2022-11-21T18:13:38.538Z"
   },
   {
    "duration": 24,
    "start_time": "2022-11-21T18:13:38.712Z"
   },
   {
    "duration": 32,
    "start_time": "2022-11-21T18:13:38.738Z"
   },
   {
    "duration": 25,
    "start_time": "2022-11-21T18:13:38.771Z"
   },
   {
    "duration": 7,
    "start_time": "2022-11-21T18:13:38.797Z"
   },
   {
    "duration": 30,
    "start_time": "2022-11-21T18:13:38.806Z"
   },
   {
    "duration": 4,
    "start_time": "2022-11-21T18:13:38.838Z"
   },
   {
    "duration": 19,
    "start_time": "2022-11-21T18:13:38.844Z"
   },
   {
    "duration": 13,
    "start_time": "2022-11-21T18:13:38.865Z"
   },
   {
    "duration": 22,
    "start_time": "2022-11-21T18:13:38.879Z"
   },
   {
    "duration": 45,
    "start_time": "2022-11-21T18:13:38.902Z"
   },
   {
    "duration": 17,
    "start_time": "2022-11-21T18:13:38.949Z"
   },
   {
    "duration": 10,
    "start_time": "2022-11-21T18:13:38.968Z"
   },
   {
    "duration": 26,
    "start_time": "2022-11-21T18:13:38.981Z"
   },
   {
    "duration": 31,
    "start_time": "2022-11-21T18:13:39.009Z"
   },
   {
    "duration": 197,
    "start_time": "2022-11-21T18:13:39.045Z"
   },
   {
    "duration": 14,
    "start_time": "2022-11-21T18:13:39.244Z"
   },
   {
    "duration": 27,
    "start_time": "2022-11-21T18:13:39.260Z"
   },
   {
    "duration": 170,
    "start_time": "2022-11-21T18:13:39.289Z"
   },
   {
    "duration": 383,
    "start_time": "2022-11-21T18:13:39.461Z"
   },
   {
    "duration": 17,
    "start_time": "2022-11-21T18:13:39.846Z"
   },
   {
    "duration": 5,
    "start_time": "2022-11-21T18:13:39.865Z"
   },
   {
    "duration": 69,
    "start_time": "2022-11-21T18:13:39.872Z"
   },
   {
    "duration": 7,
    "start_time": "2022-11-21T18:13:39.943Z"
   },
   {
    "duration": 23,
    "start_time": "2022-11-21T18:13:39.952Z"
   },
   {
    "duration": 5,
    "start_time": "2022-11-21T18:17:01.639Z"
   },
   {
    "duration": 9,
    "start_time": "2022-11-21T18:17:03.480Z"
   },
   {
    "duration": 5,
    "start_time": "2022-11-21T18:17:07.350Z"
   },
   {
    "duration": 8,
    "start_time": "2022-11-21T18:17:08.913Z"
   },
   {
    "duration": 8,
    "start_time": "2022-11-21T18:17:11.114Z"
   },
   {
    "duration": 1470,
    "start_time": "2022-11-21T19:02:26.777Z"
   },
   {
    "duration": 82,
    "start_time": "2022-11-21T19:02:28.253Z"
   },
   {
    "duration": 1743,
    "start_time": "2022-11-21T19:02:28.336Z"
   },
   {
    "duration": 408,
    "start_time": "2022-11-21T19:02:30.082Z"
   },
   {
    "duration": 121,
    "start_time": "2022-11-21T19:02:30.493Z"
   },
   {
    "duration": 113,
    "start_time": "2022-11-21T19:02:30.616Z"
   },
   {
    "duration": 5,
    "start_time": "2022-11-21T19:02:30.731Z"
   },
   {
    "duration": 25,
    "start_time": "2022-11-21T19:02:30.738Z"
   },
   {
    "duration": 103,
    "start_time": "2022-11-21T19:02:30.766Z"
   },
   {
    "duration": 417,
    "start_time": "2022-11-21T19:02:30.875Z"
   },
   {
    "duration": 93,
    "start_time": "2022-11-21T19:02:31.294Z"
   },
   {
    "duration": 64,
    "start_time": "2022-11-21T19:02:31.388Z"
   },
   {
    "duration": 103,
    "start_time": "2022-11-21T19:02:31.454Z"
   },
   {
    "duration": 248,
    "start_time": "2022-11-21T19:02:31.562Z"
   },
   {
    "duration": 6,
    "start_time": "2022-11-21T19:02:31.812Z"
   },
   {
    "duration": 8,
    "start_time": "2022-11-21T19:02:31.820Z"
   },
   {
    "duration": 35,
    "start_time": "2022-11-21T19:02:31.830Z"
   },
   {
    "duration": 6,
    "start_time": "2022-11-21T19:02:31.868Z"
   },
   {
    "duration": 46,
    "start_time": "2022-11-21T19:02:31.876Z"
   },
   {
    "duration": 3,
    "start_time": "2022-11-21T19:02:31.924Z"
   },
   {
    "duration": 28,
    "start_time": "2022-11-21T19:02:31.929Z"
   },
   {
    "duration": 29,
    "start_time": "2022-11-21T19:02:31.960Z"
   },
   {
    "duration": 38,
    "start_time": "2022-11-21T19:02:31.991Z"
   },
   {
    "duration": 143,
    "start_time": "2022-11-21T19:02:32.030Z"
   },
   {
    "duration": 33,
    "start_time": "2022-11-21T19:02:32.175Z"
   },
   {
    "duration": 185,
    "start_time": "2022-11-21T19:02:32.210Z"
   },
   {
    "duration": 19,
    "start_time": "2022-11-21T19:02:32.397Z"
   },
   {
    "duration": 35,
    "start_time": "2022-11-21T19:02:32.417Z"
   },
   {
    "duration": 33,
    "start_time": "2022-11-21T19:02:32.455Z"
   },
   {
    "duration": 7,
    "start_time": "2022-11-21T19:02:32.490Z"
   },
   {
    "duration": 20,
    "start_time": "2022-11-21T19:02:32.499Z"
   },
   {
    "duration": 4,
    "start_time": "2022-11-21T19:02:32.521Z"
   },
   {
    "duration": 15,
    "start_time": "2022-11-21T19:02:32.551Z"
   },
   {
    "duration": 16,
    "start_time": "2022-11-21T19:02:32.568Z"
   },
   {
    "duration": 24,
    "start_time": "2022-11-21T19:02:32.585Z"
   },
   {
    "duration": 55,
    "start_time": "2022-11-21T19:02:32.610Z"
   },
   {
    "duration": 20,
    "start_time": "2022-11-21T19:02:32.667Z"
   },
   {
    "duration": 11,
    "start_time": "2022-11-21T19:02:32.688Z"
   },
   {
    "duration": 17,
    "start_time": "2022-11-21T19:02:32.701Z"
   },
   {
    "duration": 40,
    "start_time": "2022-11-21T19:02:32.720Z"
   },
   {
    "duration": 217,
    "start_time": "2022-11-21T19:02:32.764Z"
   },
   {
    "duration": 14,
    "start_time": "2022-11-21T19:02:32.983Z"
   },
   {
    "duration": 10,
    "start_time": "2022-11-21T19:02:32.998Z"
   },
   {
    "duration": 214,
    "start_time": "2022-11-21T19:02:33.010Z"
   },
   {
    "duration": 454,
    "start_time": "2022-11-21T19:02:33.225Z"
   },
   {
    "duration": 14,
    "start_time": "2022-11-21T19:02:33.680Z"
   },
   {
    "duration": 6,
    "start_time": "2022-11-21T19:02:33.696Z"
   },
   {
    "duration": 53,
    "start_time": "2022-11-21T19:02:33.703Z"
   },
   {
    "duration": 11,
    "start_time": "2022-11-21T19:02:33.758Z"
   },
   {
    "duration": 16,
    "start_time": "2022-11-21T19:02:33.771Z"
   },
   {
    "duration": 1635,
    "start_time": "2022-11-22T07:30:11.952Z"
   },
   {
    "duration": 93,
    "start_time": "2022-11-22T07:30:13.590Z"
   },
   {
    "duration": 1854,
    "start_time": "2022-11-22T07:30:13.685Z"
   },
   {
    "duration": 264,
    "start_time": "2022-11-22T07:30:15.541Z"
   },
   {
    "duration": 125,
    "start_time": "2022-11-22T07:30:15.807Z"
   },
   {
    "duration": 100,
    "start_time": "2022-11-22T07:30:15.934Z"
   },
   {
    "duration": 15,
    "start_time": "2022-11-22T07:30:16.037Z"
   },
   {
    "duration": 32,
    "start_time": "2022-11-22T07:30:16.054Z"
   },
   {
    "duration": 147,
    "start_time": "2022-11-22T07:30:16.088Z"
   },
   {
    "duration": 409,
    "start_time": "2022-11-22T07:30:16.238Z"
   },
   {
    "duration": 84,
    "start_time": "2022-11-22T07:30:16.649Z"
   },
   {
    "duration": 71,
    "start_time": "2022-11-22T07:30:16.734Z"
   },
   {
    "duration": 90,
    "start_time": "2022-11-22T07:30:16.807Z"
   },
   {
    "duration": 285,
    "start_time": "2022-11-22T07:30:16.899Z"
   },
   {
    "duration": 7,
    "start_time": "2022-11-22T07:30:17.186Z"
   },
   {
    "duration": 23,
    "start_time": "2022-11-22T07:30:17.195Z"
   },
   {
    "duration": 64,
    "start_time": "2022-11-22T07:30:17.220Z"
   },
   {
    "duration": 45,
    "start_time": "2022-11-22T07:30:17.287Z"
   },
   {
    "duration": 73,
    "start_time": "2022-11-22T07:30:17.334Z"
   },
   {
    "duration": 4,
    "start_time": "2022-11-22T07:30:17.409Z"
   },
   {
    "duration": 35,
    "start_time": "2022-11-22T07:30:17.414Z"
   },
   {
    "duration": 34,
    "start_time": "2022-11-22T07:30:17.451Z"
   },
   {
    "duration": 56,
    "start_time": "2022-11-22T07:30:17.487Z"
   },
   {
    "duration": 127,
    "start_time": "2022-11-22T07:30:17.545Z"
   },
   {
    "duration": 28,
    "start_time": "2022-11-22T07:30:17.674Z"
   },
   {
    "duration": 182,
    "start_time": "2022-11-22T07:30:17.703Z"
   },
   {
    "duration": 21,
    "start_time": "2022-11-22T07:30:17.887Z"
   },
   {
    "duration": 18,
    "start_time": "2022-11-22T07:30:17.912Z"
   },
   {
    "duration": 53,
    "start_time": "2022-11-22T07:30:17.932Z"
   },
   {
    "duration": 7,
    "start_time": "2022-11-22T07:30:17.987Z"
   },
   {
    "duration": 41,
    "start_time": "2022-11-22T07:30:17.995Z"
   },
   {
    "duration": 15,
    "start_time": "2022-11-22T07:30:18.038Z"
   },
   {
    "duration": 47,
    "start_time": "2022-11-22T07:30:18.055Z"
   },
   {
    "duration": 33,
    "start_time": "2022-11-22T07:30:18.104Z"
   },
   {
    "duration": 46,
    "start_time": "2022-11-22T07:30:18.139Z"
   },
   {
    "duration": 28,
    "start_time": "2022-11-22T07:30:18.186Z"
   },
   {
    "duration": 19,
    "start_time": "2022-11-22T07:30:18.216Z"
   },
   {
    "duration": 12,
    "start_time": "2022-11-22T07:30:18.237Z"
   },
   {
    "duration": 42,
    "start_time": "2022-11-22T07:30:18.250Z"
   },
   {
    "duration": 27,
    "start_time": "2022-11-22T07:30:18.295Z"
   },
   {
    "duration": 210,
    "start_time": "2022-11-22T07:30:18.324Z"
   },
   {
    "duration": 15,
    "start_time": "2022-11-22T07:30:18.536Z"
   },
   {
    "duration": 29,
    "start_time": "2022-11-22T07:30:18.553Z"
   },
   {
    "duration": 201,
    "start_time": "2022-11-22T07:30:18.584Z"
   },
   {
    "duration": 465,
    "start_time": "2022-11-22T07:30:18.787Z"
   },
   {
    "duration": 148,
    "start_time": "2022-11-22T07:30:19.254Z"
   },
   {
    "duration": 7,
    "start_time": "2022-11-22T07:30:19.405Z"
   },
   {
    "duration": 37,
    "start_time": "2022-11-22T07:30:19.415Z"
   },
   {
    "duration": 24,
    "start_time": "2022-11-22T07:30:19.454Z"
   },
   {
    "duration": 31,
    "start_time": "2022-11-22T07:30:19.479Z"
   },
   {
    "duration": 41,
    "start_time": "2022-11-22T07:31:07.437Z"
   },
   {
    "duration": 19,
    "start_time": "2022-11-22T07:35:52.980Z"
   },
   {
    "duration": 19,
    "start_time": "2022-11-22T07:36:42.856Z"
   },
   {
    "duration": 20,
    "start_time": "2022-11-22T07:37:50.538Z"
   },
   {
    "duration": 15,
    "start_time": "2022-11-22T07:38:10.615Z"
   },
   {
    "duration": 15,
    "start_time": "2022-11-22T07:38:21.207Z"
   },
   {
    "duration": 15,
    "start_time": "2022-11-22T07:38:31.292Z"
   },
   {
    "duration": 19,
    "start_time": "2022-11-22T07:38:41.450Z"
   },
   {
    "duration": 20,
    "start_time": "2022-11-22T07:39:02.390Z"
   },
   {
    "duration": 12,
    "start_time": "2022-11-22T07:40:28.170Z"
   },
   {
    "duration": 11,
    "start_time": "2022-11-22T07:40:30.531Z"
   },
   {
    "duration": 16,
    "start_time": "2022-11-22T07:45:52.842Z"
   },
   {
    "duration": 13,
    "start_time": "2022-11-22T07:46:03.590Z"
   },
   {
    "duration": 83,
    "start_time": "2022-11-22T07:46:27.082Z"
   },
   {
    "duration": 21,
    "start_time": "2022-11-22T07:46:31.794Z"
   },
   {
    "duration": 13,
    "start_time": "2022-11-22T07:47:53.029Z"
   },
   {
    "duration": 5,
    "start_time": "2022-11-22T07:56:20.851Z"
   },
   {
    "duration": 42,
    "start_time": "2022-11-22T07:57:13.008Z"
   },
   {
    "duration": 13,
    "start_time": "2022-11-22T07:57:30.925Z"
   },
   {
    "duration": 28,
    "start_time": "2022-11-22T07:57:50.582Z"
   },
   {
    "duration": 6,
    "start_time": "2022-11-22T07:57:53.168Z"
   },
   {
    "duration": 10,
    "start_time": "2022-11-22T07:59:19.350Z"
   },
   {
    "duration": 5,
    "start_time": "2022-11-22T07:59:24.685Z"
   },
   {
    "duration": 9,
    "start_time": "2022-11-22T07:59:33.709Z"
   },
   {
    "duration": 25,
    "start_time": "2022-11-22T07:59:41.651Z"
   },
   {
    "duration": 1299,
    "start_time": "2022-11-22T08:00:41.113Z"
   },
   {
    "duration": 39,
    "start_time": "2022-11-22T08:00:42.414Z"
   },
   {
    "duration": 572,
    "start_time": "2022-11-22T08:00:42.455Z"
   },
   {
    "duration": 89,
    "start_time": "2022-11-22T08:00:43.029Z"
   },
   {
    "duration": 37,
    "start_time": "2022-11-22T08:00:43.121Z"
   },
   {
    "duration": 99,
    "start_time": "2022-11-22T08:00:43.161Z"
   },
   {
    "duration": 16,
    "start_time": "2022-11-22T08:00:43.262Z"
   },
   {
    "duration": 27,
    "start_time": "2022-11-22T08:00:43.280Z"
   },
   {
    "duration": 173,
    "start_time": "2022-11-22T08:00:43.310Z"
   },
   {
    "duration": 406,
    "start_time": "2022-11-22T08:00:43.486Z"
   },
   {
    "duration": 107,
    "start_time": "2022-11-22T08:00:43.894Z"
   },
   {
    "duration": 82,
    "start_time": "2022-11-22T08:00:44.004Z"
   },
   {
    "duration": 121,
    "start_time": "2022-11-22T08:00:44.088Z"
   },
   {
    "duration": 279,
    "start_time": "2022-11-22T08:00:44.214Z"
   },
   {
    "duration": 8,
    "start_time": "2022-11-22T08:00:44.494Z"
   },
   {
    "duration": 41,
    "start_time": "2022-11-22T08:00:44.504Z"
   },
   {
    "duration": 46,
    "start_time": "2022-11-22T08:00:44.546Z"
   },
   {
    "duration": 6,
    "start_time": "2022-11-22T08:00:44.593Z"
   },
   {
    "duration": 11,
    "start_time": "2022-11-22T08:00:44.601Z"
   },
   {
    "duration": 5,
    "start_time": "2022-11-22T08:00:44.614Z"
   },
   {
    "duration": 9,
    "start_time": "2022-11-22T08:00:44.621Z"
   },
   {
    "duration": 53,
    "start_time": "2022-11-22T08:00:44.631Z"
   },
   {
    "duration": 13,
    "start_time": "2022-11-22T08:00:44.686Z"
   },
   {
    "duration": 32,
    "start_time": "2022-11-22T08:00:44.701Z"
   },
   {
    "duration": 175,
    "start_time": "2022-11-22T08:00:44.735Z"
   },
   {
    "duration": 28,
    "start_time": "2022-11-22T08:00:44.912Z"
   },
   {
    "duration": 203,
    "start_time": "2022-11-22T08:00:44.942Z"
   },
   {
    "duration": 36,
    "start_time": "2022-11-22T08:00:45.147Z"
   },
   {
    "duration": 19,
    "start_time": "2022-11-22T08:00:45.186Z"
   },
   {
    "duration": 22,
    "start_time": "2022-11-22T08:00:45.207Z"
   },
   {
    "duration": 9,
    "start_time": "2022-11-22T08:00:45.231Z"
   },
   {
    "duration": 50,
    "start_time": "2022-11-22T08:00:45.242Z"
   },
   {
    "duration": 5,
    "start_time": "2022-11-22T08:00:45.293Z"
   },
   {
    "duration": 16,
    "start_time": "2022-11-22T08:00:45.300Z"
   },
   {
    "duration": 29,
    "start_time": "2022-11-22T08:00:45.318Z"
   },
   {
    "duration": 33,
    "start_time": "2022-11-22T08:00:45.348Z"
   },
   {
    "duration": 13,
    "start_time": "2022-11-22T08:00:45.383Z"
   },
   {
    "duration": 32,
    "start_time": "2022-11-22T08:00:45.398Z"
   },
   {
    "duration": 55,
    "start_time": "2022-11-22T08:00:45.433Z"
   },
   {
    "duration": 20,
    "start_time": "2022-11-22T08:00:45.490Z"
   },
   {
    "duration": 13,
    "start_time": "2022-11-22T08:00:45.514Z"
   },
   {
    "duration": 50,
    "start_time": "2022-11-22T08:00:45.529Z"
   },
   {
    "duration": 12,
    "start_time": "2022-11-22T08:00:45.581Z"
   },
   {
    "duration": 220,
    "start_time": "2022-11-22T08:00:45.594Z"
   },
   {
    "duration": 16,
    "start_time": "2022-11-22T08:00:45.816Z"
   },
   {
    "duration": 12,
    "start_time": "2022-11-22T08:00:45.834Z"
   },
   {
    "duration": 205,
    "start_time": "2022-11-22T08:00:45.849Z"
   },
   {
    "duration": 422,
    "start_time": "2022-11-22T08:00:46.056Z"
   },
   {
    "duration": 199,
    "start_time": "2022-11-22T08:00:46.480Z"
   },
   {
    "duration": 7,
    "start_time": "2022-11-22T08:00:46.681Z"
   },
   {
    "duration": 16,
    "start_time": "2022-11-22T08:00:46.690Z"
   },
   {
    "duration": 11,
    "start_time": "2022-11-22T08:00:46.708Z"
   },
   {
    "duration": 17,
    "start_time": "2022-11-22T08:00:46.721Z"
   },
   {
    "duration": 1404,
    "start_time": "2022-11-22T08:03:23.134Z"
   },
   {
    "duration": 40,
    "start_time": "2022-11-22T08:03:24.540Z"
   },
   {
    "duration": 557,
    "start_time": "2022-11-22T08:03:24.582Z"
   },
   {
    "duration": 89,
    "start_time": "2022-11-22T08:03:25.142Z"
   },
   {
    "duration": 34,
    "start_time": "2022-11-22T08:03:25.233Z"
   },
   {
    "duration": 100,
    "start_time": "2022-11-22T08:03:25.269Z"
   },
   {
    "duration": 10,
    "start_time": "2022-11-22T08:03:25.371Z"
   },
   {
    "duration": 10,
    "start_time": "2022-11-22T08:03:25.383Z"
   },
   {
    "duration": 108,
    "start_time": "2022-11-22T08:03:25.394Z"
   },
   {
    "duration": 448,
    "start_time": "2022-11-22T08:03:25.505Z"
   },
   {
    "duration": 94,
    "start_time": "2022-11-22T08:03:25.955Z"
   },
   {
    "duration": 109,
    "start_time": "2022-11-22T08:03:26.051Z"
   },
   {
    "duration": 119,
    "start_time": "2022-11-22T08:03:26.162Z"
   },
   {
    "duration": 254,
    "start_time": "2022-11-22T08:03:26.283Z"
   },
   {
    "duration": 8,
    "start_time": "2022-11-22T08:03:26.539Z"
   },
   {
    "duration": 55,
    "start_time": "2022-11-22T08:03:26.549Z"
   },
   {
    "duration": 23,
    "start_time": "2022-11-22T08:03:26.606Z"
   },
   {
    "duration": 8,
    "start_time": "2022-11-22T08:03:26.631Z"
   },
   {
    "duration": 10,
    "start_time": "2022-11-22T08:03:26.641Z"
   },
   {
    "duration": 5,
    "start_time": "2022-11-22T08:03:26.679Z"
   },
   {
    "duration": 10,
    "start_time": "2022-11-22T08:03:26.686Z"
   },
   {
    "duration": 9,
    "start_time": "2022-11-22T08:03:26.698Z"
   },
   {
    "duration": 12,
    "start_time": "2022-11-22T08:03:26.709Z"
   },
   {
    "duration": 86,
    "start_time": "2022-11-22T08:03:26.724Z"
   },
   {
    "duration": 138,
    "start_time": "2022-11-22T08:03:26.812Z"
   },
   {
    "duration": 34,
    "start_time": "2022-11-22T08:03:26.952Z"
   },
   {
    "duration": 193,
    "start_time": "2022-11-22T08:03:26.988Z"
   },
   {
    "duration": 28,
    "start_time": "2022-11-22T08:03:27.186Z"
   },
   {
    "duration": 18,
    "start_time": "2022-11-22T08:03:27.216Z"
   },
   {
    "duration": 52,
    "start_time": "2022-11-22T08:03:27.236Z"
   },
   {
    "duration": 8,
    "start_time": "2022-11-22T08:03:27.290Z"
   },
   {
    "duration": 33,
    "start_time": "2022-11-22T08:03:27.300Z"
   },
   {
    "duration": 12,
    "start_time": "2022-11-22T08:03:27.335Z"
   },
   {
    "duration": 36,
    "start_time": "2022-11-22T08:03:27.350Z"
   },
   {
    "duration": 51,
    "start_time": "2022-11-22T08:03:27.388Z"
   },
   {
    "duration": 6,
    "start_time": "2022-11-22T08:03:27.440Z"
   },
   {
    "duration": 82,
    "start_time": "2022-11-22T08:03:27.448Z"
   },
   {
    "duration": 0,
    "start_time": "2022-11-22T08:03:27.532Z"
   },
   {
    "duration": 0,
    "start_time": "2022-11-22T08:03:27.533Z"
   },
   {
    "duration": 0,
    "start_time": "2022-11-22T08:03:27.534Z"
   },
   {
    "duration": 0,
    "start_time": "2022-11-22T08:03:27.537Z"
   },
   {
    "duration": 0,
    "start_time": "2022-11-22T08:03:27.538Z"
   },
   {
    "duration": 0,
    "start_time": "2022-11-22T08:03:27.540Z"
   },
   {
    "duration": 0,
    "start_time": "2022-11-22T08:03:27.541Z"
   },
   {
    "duration": 0,
    "start_time": "2022-11-22T08:03:27.543Z"
   },
   {
    "duration": 0,
    "start_time": "2022-11-22T08:03:27.545Z"
   },
   {
    "duration": 0,
    "start_time": "2022-11-22T08:03:27.546Z"
   },
   {
    "duration": 0,
    "start_time": "2022-11-22T08:03:27.548Z"
   },
   {
    "duration": 1,
    "start_time": "2022-11-22T08:03:27.549Z"
   },
   {
    "duration": 0,
    "start_time": "2022-11-22T08:03:27.551Z"
   },
   {
    "duration": 0,
    "start_time": "2022-11-22T08:03:27.554Z"
   },
   {
    "duration": 0,
    "start_time": "2022-11-22T08:03:27.556Z"
   },
   {
    "duration": 0,
    "start_time": "2022-11-22T08:03:27.557Z"
   },
   {
    "duration": 0,
    "start_time": "2022-11-22T08:03:27.559Z"
   },
   {
    "duration": 69,
    "start_time": "2022-11-22T08:04:49.232Z"
   },
   {
    "duration": 5,
    "start_time": "2022-11-22T08:04:58.284Z"
   },
   {
    "duration": 5,
    "start_time": "2022-11-22T08:05:21.918Z"
   },
   {
    "duration": 4,
    "start_time": "2022-11-22T08:05:37.938Z"
   },
   {
    "duration": 75,
    "start_time": "2022-11-22T08:07:13.360Z"
   },
   {
    "duration": 5,
    "start_time": "2022-11-22T08:07:26.323Z"
   },
   {
    "duration": 5,
    "start_time": "2022-11-22T08:07:43.762Z"
   },
   {
    "duration": 10,
    "start_time": "2022-11-22T08:07:59.358Z"
   },
   {
    "duration": 10,
    "start_time": "2022-11-22T08:08:11.653Z"
   },
   {
    "duration": 6,
    "start_time": "2022-11-22T08:09:13.038Z"
   },
   {
    "duration": 6,
    "start_time": "2022-11-22T08:09:29.121Z"
   },
   {
    "duration": 1336,
    "start_time": "2022-11-22T08:09:41.862Z"
   },
   {
    "duration": 37,
    "start_time": "2022-11-22T08:09:43.200Z"
   },
   {
    "duration": 496,
    "start_time": "2022-11-22T08:09:43.238Z"
   },
   {
    "duration": 78,
    "start_time": "2022-11-22T08:09:43.737Z"
   },
   {
    "duration": 33,
    "start_time": "2022-11-22T08:09:43.817Z"
   },
   {
    "duration": 107,
    "start_time": "2022-11-22T08:09:43.852Z"
   },
   {
    "duration": 6,
    "start_time": "2022-11-22T08:09:43.962Z"
   },
   {
    "duration": 19,
    "start_time": "2022-11-22T08:09:43.978Z"
   },
   {
    "duration": 170,
    "start_time": "2022-11-22T08:09:43.999Z"
   },
   {
    "duration": 402,
    "start_time": "2022-11-22T08:09:44.173Z"
   },
   {
    "duration": 84,
    "start_time": "2022-11-22T08:09:44.577Z"
   },
   {
    "duration": 70,
    "start_time": "2022-11-22T08:09:44.664Z"
   },
   {
    "duration": 99,
    "start_time": "2022-11-22T08:09:44.737Z"
   },
   {
    "duration": 257,
    "start_time": "2022-11-22T08:09:44.838Z"
   },
   {
    "duration": 6,
    "start_time": "2022-11-22T08:09:45.097Z"
   },
   {
    "duration": 46,
    "start_time": "2022-11-22T08:09:45.104Z"
   },
   {
    "duration": 33,
    "start_time": "2022-11-22T08:09:45.153Z"
   },
   {
    "duration": 5,
    "start_time": "2022-11-22T08:09:45.189Z"
   },
   {
    "duration": 13,
    "start_time": "2022-11-22T08:09:45.197Z"
   },
   {
    "duration": 29,
    "start_time": "2022-11-22T08:09:45.211Z"
   },
   {
    "duration": 35,
    "start_time": "2022-11-22T08:09:45.241Z"
   },
   {
    "duration": 39,
    "start_time": "2022-11-22T08:09:45.277Z"
   },
   {
    "duration": 19,
    "start_time": "2022-11-22T08:09:45.318Z"
   },
   {
    "duration": 46,
    "start_time": "2022-11-22T08:09:45.339Z"
   },
   {
    "duration": 135,
    "start_time": "2022-11-22T08:09:45.387Z"
   },
   {
    "duration": 26,
    "start_time": "2022-11-22T08:09:45.524Z"
   },
   {
    "duration": 163,
    "start_time": "2022-11-22T08:09:45.552Z"
   },
   {
    "duration": 20,
    "start_time": "2022-11-22T08:09:45.719Z"
   },
   {
    "duration": 38,
    "start_time": "2022-11-22T08:09:45.740Z"
   },
   {
    "duration": 21,
    "start_time": "2022-11-22T08:09:45.780Z"
   },
   {
    "duration": 7,
    "start_time": "2022-11-22T08:09:45.803Z"
   },
   {
    "duration": 18,
    "start_time": "2022-11-22T08:09:45.812Z"
   },
   {
    "duration": 5,
    "start_time": "2022-11-22T08:09:45.832Z"
   },
   {
    "duration": 43,
    "start_time": "2022-11-22T08:09:45.839Z"
   },
   {
    "duration": 28,
    "start_time": "2022-11-22T08:09:45.884Z"
   },
   {
    "duration": 6,
    "start_time": "2022-11-22T08:09:45.914Z"
   },
   {
    "duration": 12,
    "start_time": "2022-11-22T08:09:45.922Z"
   },
   {
    "duration": 36,
    "start_time": "2022-11-22T08:09:45.942Z"
   },
   {
    "duration": 25,
    "start_time": "2022-11-22T08:09:45.980Z"
   },
   {
    "duration": 23,
    "start_time": "2022-11-22T08:09:46.007Z"
   },
   {
    "duration": 49,
    "start_time": "2022-11-22T08:09:46.032Z"
   },
   {
    "duration": 11,
    "start_time": "2022-11-22T08:09:46.083Z"
   },
   {
    "duration": 18,
    "start_time": "2022-11-22T08:09:46.096Z"
   },
   {
    "duration": 10,
    "start_time": "2022-11-22T08:09:46.116Z"
   },
   {
    "duration": 235,
    "start_time": "2022-11-22T08:09:46.128Z"
   },
   {
    "duration": 23,
    "start_time": "2022-11-22T08:09:46.364Z"
   },
   {
    "duration": 11,
    "start_time": "2022-11-22T08:09:46.389Z"
   },
   {
    "duration": 187,
    "start_time": "2022-11-22T08:09:46.402Z"
   },
   {
    "duration": 404,
    "start_time": "2022-11-22T08:09:46.591Z"
   },
   {
    "duration": 187,
    "start_time": "2022-11-22T08:09:46.996Z"
   },
   {
    "duration": 6,
    "start_time": "2022-11-22T08:09:47.185Z"
   },
   {
    "duration": 16,
    "start_time": "2022-11-22T08:09:47.193Z"
   },
   {
    "duration": 6,
    "start_time": "2022-11-22T08:09:47.211Z"
   },
   {
    "duration": 15,
    "start_time": "2022-11-22T08:09:47.219Z"
   },
   {
    "duration": 9,
    "start_time": "2022-11-22T08:10:45.009Z"
   },
   {
    "duration": 6,
    "start_time": "2022-11-22T08:11:09.284Z"
   },
   {
    "duration": 89,
    "start_time": "2022-11-22T08:17:32.214Z"
   },
   {
    "duration": 16,
    "start_time": "2022-11-22T08:22:32.634Z"
   },
   {
    "duration": 7,
    "start_time": "2022-11-22T08:22:49.381Z"
   },
   {
    "duration": 1405,
    "start_time": "2022-11-22T08:23:06.892Z"
   },
   {
    "duration": 39,
    "start_time": "2022-11-22T08:23:08.299Z"
   },
   {
    "duration": 549,
    "start_time": "2022-11-22T08:23:08.339Z"
   },
   {
    "duration": 81,
    "start_time": "2022-11-22T08:23:08.890Z"
   },
   {
    "duration": 35,
    "start_time": "2022-11-22T08:23:08.973Z"
   },
   {
    "duration": 121,
    "start_time": "2022-11-22T08:23:09.010Z"
   },
   {
    "duration": 5,
    "start_time": "2022-11-22T08:23:09.134Z"
   },
   {
    "duration": 10,
    "start_time": "2022-11-22T08:23:09.141Z"
   },
   {
    "duration": 127,
    "start_time": "2022-11-22T08:23:09.153Z"
   },
   {
    "duration": 404,
    "start_time": "2022-11-22T08:23:09.284Z"
   },
   {
    "duration": 95,
    "start_time": "2022-11-22T08:23:09.690Z"
   },
   {
    "duration": 60,
    "start_time": "2022-11-22T08:23:09.788Z"
   },
   {
    "duration": 106,
    "start_time": "2022-11-22T08:23:09.850Z"
   },
   {
    "duration": 260,
    "start_time": "2022-11-22T08:23:09.959Z"
   },
   {
    "duration": 7,
    "start_time": "2022-11-22T08:23:10.221Z"
   },
   {
    "duration": 61,
    "start_time": "2022-11-22T08:23:10.230Z"
   },
   {
    "duration": 21,
    "start_time": "2022-11-22T08:23:10.292Z"
   },
   {
    "duration": 6,
    "start_time": "2022-11-22T08:23:10.315Z"
   },
   {
    "duration": 10,
    "start_time": "2022-11-22T08:23:10.323Z"
   },
   {
    "duration": 5,
    "start_time": "2022-11-22T08:23:10.335Z"
   },
   {
    "duration": 6,
    "start_time": "2022-11-22T08:23:10.378Z"
   },
   {
    "duration": 10,
    "start_time": "2022-11-22T08:23:10.386Z"
   },
   {
    "duration": 16,
    "start_time": "2022-11-22T08:23:10.398Z"
   },
   {
    "duration": 68,
    "start_time": "2022-11-22T08:23:10.416Z"
   },
   {
    "duration": 144,
    "start_time": "2022-11-22T08:23:10.486Z"
   },
   {
    "duration": 28,
    "start_time": "2022-11-22T08:23:10.632Z"
   },
   {
    "duration": 186,
    "start_time": "2022-11-22T08:23:10.662Z"
   },
   {
    "duration": 29,
    "start_time": "2022-11-22T08:23:10.852Z"
   },
   {
    "duration": 20,
    "start_time": "2022-11-22T08:23:10.883Z"
   },
   {
    "duration": 37,
    "start_time": "2022-11-22T08:23:10.905Z"
   },
   {
    "duration": 8,
    "start_time": "2022-11-22T08:23:10.944Z"
   },
   {
    "duration": 49,
    "start_time": "2022-11-22T08:23:10.953Z"
   },
   {
    "duration": 7,
    "start_time": "2022-11-22T08:23:11.004Z"
   },
   {
    "duration": 25,
    "start_time": "2022-11-22T08:23:11.013Z"
   },
   {
    "duration": 43,
    "start_time": "2022-11-22T08:23:11.041Z"
   },
   {
    "duration": 6,
    "start_time": "2022-11-22T08:23:11.086Z"
   },
   {
    "duration": 12,
    "start_time": "2022-11-22T08:23:11.094Z"
   },
   {
    "duration": 38,
    "start_time": "2022-11-22T08:23:11.108Z"
   },
   {
    "duration": 20,
    "start_time": "2022-11-22T08:23:11.148Z"
   },
   {
    "duration": 41,
    "start_time": "2022-11-22T08:23:11.170Z"
   },
   {
    "duration": 29,
    "start_time": "2022-11-22T08:23:11.212Z"
   },
   {
    "duration": 36,
    "start_time": "2022-11-22T08:23:11.243Z"
   },
   {
    "duration": 14,
    "start_time": "2022-11-22T08:23:11.281Z"
   },
   {
    "duration": 21,
    "start_time": "2022-11-22T08:23:11.297Z"
   },
   {
    "duration": 10,
    "start_time": "2022-11-22T08:23:11.320Z"
   },
   {
    "duration": 277,
    "start_time": "2022-11-22T08:23:11.332Z"
   },
   {
    "duration": 17,
    "start_time": "2022-11-22T08:23:11.611Z"
   },
   {
    "duration": 11,
    "start_time": "2022-11-22T08:23:11.630Z"
   },
   {
    "duration": 214,
    "start_time": "2022-11-22T08:23:11.642Z"
   },
   {
    "duration": 437,
    "start_time": "2022-11-22T08:23:11.858Z"
   },
   {
    "duration": 140,
    "start_time": "2022-11-22T08:23:12.297Z"
   },
   {
    "duration": 44,
    "start_time": "2022-11-22T08:23:12.439Z"
   },
   {
    "duration": 20,
    "start_time": "2022-11-22T08:23:12.485Z"
   },
   {
    "duration": 11,
    "start_time": "2022-11-22T08:23:12.507Z"
   },
   {
    "duration": 17,
    "start_time": "2022-11-22T08:23:12.520Z"
   },
   {
    "duration": 92,
    "start_time": "2022-11-22T08:25:50.930Z"
   },
   {
    "duration": 219,
    "start_time": "2022-11-22T08:26:17.915Z"
   },
   {
    "duration": 1428,
    "start_time": "2022-11-22T08:26:27.866Z"
   },
   {
    "duration": 40,
    "start_time": "2022-11-22T08:26:29.296Z"
   },
   {
    "duration": 569,
    "start_time": "2022-11-22T08:26:29.338Z"
   },
   {
    "duration": 84,
    "start_time": "2022-11-22T08:26:29.909Z"
   },
   {
    "duration": 35,
    "start_time": "2022-11-22T08:26:29.995Z"
   },
   {
    "duration": 112,
    "start_time": "2022-11-22T08:26:30.032Z"
   },
   {
    "duration": 5,
    "start_time": "2022-11-22T08:26:30.146Z"
   },
   {
    "duration": 29,
    "start_time": "2022-11-22T08:26:30.153Z"
   },
   {
    "duration": 128,
    "start_time": "2022-11-22T08:26:30.184Z"
   },
   {
    "duration": 395,
    "start_time": "2022-11-22T08:26:30.315Z"
   },
   {
    "duration": 110,
    "start_time": "2022-11-22T08:26:30.712Z"
   },
   {
    "duration": 69,
    "start_time": "2022-11-22T08:26:30.824Z"
   },
   {
    "duration": 91,
    "start_time": "2022-11-22T08:26:30.896Z"
   },
   {
    "duration": 269,
    "start_time": "2022-11-22T08:26:30.989Z"
   },
   {
    "duration": 7,
    "start_time": "2022-11-22T08:26:31.260Z"
   },
   {
    "duration": 60,
    "start_time": "2022-11-22T08:26:31.279Z"
   },
   {
    "duration": 22,
    "start_time": "2022-11-22T08:26:31.341Z"
   },
   {
    "duration": 5,
    "start_time": "2022-11-22T08:26:31.365Z"
   },
   {
    "duration": 12,
    "start_time": "2022-11-22T08:26:31.377Z"
   },
   {
    "duration": 12,
    "start_time": "2022-11-22T08:26:31.391Z"
   },
   {
    "duration": 14,
    "start_time": "2022-11-22T08:26:31.405Z"
   },
   {
    "duration": 15,
    "start_time": "2022-11-22T08:26:31.421Z"
   },
   {
    "duration": 26,
    "start_time": "2022-11-22T08:26:31.437Z"
   },
   {
    "duration": 52,
    "start_time": "2022-11-22T08:26:31.465Z"
   },
   {
    "duration": 135,
    "start_time": "2022-11-22T08:26:31.519Z"
   },
   {
    "duration": 39,
    "start_time": "2022-11-22T08:26:31.656Z"
   },
   {
    "duration": 191,
    "start_time": "2022-11-22T08:26:31.697Z"
   },
   {
    "duration": 20,
    "start_time": "2022-11-22T08:26:31.893Z"
   },
   {
    "duration": 19,
    "start_time": "2022-11-22T08:26:31.915Z"
   },
   {
    "duration": 49,
    "start_time": "2022-11-22T08:26:31.935Z"
   },
   {
    "duration": 7,
    "start_time": "2022-11-22T08:26:31.986Z"
   },
   {
    "duration": 22,
    "start_time": "2022-11-22T08:26:31.995Z"
   },
   {
    "duration": 5,
    "start_time": "2022-11-22T08:26:32.019Z"
   },
   {
    "duration": 28,
    "start_time": "2022-11-22T08:26:32.026Z"
   },
   {
    "duration": 53,
    "start_time": "2022-11-22T08:26:32.056Z"
   },
   {
    "duration": 5,
    "start_time": "2022-11-22T08:26:32.111Z"
   },
   {
    "duration": 14,
    "start_time": "2022-11-22T08:26:32.118Z"
   },
   {
    "duration": 16,
    "start_time": "2022-11-22T08:26:32.134Z"
   },
   {
    "duration": 28,
    "start_time": "2022-11-22T08:26:32.152Z"
   },
   {
    "duration": 29,
    "start_time": "2022-11-22T08:26:32.181Z"
   },
   {
    "duration": 23,
    "start_time": "2022-11-22T08:26:32.211Z"
   },
   {
    "duration": 46,
    "start_time": "2022-11-22T08:26:32.236Z"
   },
   {
    "duration": 15,
    "start_time": "2022-11-22T08:26:32.284Z"
   },
   {
    "duration": 18,
    "start_time": "2022-11-22T08:26:32.301Z"
   },
   {
    "duration": 7,
    "start_time": "2022-11-22T08:26:32.321Z"
   },
   {
    "duration": 248,
    "start_time": "2022-11-22T08:26:32.330Z"
   },
   {
    "duration": 16,
    "start_time": "2022-11-22T08:26:32.580Z"
   },
   {
    "duration": 15,
    "start_time": "2022-11-22T08:26:32.598Z"
   },
   {
    "duration": 215,
    "start_time": "2022-11-22T08:26:32.615Z"
   },
   {
    "duration": 452,
    "start_time": "2022-11-22T08:26:32.832Z"
   },
   {
    "duration": 149,
    "start_time": "2022-11-22T08:26:33.286Z"
   },
   {
    "duration": 6,
    "start_time": "2022-11-22T08:26:33.479Z"
   },
   {
    "duration": 17,
    "start_time": "2022-11-22T08:26:33.487Z"
   },
   {
    "duration": 8,
    "start_time": "2022-11-22T08:26:33.506Z"
   },
   {
    "duration": 14,
    "start_time": "2022-11-22T08:26:33.516Z"
   },
   {
    "duration": 10,
    "start_time": "2022-11-22T08:27:39.992Z"
   },
   {
    "duration": 1360,
    "start_time": "2022-11-22T08:27:46.305Z"
   },
   {
    "duration": 38,
    "start_time": "2022-11-22T08:27:47.667Z"
   },
   {
    "duration": 551,
    "start_time": "2022-11-22T08:27:47.707Z"
   },
   {
    "duration": 83,
    "start_time": "2022-11-22T08:27:48.259Z"
   },
   {
    "duration": 42,
    "start_time": "2022-11-22T08:27:48.344Z"
   },
   {
    "duration": 105,
    "start_time": "2022-11-22T08:27:48.388Z"
   },
   {
    "duration": 5,
    "start_time": "2022-11-22T08:27:48.495Z"
   },
   {
    "duration": 17,
    "start_time": "2022-11-22T08:27:48.502Z"
   },
   {
    "duration": 133,
    "start_time": "2022-11-22T08:27:48.522Z"
   },
   {
    "duration": 442,
    "start_time": "2022-11-22T08:27:48.660Z"
   },
   {
    "duration": 135,
    "start_time": "2022-11-22T08:27:49.104Z"
   },
   {
    "duration": 75,
    "start_time": "2022-11-22T08:27:49.241Z"
   },
   {
    "duration": 90,
    "start_time": "2022-11-22T08:27:49.319Z"
   },
   {
    "duration": 281,
    "start_time": "2022-11-22T08:27:49.412Z"
   },
   {
    "duration": 6,
    "start_time": "2022-11-22T08:27:49.695Z"
   },
   {
    "duration": 54,
    "start_time": "2022-11-22T08:27:49.703Z"
   },
   {
    "duration": 39,
    "start_time": "2022-11-22T08:27:49.759Z"
   },
   {
    "duration": 7,
    "start_time": "2022-11-22T08:27:49.801Z"
   },
   {
    "duration": 22,
    "start_time": "2022-11-22T08:27:49.811Z"
   },
   {
    "duration": 15,
    "start_time": "2022-11-22T08:27:49.835Z"
   },
   {
    "duration": 26,
    "start_time": "2022-11-22T08:27:49.852Z"
   },
   {
    "duration": 19,
    "start_time": "2022-11-22T08:27:49.880Z"
   },
   {
    "duration": 21,
    "start_time": "2022-11-22T08:27:49.900Z"
   },
   {
    "duration": 37,
    "start_time": "2022-11-22T08:27:49.923Z"
   },
   {
    "duration": 145,
    "start_time": "2022-11-22T08:27:49.962Z"
   },
   {
    "duration": 36,
    "start_time": "2022-11-22T08:27:50.109Z"
   },
   {
    "duration": 180,
    "start_time": "2022-11-22T08:27:50.148Z"
   },
   {
    "duration": 24,
    "start_time": "2022-11-22T08:27:50.332Z"
   },
   {
    "duration": 32,
    "start_time": "2022-11-22T08:27:50.358Z"
   },
   {
    "duration": 23,
    "start_time": "2022-11-22T08:27:50.392Z"
   },
   {
    "duration": 8,
    "start_time": "2022-11-22T08:27:50.417Z"
   },
   {
    "duration": 51,
    "start_time": "2022-11-22T08:27:50.427Z"
   },
   {
    "duration": 5,
    "start_time": "2022-11-22T08:27:50.480Z"
   },
   {
    "duration": 21,
    "start_time": "2022-11-22T08:27:50.487Z"
   },
   {
    "duration": 38,
    "start_time": "2022-11-22T08:27:50.510Z"
   },
   {
    "duration": 5,
    "start_time": "2022-11-22T08:27:50.550Z"
   },
   {
    "duration": 7,
    "start_time": "2022-11-22T08:27:50.578Z"
   },
   {
    "duration": 19,
    "start_time": "2022-11-22T08:27:50.587Z"
   },
   {
    "duration": 7,
    "start_time": "2022-11-22T08:27:50.608Z"
   },
   {
    "duration": 35,
    "start_time": "2022-11-22T08:27:50.617Z"
   },
   {
    "duration": 51,
    "start_time": "2022-11-22T08:27:50.654Z"
   },
   {
    "duration": 25,
    "start_time": "2022-11-22T08:27:50.707Z"
   },
   {
    "duration": 14,
    "start_time": "2022-11-22T08:27:50.734Z"
   },
   {
    "duration": 44,
    "start_time": "2022-11-22T08:27:50.750Z"
   },
   {
    "duration": 7,
    "start_time": "2022-11-22T08:27:50.796Z"
   },
   {
    "duration": 234,
    "start_time": "2022-11-22T08:27:50.805Z"
   },
   {
    "duration": 17,
    "start_time": "2022-11-22T08:27:51.041Z"
   },
   {
    "duration": 26,
    "start_time": "2022-11-22T08:27:51.060Z"
   },
   {
    "duration": 192,
    "start_time": "2022-11-22T08:27:51.088Z"
   },
   {
    "duration": 423,
    "start_time": "2022-11-22T08:27:51.282Z"
   },
   {
    "duration": 180,
    "start_time": "2022-11-22T08:27:51.707Z"
   },
   {
    "duration": 7,
    "start_time": "2022-11-22T08:27:51.888Z"
   },
   {
    "duration": 16,
    "start_time": "2022-11-22T08:27:51.897Z"
   },
   {
    "duration": 11,
    "start_time": "2022-11-22T08:27:51.915Z"
   },
   {
    "duration": 56,
    "start_time": "2022-11-22T08:27:51.928Z"
   },
   {
    "duration": 11,
    "start_time": "2022-11-22T08:30:10.840Z"
   },
   {
    "duration": 4,
    "start_time": "2022-11-22T08:30:39.001Z"
   },
   {
    "duration": 10,
    "start_time": "2022-11-22T08:30:44.331Z"
   },
   {
    "duration": 93,
    "start_time": "2022-11-22T08:30:57.307Z"
   },
   {
    "duration": 10,
    "start_time": "2022-11-22T08:32:29.012Z"
   },
   {
    "duration": 9,
    "start_time": "2022-11-22T08:32:35.997Z"
   },
   {
    "duration": 9,
    "start_time": "2022-11-22T08:32:55.202Z"
   },
   {
    "duration": 10,
    "start_time": "2022-11-22T08:34:22.483Z"
   },
   {
    "duration": 18,
    "start_time": "2022-11-22T08:34:59.235Z"
   },
   {
    "duration": 13,
    "start_time": "2022-11-22T08:35:16.193Z"
   },
   {
    "duration": 6,
    "start_time": "2022-11-22T08:35:29.331Z"
   },
   {
    "duration": 19,
    "start_time": "2022-11-22T08:35:35.863Z"
   },
   {
    "duration": 9,
    "start_time": "2022-11-22T08:36:03.214Z"
   },
   {
    "duration": 1379,
    "start_time": "2022-11-22T08:36:14.130Z"
   },
   {
    "duration": 41,
    "start_time": "2022-11-22T08:36:15.511Z"
   },
   {
    "duration": 560,
    "start_time": "2022-11-22T08:36:15.554Z"
   },
   {
    "duration": 79,
    "start_time": "2022-11-22T08:36:16.116Z"
   },
   {
    "duration": 34,
    "start_time": "2022-11-22T08:36:16.197Z"
   },
   {
    "duration": 111,
    "start_time": "2022-11-22T08:36:16.234Z"
   },
   {
    "duration": 5,
    "start_time": "2022-11-22T08:36:16.347Z"
   },
   {
    "duration": 8,
    "start_time": "2022-11-22T08:36:16.355Z"
   },
   {
    "duration": 115,
    "start_time": "2022-11-22T08:36:16.365Z"
   },
   {
    "duration": 389,
    "start_time": "2022-11-22T08:36:16.483Z"
   },
   {
    "duration": 104,
    "start_time": "2022-11-22T08:36:16.874Z"
   },
   {
    "duration": 67,
    "start_time": "2022-11-22T08:36:16.980Z"
   },
   {
    "duration": 96,
    "start_time": "2022-11-22T08:36:17.050Z"
   },
   {
    "duration": 287,
    "start_time": "2022-11-22T08:36:17.148Z"
   },
   {
    "duration": 9,
    "start_time": "2022-11-22T08:36:17.438Z"
   },
   {
    "duration": 59,
    "start_time": "2022-11-22T08:36:17.449Z"
   },
   {
    "duration": 29,
    "start_time": "2022-11-22T08:36:17.511Z"
   },
   {
    "duration": 6,
    "start_time": "2022-11-22T08:36:17.542Z"
   },
   {
    "duration": 34,
    "start_time": "2022-11-22T08:36:17.551Z"
   },
   {
    "duration": 10,
    "start_time": "2022-11-22T08:36:17.588Z"
   },
   {
    "duration": 21,
    "start_time": "2022-11-22T08:36:17.600Z"
   },
   {
    "duration": 23,
    "start_time": "2022-11-22T08:36:17.623Z"
   },
   {
    "duration": 18,
    "start_time": "2022-11-22T08:36:17.648Z"
   },
   {
    "duration": 33,
    "start_time": "2022-11-22T08:36:17.677Z"
   },
   {
    "duration": 139,
    "start_time": "2022-11-22T08:36:17.712Z"
   },
   {
    "duration": 41,
    "start_time": "2022-11-22T08:36:17.853Z"
   },
   {
    "duration": 184,
    "start_time": "2022-11-22T08:36:17.896Z"
   },
   {
    "duration": 22,
    "start_time": "2022-11-22T08:36:18.085Z"
   },
   {
    "duration": 61,
    "start_time": "2022-11-22T08:36:18.109Z"
   },
   {
    "duration": 35,
    "start_time": "2022-11-22T08:36:18.172Z"
   },
   {
    "duration": 56,
    "start_time": "2022-11-22T08:36:18.209Z"
   },
   {
    "duration": 75,
    "start_time": "2022-11-22T08:36:18.267Z"
   },
   {
    "duration": 26,
    "start_time": "2022-11-22T08:36:18.344Z"
   },
   {
    "duration": 71,
    "start_time": "2022-11-22T08:36:18.372Z"
   },
   {
    "duration": 43,
    "start_time": "2022-11-22T08:36:18.444Z"
   },
   {
    "duration": 10,
    "start_time": "2022-11-22T08:36:18.489Z"
   },
   {
    "duration": 28,
    "start_time": "2022-11-22T08:36:18.501Z"
   },
   {
    "duration": 28,
    "start_time": "2022-11-22T08:36:18.531Z"
   },
   {
    "duration": 36,
    "start_time": "2022-11-22T08:36:18.561Z"
   },
   {
    "duration": 33,
    "start_time": "2022-11-22T08:36:18.599Z"
   },
   {
    "duration": 26,
    "start_time": "2022-11-22T08:36:18.634Z"
   },
   {
    "duration": 69,
    "start_time": "2022-11-22T08:36:18.662Z"
   },
   {
    "duration": 12,
    "start_time": "2022-11-22T08:36:18.734Z"
   },
   {
    "duration": 36,
    "start_time": "2022-11-22T08:36:18.747Z"
   },
   {
    "duration": 15,
    "start_time": "2022-11-22T08:36:18.785Z"
   },
   {
    "duration": 272,
    "start_time": "2022-11-22T08:36:18.801Z"
   },
   {
    "duration": 19,
    "start_time": "2022-11-22T08:36:19.075Z"
   },
   {
    "duration": 48,
    "start_time": "2022-11-22T08:36:19.097Z"
   },
   {
    "duration": 238,
    "start_time": "2022-11-22T08:36:19.147Z"
   },
   {
    "duration": 466,
    "start_time": "2022-11-22T08:36:19.387Z"
   },
   {
    "duration": 142,
    "start_time": "2022-11-22T08:36:19.855Z"
   },
   {
    "duration": 7,
    "start_time": "2022-11-22T08:36:19.999Z"
   },
   {
    "duration": 23,
    "start_time": "2022-11-22T08:36:20.008Z"
   },
   {
    "duration": 28,
    "start_time": "2022-11-22T08:36:20.034Z"
   },
   {
    "duration": 22,
    "start_time": "2022-11-22T08:36:20.064Z"
   },
   {
    "duration": 8,
    "start_time": "2022-11-22T08:41:14.767Z"
   },
   {
    "duration": 241,
    "start_time": "2022-11-22T08:41:28.922Z"
   },
   {
    "duration": 1349,
    "start_time": "2022-11-22T08:41:45.794Z"
   },
   {
    "duration": 38,
    "start_time": "2022-11-22T08:41:47.146Z"
   },
   {
    "duration": 528,
    "start_time": "2022-11-22T08:41:47.186Z"
   },
   {
    "duration": 81,
    "start_time": "2022-11-22T08:41:47.716Z"
   },
   {
    "duration": 34,
    "start_time": "2022-11-22T08:41:47.799Z"
   },
   {
    "duration": 98,
    "start_time": "2022-11-22T08:41:47.834Z"
   },
   {
    "duration": 5,
    "start_time": "2022-11-22T08:41:47.934Z"
   },
   {
    "duration": 18,
    "start_time": "2022-11-22T08:41:47.941Z"
   },
   {
    "duration": 122,
    "start_time": "2022-11-22T08:41:47.961Z"
   },
   {
    "duration": 392,
    "start_time": "2022-11-22T08:41:48.086Z"
   },
   {
    "duration": 76,
    "start_time": "2022-11-22T08:41:48.480Z"
   },
   {
    "duration": 69,
    "start_time": "2022-11-22T08:41:48.558Z"
   },
   {
    "duration": 84,
    "start_time": "2022-11-22T08:41:48.628Z"
   },
   {
    "duration": 238,
    "start_time": "2022-11-22T08:41:48.714Z"
   },
   {
    "duration": 6,
    "start_time": "2022-11-22T08:41:48.954Z"
   },
   {
    "duration": 38,
    "start_time": "2022-11-22T08:41:48.978Z"
   },
   {
    "duration": 25,
    "start_time": "2022-11-22T08:41:49.018Z"
   },
   {
    "duration": 33,
    "start_time": "2022-11-22T08:41:49.045Z"
   },
   {
    "duration": 27,
    "start_time": "2022-11-22T08:41:49.081Z"
   },
   {
    "duration": 16,
    "start_time": "2022-11-22T08:41:49.110Z"
   },
   {
    "duration": 34,
    "start_time": "2022-11-22T08:41:49.129Z"
   },
   {
    "duration": 44,
    "start_time": "2022-11-22T08:41:49.166Z"
   },
   {
    "duration": 28,
    "start_time": "2022-11-22T08:41:49.212Z"
   },
   {
    "duration": 55,
    "start_time": "2022-11-22T08:41:49.242Z"
   },
   {
    "duration": 131,
    "start_time": "2022-11-22T08:41:49.299Z"
   },
   {
    "duration": 29,
    "start_time": "2022-11-22T08:41:49.432Z"
   },
   {
    "duration": 185,
    "start_time": "2022-11-22T08:41:49.463Z"
   },
   {
    "duration": 30,
    "start_time": "2022-11-22T08:41:49.652Z"
   },
   {
    "duration": 18,
    "start_time": "2022-11-22T08:41:49.684Z"
   },
   {
    "duration": 24,
    "start_time": "2022-11-22T08:41:49.704Z"
   },
   {
    "duration": 8,
    "start_time": "2022-11-22T08:41:49.729Z"
   },
   {
    "duration": 50,
    "start_time": "2022-11-22T08:41:49.738Z"
   },
   {
    "duration": 4,
    "start_time": "2022-11-22T08:41:49.790Z"
   },
   {
    "duration": 37,
    "start_time": "2022-11-22T08:41:49.796Z"
   },
   {
    "duration": 39,
    "start_time": "2022-11-22T08:41:49.835Z"
   },
   {
    "duration": 5,
    "start_time": "2022-11-22T08:41:49.876Z"
   },
   {
    "duration": 9,
    "start_time": "2022-11-22T08:41:49.883Z"
   },
   {
    "duration": 28,
    "start_time": "2022-11-22T08:41:49.894Z"
   },
   {
    "duration": 19,
    "start_time": "2022-11-22T08:41:49.923Z"
   },
   {
    "duration": 28,
    "start_time": "2022-11-22T08:41:49.944Z"
   },
   {
    "duration": 24,
    "start_time": "2022-11-22T08:41:49.974Z"
   },
   {
    "duration": 22,
    "start_time": "2022-11-22T08:41:50.000Z"
   },
   {
    "duration": 28,
    "start_time": "2022-11-22T08:41:50.024Z"
   },
   {
    "duration": 28,
    "start_time": "2022-11-22T08:41:50.054Z"
   },
   {
    "duration": 11,
    "start_time": "2022-11-22T08:41:50.084Z"
   },
   {
    "duration": 222,
    "start_time": "2022-11-22T08:41:50.097Z"
   },
   {
    "duration": 15,
    "start_time": "2022-11-22T08:41:50.321Z"
   },
   {
    "duration": 19,
    "start_time": "2022-11-22T08:41:50.338Z"
   },
   {
    "duration": 186,
    "start_time": "2022-11-22T08:41:50.360Z"
   },
   {
    "duration": 405,
    "start_time": "2022-11-22T08:41:50.548Z"
   },
   {
    "duration": 154,
    "start_time": "2022-11-22T08:41:50.955Z"
   },
   {
    "duration": 7,
    "start_time": "2022-11-22T08:41:51.110Z"
   },
   {
    "duration": 20,
    "start_time": "2022-11-22T08:41:51.119Z"
   },
   {
    "duration": 11,
    "start_time": "2022-11-22T08:41:51.141Z"
   },
   {
    "duration": 29,
    "start_time": "2022-11-22T08:41:51.154Z"
   },
   {
    "duration": 9,
    "start_time": "2022-11-22T08:42:21.610Z"
   },
   {
    "duration": 209,
    "start_time": "2022-11-22T08:42:25.297Z"
   },
   {
    "duration": 1404,
    "start_time": "2022-11-22T08:50:25.327Z"
   },
   {
    "duration": 1161,
    "start_time": "2022-11-22T08:50:32.633Z"
   },
   {
    "duration": 19,
    "start_time": "2022-11-22T08:53:26.046Z"
   },
   {
    "duration": 1393,
    "start_time": "2022-11-22T08:53:32.466Z"
   },
   {
    "duration": 38,
    "start_time": "2022-11-22T08:53:33.862Z"
   },
   {
    "duration": 626,
    "start_time": "2022-11-22T08:53:33.902Z"
   },
   {
    "duration": 86,
    "start_time": "2022-11-22T08:53:34.530Z"
   },
   {
    "duration": 34,
    "start_time": "2022-11-22T08:53:34.617Z"
   },
   {
    "duration": 107,
    "start_time": "2022-11-22T08:53:34.653Z"
   },
   {
    "duration": 16,
    "start_time": "2022-11-22T08:53:34.762Z"
   },
   {
    "duration": 6,
    "start_time": "2022-11-22T08:53:34.780Z"
   },
   {
    "duration": 114,
    "start_time": "2022-11-22T08:53:34.788Z"
   },
   {
    "duration": 425,
    "start_time": "2022-11-22T08:53:34.905Z"
   },
   {
    "duration": 90,
    "start_time": "2022-11-22T08:53:35.332Z"
   },
   {
    "duration": 70,
    "start_time": "2022-11-22T08:53:35.424Z"
   },
   {
    "duration": 83,
    "start_time": "2022-11-22T08:53:35.496Z"
   },
   {
    "duration": 260,
    "start_time": "2022-11-22T08:53:35.581Z"
   },
   {
    "duration": 6,
    "start_time": "2022-11-22T08:53:35.843Z"
   },
   {
    "duration": 50,
    "start_time": "2022-11-22T08:53:35.851Z"
   },
   {
    "duration": 21,
    "start_time": "2022-11-22T08:53:35.903Z"
   },
   {
    "duration": 23,
    "start_time": "2022-11-22T08:53:35.925Z"
   },
   {
    "duration": 10,
    "start_time": "2022-11-22T08:53:35.950Z"
   },
   {
    "duration": 4,
    "start_time": "2022-11-22T08:53:35.979Z"
   },
   {
    "duration": 10,
    "start_time": "2022-11-22T08:53:35.985Z"
   },
   {
    "duration": 12,
    "start_time": "2022-11-22T08:53:35.997Z"
   },
   {
    "duration": 18,
    "start_time": "2022-11-22T08:53:36.011Z"
   },
   {
    "duration": 70,
    "start_time": "2022-11-22T08:53:36.032Z"
   },
   {
    "duration": 139,
    "start_time": "2022-11-22T08:53:36.104Z"
   },
   {
    "duration": 42,
    "start_time": "2022-11-22T08:53:36.246Z"
   },
   {
    "duration": 167,
    "start_time": "2022-11-22T08:53:36.289Z"
   },
   {
    "duration": 30,
    "start_time": "2022-11-22T08:53:36.460Z"
   },
   {
    "duration": 19,
    "start_time": "2022-11-22T08:53:36.492Z"
   },
   {
    "duration": 23,
    "start_time": "2022-11-22T08:53:36.513Z"
   },
   {
    "duration": 40,
    "start_time": "2022-11-22T08:53:36.538Z"
   },
   {
    "duration": 17,
    "start_time": "2022-11-22T08:53:36.580Z"
   },
   {
    "duration": 6,
    "start_time": "2022-11-22T08:53:36.598Z"
   },
   {
    "duration": 16,
    "start_time": "2022-11-22T08:53:36.605Z"
   },
   {
    "duration": 32,
    "start_time": "2022-11-22T08:53:36.622Z"
   },
   {
    "duration": 6,
    "start_time": "2022-11-22T08:53:36.678Z"
   },
   {
    "duration": 9,
    "start_time": "2022-11-22T08:53:36.686Z"
   },
   {
    "duration": 11,
    "start_time": "2022-11-22T08:53:36.697Z"
   },
   {
    "duration": 8,
    "start_time": "2022-11-22T08:53:36.710Z"
   },
   {
    "duration": 60,
    "start_time": "2022-11-22T08:53:36.719Z"
   },
   {
    "duration": 22,
    "start_time": "2022-11-22T08:53:36.781Z"
   },
   {
    "duration": 20,
    "start_time": "2022-11-22T08:53:36.805Z"
   },
   {
    "duration": 12,
    "start_time": "2022-11-22T08:53:36.826Z"
   },
   {
    "duration": 53,
    "start_time": "2022-11-22T08:53:36.839Z"
   },
   {
    "duration": 13,
    "start_time": "2022-11-22T08:53:36.894Z"
   },
   {
    "duration": 225,
    "start_time": "2022-11-22T08:53:36.909Z"
   },
   {
    "duration": 1155,
    "start_time": "2022-11-22T08:53:37.136Z"
   },
   {
    "duration": 0,
    "start_time": "2022-11-22T08:53:38.293Z"
   },
   {
    "duration": 0,
    "start_time": "2022-11-22T08:53:38.294Z"
   },
   {
    "duration": 0,
    "start_time": "2022-11-22T08:53:38.295Z"
   },
   {
    "duration": 0,
    "start_time": "2022-11-22T08:53:38.297Z"
   },
   {
    "duration": 0,
    "start_time": "2022-11-22T08:53:38.298Z"
   },
   {
    "duration": 0,
    "start_time": "2022-11-22T08:53:38.299Z"
   },
   {
    "duration": 0,
    "start_time": "2022-11-22T08:53:38.300Z"
   },
   {
    "duration": 0,
    "start_time": "2022-11-22T08:53:38.302Z"
   },
   {
    "duration": 0,
    "start_time": "2022-11-22T08:53:38.303Z"
   },
   {
    "duration": 5,
    "start_time": "2022-11-22T08:53:54.856Z"
   },
   {
    "duration": 6,
    "start_time": "2022-11-22T08:55:37.729Z"
   },
   {
    "duration": 11,
    "start_time": "2022-11-22T08:55:43.423Z"
   },
   {
    "duration": 13,
    "start_time": "2022-11-22T08:56:20.987Z"
   },
   {
    "duration": 12,
    "start_time": "2022-11-22T08:59:25.292Z"
   },
   {
    "duration": 13,
    "start_time": "2022-11-22T08:59:40.083Z"
   },
   {
    "duration": 12,
    "start_time": "2022-11-22T09:00:52.554Z"
   },
   {
    "duration": 13,
    "start_time": "2022-11-22T09:01:02.389Z"
   },
   {
    "duration": 1409,
    "start_time": "2022-11-22T09:01:13.872Z"
   },
   {
    "duration": 38,
    "start_time": "2022-11-22T09:01:15.283Z"
   },
   {
    "duration": 550,
    "start_time": "2022-11-22T09:01:15.323Z"
   },
   {
    "duration": 85,
    "start_time": "2022-11-22T09:01:15.877Z"
   },
   {
    "duration": 34,
    "start_time": "2022-11-22T09:01:15.964Z"
   },
   {
    "duration": 110,
    "start_time": "2022-11-22T09:01:16.000Z"
   },
   {
    "duration": 5,
    "start_time": "2022-11-22T09:01:16.111Z"
   },
   {
    "duration": 42,
    "start_time": "2022-11-22T09:01:16.118Z"
   },
   {
    "duration": 103,
    "start_time": "2022-11-22T09:01:16.162Z"
   },
   {
    "duration": 388,
    "start_time": "2022-11-22T09:01:16.268Z"
   },
   {
    "duration": 88,
    "start_time": "2022-11-22T09:01:16.657Z"
   },
   {
    "duration": 69,
    "start_time": "2022-11-22T09:01:16.747Z"
   },
   {
    "duration": 87,
    "start_time": "2022-11-22T09:01:16.817Z"
   },
   {
    "duration": 281,
    "start_time": "2022-11-22T09:01:16.905Z"
   },
   {
    "duration": 7,
    "start_time": "2022-11-22T09:01:17.188Z"
   },
   {
    "duration": 74,
    "start_time": "2022-11-22T09:01:17.197Z"
   },
   {
    "duration": 24,
    "start_time": "2022-11-22T09:01:17.273Z"
   },
   {
    "duration": 114,
    "start_time": "2022-11-22T09:01:17.299Z"
   },
   {
    "duration": 21,
    "start_time": "2022-11-22T09:01:17.414Z"
   },
   {
    "duration": 19,
    "start_time": "2022-11-22T09:01:17.437Z"
   },
   {
    "duration": 19,
    "start_time": "2022-11-22T09:01:17.458Z"
   },
   {
    "duration": 23,
    "start_time": "2022-11-22T09:01:17.479Z"
   },
   {
    "duration": 18,
    "start_time": "2022-11-22T09:01:17.504Z"
   },
   {
    "duration": 35,
    "start_time": "2022-11-22T09:01:17.524Z"
   },
   {
    "duration": 138,
    "start_time": "2022-11-22T09:01:17.561Z"
   },
   {
    "duration": 12,
    "start_time": "2022-11-22T09:01:17.701Z"
   },
   {
    "duration": 40,
    "start_time": "2022-11-22T09:01:17.715Z"
   },
   {
    "duration": 174,
    "start_time": "2022-11-22T09:01:17.759Z"
   },
   {
    "duration": 20,
    "start_time": "2022-11-22T09:01:17.935Z"
   },
   {
    "duration": 32,
    "start_time": "2022-11-22T09:01:17.957Z"
   },
   {
    "duration": 25,
    "start_time": "2022-11-22T09:01:17.991Z"
   },
   {
    "duration": 8,
    "start_time": "2022-11-22T09:01:18.018Z"
   },
   {
    "duration": 31,
    "start_time": "2022-11-22T09:01:18.027Z"
   },
   {
    "duration": 22,
    "start_time": "2022-11-22T09:01:18.060Z"
   },
   {
    "duration": 22,
    "start_time": "2022-11-22T09:01:18.084Z"
   },
   {
    "duration": 41,
    "start_time": "2022-11-22T09:01:18.107Z"
   },
   {
    "duration": 5,
    "start_time": "2022-11-22T09:01:18.150Z"
   },
   {
    "duration": 16,
    "start_time": "2022-11-22T09:01:18.156Z"
   },
   {
    "duration": 14,
    "start_time": "2022-11-22T09:01:18.177Z"
   },
   {
    "duration": 7,
    "start_time": "2022-11-22T09:01:18.193Z"
   },
   {
    "duration": 45,
    "start_time": "2022-11-22T09:01:18.202Z"
   },
   {
    "duration": 39,
    "start_time": "2022-11-22T09:01:18.249Z"
   },
   {
    "duration": 26,
    "start_time": "2022-11-22T09:01:18.290Z"
   },
   {
    "duration": 16,
    "start_time": "2022-11-22T09:01:18.318Z"
   },
   {
    "duration": 41,
    "start_time": "2022-11-22T09:01:18.336Z"
   },
   {
    "duration": 10,
    "start_time": "2022-11-22T09:01:18.379Z"
   },
   {
    "duration": 220,
    "start_time": "2022-11-22T09:01:18.391Z"
   },
   {
    "duration": 14,
    "start_time": "2022-11-22T09:01:18.612Z"
   },
   {
    "duration": 20,
    "start_time": "2022-11-22T09:01:18.628Z"
   },
   {
    "duration": 30,
    "start_time": "2022-11-22T09:01:18.650Z"
   },
   {
    "duration": 190,
    "start_time": "2022-11-22T09:01:18.682Z"
   },
   {
    "duration": 433,
    "start_time": "2022-11-22T09:01:18.874Z"
   },
   {
    "duration": 184,
    "start_time": "2022-11-22T09:01:19.309Z"
   },
   {
    "duration": 7,
    "start_time": "2022-11-22T09:01:19.495Z"
   },
   {
    "duration": 404,
    "start_time": "2022-11-22T09:01:19.503Z"
   },
   {
    "duration": 0,
    "start_time": "2022-11-22T09:01:19.909Z"
   },
   {
    "duration": 0,
    "start_time": "2022-11-22T09:01:19.911Z"
   },
   {
    "duration": 14,
    "start_time": "2022-11-22T09:02:21.130Z"
   },
   {
    "duration": 44,
    "start_time": "2022-11-22T09:04:47.114Z"
   },
   {
    "duration": 13,
    "start_time": "2022-11-22T09:05:48.722Z"
   },
   {
    "duration": 55,
    "start_time": "2022-11-22T09:05:56.818Z"
   },
   {
    "duration": 13,
    "start_time": "2022-11-22T09:06:55.895Z"
   },
   {
    "duration": 11,
    "start_time": "2022-11-22T09:12:16.775Z"
   },
   {
    "duration": 9,
    "start_time": "2022-11-22T09:12:43.281Z"
   },
   {
    "duration": 1368,
    "start_time": "2022-11-22T09:13:00.369Z"
   },
   {
    "duration": 39,
    "start_time": "2022-11-22T09:13:01.738Z"
   },
   {
    "duration": 524,
    "start_time": "2022-11-22T09:13:01.778Z"
   },
   {
    "duration": 87,
    "start_time": "2022-11-22T09:13:02.303Z"
   },
   {
    "duration": 36,
    "start_time": "2022-11-22T09:13:02.392Z"
   },
   {
    "duration": 95,
    "start_time": "2022-11-22T09:13:02.430Z"
   },
   {
    "duration": 5,
    "start_time": "2022-11-22T09:13:02.526Z"
   },
   {
    "duration": 8,
    "start_time": "2022-11-22T09:13:02.533Z"
   },
   {
    "duration": 100,
    "start_time": "2022-11-22T09:13:02.543Z"
   },
   {
    "duration": 409,
    "start_time": "2022-11-22T09:13:02.645Z"
   },
   {
    "duration": 83,
    "start_time": "2022-11-22T09:13:03.056Z"
   },
   {
    "duration": 66,
    "start_time": "2022-11-22T09:13:03.141Z"
   },
   {
    "duration": 89,
    "start_time": "2022-11-22T09:13:03.209Z"
   },
   {
    "duration": 240,
    "start_time": "2022-11-22T09:13:03.299Z"
   },
   {
    "duration": 5,
    "start_time": "2022-11-22T09:13:03.541Z"
   },
   {
    "duration": 47,
    "start_time": "2022-11-22T09:13:03.548Z"
   },
   {
    "duration": 20,
    "start_time": "2022-11-22T09:13:03.596Z"
   },
   {
    "duration": 14,
    "start_time": "2022-11-22T09:13:03.618Z"
   },
   {
    "duration": 9,
    "start_time": "2022-11-22T09:13:03.634Z"
   },
   {
    "duration": 5,
    "start_time": "2022-11-22T09:13:03.645Z"
   },
   {
    "duration": 28,
    "start_time": "2022-11-22T09:13:03.652Z"
   },
   {
    "duration": 8,
    "start_time": "2022-11-22T09:13:03.682Z"
   },
   {
    "duration": 12,
    "start_time": "2022-11-22T09:13:03.692Z"
   },
   {
    "duration": 31,
    "start_time": "2022-11-22T09:13:03.705Z"
   },
   {
    "duration": 146,
    "start_time": "2022-11-22T09:13:03.738Z"
   },
   {
    "duration": 29,
    "start_time": "2022-11-22T09:13:03.886Z"
   },
   {
    "duration": 30,
    "start_time": "2022-11-22T09:13:03.917Z"
   },
   {
    "duration": 224,
    "start_time": "2022-11-22T09:13:03.951Z"
   },
   {
    "duration": 25,
    "start_time": "2022-11-22T09:13:04.178Z"
   },
   {
    "duration": 25,
    "start_time": "2022-11-22T09:13:04.205Z"
   },
   {
    "duration": 53,
    "start_time": "2022-11-22T09:13:04.232Z"
   },
   {
    "duration": 7,
    "start_time": "2022-11-22T09:13:04.286Z"
   },
   {
    "duration": 23,
    "start_time": "2022-11-22T09:13:04.294Z"
   },
   {
    "duration": 5,
    "start_time": "2022-11-22T09:13:04.319Z"
   },
   {
    "duration": 16,
    "start_time": "2022-11-22T09:13:04.325Z"
   },
   {
    "duration": 42,
    "start_time": "2022-11-22T09:13:04.343Z"
   },
   {
    "duration": 5,
    "start_time": "2022-11-22T09:13:04.387Z"
   },
   {
    "duration": 10,
    "start_time": "2022-11-22T09:13:04.394Z"
   },
   {
    "duration": 18,
    "start_time": "2022-11-22T09:13:04.405Z"
   },
   {
    "duration": 7,
    "start_time": "2022-11-22T09:13:04.425Z"
   },
   {
    "duration": 55,
    "start_time": "2022-11-22T09:13:04.435Z"
   },
   {
    "duration": 22,
    "start_time": "2022-11-22T09:13:04.492Z"
   },
   {
    "duration": 19,
    "start_time": "2022-11-22T09:13:04.517Z"
   },
   {
    "duration": 10,
    "start_time": "2022-11-22T09:13:04.538Z"
   },
   {
    "duration": 16,
    "start_time": "2022-11-22T09:13:04.579Z"
   },
   {
    "duration": 9,
    "start_time": "2022-11-22T09:13:04.597Z"
   },
   {
    "duration": 217,
    "start_time": "2022-11-22T09:13:04.607Z"
   },
   {
    "duration": 13,
    "start_time": "2022-11-22T09:13:04.825Z"
   },
   {
    "duration": 15,
    "start_time": "2022-11-22T09:13:04.840Z"
   },
   {
    "duration": 9,
    "start_time": "2022-11-22T09:13:04.879Z"
   },
   {
    "duration": 201,
    "start_time": "2022-11-22T09:13:04.890Z"
   },
   {
    "duration": 414,
    "start_time": "2022-11-22T09:13:05.093Z"
   },
   {
    "duration": 123,
    "start_time": "2022-11-22T09:13:05.508Z"
   },
   {
    "duration": 47,
    "start_time": "2022-11-22T09:13:05.633Z"
   },
   {
    "duration": 380,
    "start_time": "2022-11-22T09:13:05.682Z"
   },
   {
    "duration": 0,
    "start_time": "2022-11-22T09:13:06.064Z"
   },
   {
    "duration": 0,
    "start_time": "2022-11-22T09:13:06.065Z"
   },
   {
    "duration": 10,
    "start_time": "2022-11-22T09:13:22.490Z"
   },
   {
    "duration": 185,
    "start_time": "2022-11-22T09:13:30.020Z"
   },
   {
    "duration": 1491,
    "start_time": "2022-11-22T09:13:42.848Z"
   },
   {
    "duration": 39,
    "start_time": "2022-11-22T09:13:44.341Z"
   },
   {
    "duration": 538,
    "start_time": "2022-11-22T09:13:44.382Z"
   },
   {
    "duration": 81,
    "start_time": "2022-11-22T09:13:44.922Z"
   },
   {
    "duration": 36,
    "start_time": "2022-11-22T09:13:45.005Z"
   },
   {
    "duration": 109,
    "start_time": "2022-11-22T09:13:45.043Z"
   },
   {
    "duration": 5,
    "start_time": "2022-11-22T09:13:45.153Z"
   },
   {
    "duration": 12,
    "start_time": "2022-11-22T09:13:45.159Z"
   },
   {
    "duration": 90,
    "start_time": "2022-11-22T09:13:45.178Z"
   },
   {
    "duration": 370,
    "start_time": "2022-11-22T09:13:45.277Z"
   },
   {
    "duration": 80,
    "start_time": "2022-11-22T09:13:45.649Z"
   },
   {
    "duration": 68,
    "start_time": "2022-11-22T09:13:45.730Z"
   },
   {
    "duration": 81,
    "start_time": "2022-11-22T09:13:45.799Z"
   },
   {
    "duration": 253,
    "start_time": "2022-11-22T09:13:45.881Z"
   },
   {
    "duration": 7,
    "start_time": "2022-11-22T09:13:46.135Z"
   },
   {
    "duration": 54,
    "start_time": "2022-11-22T09:13:46.143Z"
   },
   {
    "duration": 20,
    "start_time": "2022-11-22T09:13:46.198Z"
   },
   {
    "duration": 5,
    "start_time": "2022-11-22T09:13:46.220Z"
   },
   {
    "duration": 9,
    "start_time": "2022-11-22T09:13:46.226Z"
   },
   {
    "duration": 3,
    "start_time": "2022-11-22T09:13:46.238Z"
   },
   {
    "duration": 38,
    "start_time": "2022-11-22T09:13:46.243Z"
   },
   {
    "duration": 10,
    "start_time": "2022-11-22T09:13:46.283Z"
   },
   {
    "duration": 12,
    "start_time": "2022-11-22T09:13:46.295Z"
   },
   {
    "duration": 29,
    "start_time": "2022-11-22T09:13:46.309Z"
   },
   {
    "duration": 149,
    "start_time": "2022-11-22T09:13:46.339Z"
   },
   {
    "duration": 28,
    "start_time": "2022-11-22T09:13:46.490Z"
   },
   {
    "duration": 23,
    "start_time": "2022-11-22T09:13:46.519Z"
   },
   {
    "duration": 181,
    "start_time": "2022-11-22T09:13:46.545Z"
   },
   {
    "duration": 18,
    "start_time": "2022-11-22T09:13:46.728Z"
   },
   {
    "duration": 32,
    "start_time": "2022-11-22T09:13:46.748Z"
   },
   {
    "duration": 23,
    "start_time": "2022-11-22T09:13:46.781Z"
   },
   {
    "duration": 7,
    "start_time": "2022-11-22T09:13:46.805Z"
   },
   {
    "duration": 17,
    "start_time": "2022-11-22T09:13:46.814Z"
   },
   {
    "duration": 4,
    "start_time": "2022-11-22T09:13:46.833Z"
   },
   {
    "duration": 43,
    "start_time": "2022-11-22T09:13:46.839Z"
   },
   {
    "duration": 30,
    "start_time": "2022-11-22T09:13:46.884Z"
   },
   {
    "duration": 4,
    "start_time": "2022-11-22T09:13:46.915Z"
   },
   {
    "duration": 9,
    "start_time": "2022-11-22T09:13:46.921Z"
   },
   {
    "duration": 11,
    "start_time": "2022-11-22T09:13:46.932Z"
   },
   {
    "duration": 6,
    "start_time": "2022-11-22T09:13:46.945Z"
   },
   {
    "duration": 23,
    "start_time": "2022-11-22T09:13:46.978Z"
   },
   {
    "duration": 21,
    "start_time": "2022-11-22T09:13:47.003Z"
   },
   {
    "duration": 27,
    "start_time": "2022-11-22T09:13:47.026Z"
   },
   {
    "duration": 36,
    "start_time": "2022-11-22T09:13:47.055Z"
   },
   {
    "duration": 16,
    "start_time": "2022-11-22T09:13:47.093Z"
   },
   {
    "duration": 9,
    "start_time": "2022-11-22T09:13:47.111Z"
   },
   {
    "duration": 223,
    "start_time": "2022-11-22T09:13:47.122Z"
   },
   {
    "duration": 12,
    "start_time": "2022-11-22T09:13:47.346Z"
   },
   {
    "duration": 31,
    "start_time": "2022-11-22T09:13:47.360Z"
   },
   {
    "duration": 10,
    "start_time": "2022-11-22T09:13:47.393Z"
   },
   {
    "duration": 211,
    "start_time": "2022-11-22T09:13:47.404Z"
   },
   {
    "duration": 401,
    "start_time": "2022-11-22T09:13:47.617Z"
   },
   {
    "duration": 120,
    "start_time": "2022-11-22T09:13:48.020Z"
   },
   {
    "duration": 40,
    "start_time": "2022-11-22T09:13:48.142Z"
   },
   {
    "duration": 362,
    "start_time": "2022-11-22T09:13:48.184Z"
   },
   {
    "duration": 0,
    "start_time": "2022-11-22T09:13:48.547Z"
   },
   {
    "duration": 0,
    "start_time": "2022-11-22T09:13:48.549Z"
   },
   {
    "duration": 13,
    "start_time": "2022-11-22T09:15:08.514Z"
   },
   {
    "duration": 78,
    "start_time": "2022-11-22T09:17:35.384Z"
   },
   {
    "duration": 14,
    "start_time": "2022-11-22T09:18:23.476Z"
   },
   {
    "duration": 32,
    "start_time": "2022-11-22T09:18:59.580Z"
   },
   {
    "duration": 12,
    "start_time": "2022-11-22T09:19:21.385Z"
   },
   {
    "duration": 14,
    "start_time": "2022-11-22T09:21:33.854Z"
   },
   {
    "duration": 13,
    "start_time": "2022-11-22T09:21:43.862Z"
   },
   {
    "duration": 12,
    "start_time": "2022-11-22T09:22:05.472Z"
   },
   {
    "duration": 79,
    "start_time": "2022-11-22T09:22:16.552Z"
   },
   {
    "duration": 328,
    "start_time": "2022-11-22T09:23:07.041Z"
   },
   {
    "duration": 95,
    "start_time": "2022-11-22T09:27:36.969Z"
   },
   {
    "duration": 32,
    "start_time": "2022-11-22T09:27:41.231Z"
   },
   {
    "duration": 8,
    "start_time": "2022-11-22T09:27:53.154Z"
   },
   {
    "duration": 11,
    "start_time": "2022-11-22T09:30:42.593Z"
   },
   {
    "duration": 10,
    "start_time": "2022-11-22T09:32:31.560Z"
   },
   {
    "duration": 11,
    "start_time": "2022-11-22T09:33:23.551Z"
   },
   {
    "duration": 373,
    "start_time": "2022-11-22T09:35:26.151Z"
   },
   {
    "duration": 25,
    "start_time": "2022-11-22T09:38:25.241Z"
   },
   {
    "duration": 66,
    "start_time": "2022-11-22T09:38:52.217Z"
   },
   {
    "duration": 16,
    "start_time": "2022-11-22T09:40:59.429Z"
   },
   {
    "duration": 10,
    "start_time": "2022-11-22T09:41:10.897Z"
   },
   {
    "duration": 1314,
    "start_time": "2022-11-22T09:41:20.452Z"
   },
   {
    "duration": 38,
    "start_time": "2022-11-22T09:41:21.768Z"
   },
   {
    "duration": 533,
    "start_time": "2022-11-22T09:41:21.808Z"
   },
   {
    "duration": 82,
    "start_time": "2022-11-22T09:41:22.343Z"
   },
   {
    "duration": 34,
    "start_time": "2022-11-22T09:41:22.426Z"
   },
   {
    "duration": 93,
    "start_time": "2022-11-22T09:41:22.462Z"
   },
   {
    "duration": 5,
    "start_time": "2022-11-22T09:41:22.557Z"
   },
   {
    "duration": 16,
    "start_time": "2022-11-22T09:41:22.564Z"
   },
   {
    "duration": 111,
    "start_time": "2022-11-22T09:41:22.582Z"
   },
   {
    "duration": 412,
    "start_time": "2022-11-22T09:41:22.696Z"
   },
   {
    "duration": 85,
    "start_time": "2022-11-22T09:41:23.110Z"
   },
   {
    "duration": 83,
    "start_time": "2022-11-22T09:41:23.197Z"
   },
   {
    "duration": 80,
    "start_time": "2022-11-22T09:41:23.282Z"
   },
   {
    "duration": 255,
    "start_time": "2022-11-22T09:41:23.364Z"
   },
   {
    "duration": 6,
    "start_time": "2022-11-22T09:41:23.621Z"
   },
   {
    "duration": 55,
    "start_time": "2022-11-22T09:41:23.628Z"
   },
   {
    "duration": 21,
    "start_time": "2022-11-22T09:41:23.685Z"
   },
   {
    "duration": 5,
    "start_time": "2022-11-22T09:41:23.708Z"
   },
   {
    "duration": 9,
    "start_time": "2022-11-22T09:41:23.716Z"
   },
   {
    "duration": 4,
    "start_time": "2022-11-22T09:41:23.727Z"
   },
   {
    "duration": 8,
    "start_time": "2022-11-22T09:41:23.733Z"
   },
   {
    "duration": 11,
    "start_time": "2022-11-22T09:41:23.777Z"
   },
   {
    "duration": 13,
    "start_time": "2022-11-22T09:41:23.790Z"
   },
   {
    "duration": 31,
    "start_time": "2022-11-22T09:41:23.805Z"
   },
   {
    "duration": 166,
    "start_time": "2022-11-22T09:41:23.838Z"
   },
   {
    "duration": 44,
    "start_time": "2022-11-22T09:41:24.006Z"
   },
   {
    "duration": 52,
    "start_time": "2022-11-22T09:41:24.052Z"
   },
   {
    "duration": 184,
    "start_time": "2022-11-22T09:41:24.108Z"
   },
   {
    "duration": 19,
    "start_time": "2022-11-22T09:41:24.293Z"
   },
   {
    "duration": 18,
    "start_time": "2022-11-22T09:41:24.314Z"
   },
   {
    "duration": 46,
    "start_time": "2022-11-22T09:41:24.334Z"
   },
   {
    "duration": 8,
    "start_time": "2022-11-22T09:41:24.381Z"
   },
   {
    "duration": 22,
    "start_time": "2022-11-22T09:41:24.390Z"
   },
   {
    "duration": 6,
    "start_time": "2022-11-22T09:41:24.414Z"
   },
   {
    "duration": 23,
    "start_time": "2022-11-22T09:41:24.421Z"
   },
   {
    "duration": 49,
    "start_time": "2022-11-22T09:41:24.446Z"
   },
   {
    "duration": 5,
    "start_time": "2022-11-22T09:41:24.497Z"
   },
   {
    "duration": 10,
    "start_time": "2022-11-22T09:41:24.504Z"
   },
   {
    "duration": 10,
    "start_time": "2022-11-22T09:41:24.516Z"
   },
   {
    "duration": 13,
    "start_time": "2022-11-22T09:41:24.528Z"
   },
   {
    "duration": 59,
    "start_time": "2022-11-22T09:41:24.543Z"
   },
   {
    "duration": 27,
    "start_time": "2022-11-22T09:41:24.604Z"
   },
   {
    "duration": 21,
    "start_time": "2022-11-22T09:41:24.633Z"
   },
   {
    "duration": 31,
    "start_time": "2022-11-22T09:41:24.656Z"
   },
   {
    "duration": 20,
    "start_time": "2022-11-22T09:41:24.688Z"
   },
   {
    "duration": 9,
    "start_time": "2022-11-22T09:41:24.710Z"
   },
   {
    "duration": 231,
    "start_time": "2022-11-22T09:41:24.721Z"
   },
   {
    "duration": 13,
    "start_time": "2022-11-22T09:41:24.953Z"
   },
   {
    "duration": 19,
    "start_time": "2022-11-22T09:41:24.979Z"
   },
   {
    "duration": 9,
    "start_time": "2022-11-22T09:41:25.000Z"
   },
   {
    "duration": 212,
    "start_time": "2022-11-22T09:41:25.011Z"
   },
   {
    "duration": 13,
    "start_time": "2022-11-22T09:41:25.225Z"
   },
   {
    "duration": 403,
    "start_time": "2022-11-22T09:41:25.241Z"
   },
   {
    "duration": 178,
    "start_time": "2022-11-22T09:41:25.646Z"
   },
   {
    "duration": 12,
    "start_time": "2022-11-22T09:41:25.825Z"
   },
   {
    "duration": 11,
    "start_time": "2022-11-22T09:41:25.839Z"
   },
   {
    "duration": 64,
    "start_time": "2022-11-22T09:41:25.879Z"
   },
   {
    "duration": 37,
    "start_time": "2022-11-22T09:41:25.945Z"
   },
   {
    "duration": 6,
    "start_time": "2022-11-22T09:41:25.984Z"
   },
   {
    "duration": 388,
    "start_time": "2022-11-22T09:41:25.992Z"
   },
   {
    "duration": 0,
    "start_time": "2022-11-22T09:41:26.382Z"
   },
   {
    "duration": 0,
    "start_time": "2022-11-22T09:41:26.383Z"
   },
   {
    "duration": 16,
    "start_time": "2022-11-22T09:49:27.270Z"
   },
   {
    "duration": 9,
    "start_time": "2022-11-22T09:50:26.830Z"
   },
   {
    "duration": 20,
    "start_time": "2022-11-22T09:51:07.095Z"
   },
   {
    "duration": 15,
    "start_time": "2022-11-22T09:52:05.020Z"
   },
   {
    "duration": 15,
    "start_time": "2022-11-22T09:52:14.946Z"
   },
   {
    "duration": 5,
    "start_time": "2022-11-22T09:52:22.252Z"
   },
   {
    "duration": 17,
    "start_time": "2022-11-22T09:54:08.512Z"
   },
   {
    "duration": 6,
    "start_time": "2022-11-22T09:54:13.623Z"
   },
   {
    "duration": 10,
    "start_time": "2022-11-22T09:54:17.836Z"
   },
   {
    "duration": 71,
    "start_time": "2022-11-22T09:55:15.802Z"
   },
   {
    "duration": 1286,
    "start_time": "2022-11-22T09:55:28.085Z"
   },
   {
    "duration": 39,
    "start_time": "2022-11-22T09:55:29.374Z"
   },
   {
    "duration": 534,
    "start_time": "2022-11-22T09:55:29.414Z"
   },
   {
    "duration": 85,
    "start_time": "2022-11-22T09:55:29.950Z"
   },
   {
    "duration": 35,
    "start_time": "2022-11-22T09:55:30.037Z"
   },
   {
    "duration": 107,
    "start_time": "2022-11-22T09:55:30.074Z"
   },
   {
    "duration": 6,
    "start_time": "2022-11-22T09:55:30.183Z"
   },
   {
    "duration": 33,
    "start_time": "2022-11-22T09:55:30.192Z"
   },
   {
    "duration": 135,
    "start_time": "2022-11-22T09:55:30.227Z"
   },
   {
    "duration": 387,
    "start_time": "2022-11-22T09:55:30.366Z"
   },
   {
    "duration": 95,
    "start_time": "2022-11-22T09:55:30.754Z"
   },
   {
    "duration": 73,
    "start_time": "2022-11-22T09:55:30.851Z"
   },
   {
    "duration": 93,
    "start_time": "2022-11-22T09:55:30.926Z"
   },
   {
    "duration": 296,
    "start_time": "2022-11-22T09:55:31.021Z"
   },
   {
    "duration": 6,
    "start_time": "2022-11-22T09:55:31.319Z"
   },
   {
    "duration": 43,
    "start_time": "2022-11-22T09:55:31.326Z"
   },
   {
    "duration": 21,
    "start_time": "2022-11-22T09:55:31.378Z"
   },
   {
    "duration": 5,
    "start_time": "2022-11-22T09:55:31.401Z"
   },
   {
    "duration": 14,
    "start_time": "2022-11-22T09:55:31.407Z"
   },
   {
    "duration": 12,
    "start_time": "2022-11-22T09:55:31.423Z"
   },
   {
    "duration": 9,
    "start_time": "2022-11-22T09:55:31.437Z"
   },
   {
    "duration": 16,
    "start_time": "2022-11-22T09:55:31.448Z"
   },
   {
    "duration": 12,
    "start_time": "2022-11-22T09:55:31.478Z"
   },
   {
    "duration": 30,
    "start_time": "2022-11-22T09:55:31.492Z"
   },
   {
    "duration": 142,
    "start_time": "2022-11-22T09:55:31.524Z"
   },
   {
    "duration": 35,
    "start_time": "2022-11-22T09:55:31.668Z"
   },
   {
    "duration": 25,
    "start_time": "2022-11-22T09:55:31.705Z"
   },
   {
    "duration": 183,
    "start_time": "2022-11-22T09:55:31.734Z"
   },
   {
    "duration": 19,
    "start_time": "2022-11-22T09:55:31.919Z"
   },
   {
    "duration": 18,
    "start_time": "2022-11-22T09:55:31.939Z"
   },
   {
    "duration": 23,
    "start_time": "2022-11-22T09:55:31.979Z"
   },
   {
    "duration": 7,
    "start_time": "2022-11-22T09:55:32.003Z"
   },
   {
    "duration": 17,
    "start_time": "2022-11-22T09:55:32.012Z"
   },
   {
    "duration": 4,
    "start_time": "2022-11-22T09:55:32.031Z"
   },
   {
    "duration": 43,
    "start_time": "2022-11-22T09:55:32.037Z"
   },
   {
    "duration": 34,
    "start_time": "2022-11-22T09:55:32.082Z"
   },
   {
    "duration": 5,
    "start_time": "2022-11-22T09:55:32.118Z"
   },
   {
    "duration": 9,
    "start_time": "2022-11-22T09:55:32.124Z"
   },
   {
    "duration": 12,
    "start_time": "2022-11-22T09:55:32.135Z"
   },
   {
    "duration": 33,
    "start_time": "2022-11-22T09:55:32.149Z"
   },
   {
    "duration": 32,
    "start_time": "2022-11-22T09:55:32.184Z"
   },
   {
    "duration": 24,
    "start_time": "2022-11-22T09:55:32.218Z"
   },
   {
    "duration": 43,
    "start_time": "2022-11-22T09:55:32.245Z"
   },
   {
    "duration": 11,
    "start_time": "2022-11-22T09:55:32.289Z"
   },
   {
    "duration": 15,
    "start_time": "2022-11-22T09:55:32.302Z"
   },
   {
    "duration": 8,
    "start_time": "2022-11-22T09:55:32.319Z"
   },
   {
    "duration": 230,
    "start_time": "2022-11-22T09:55:32.328Z"
   },
   {
    "duration": 22,
    "start_time": "2022-11-22T09:55:32.560Z"
   },
   {
    "duration": 20,
    "start_time": "2022-11-22T09:55:32.584Z"
   },
   {
    "duration": 9,
    "start_time": "2022-11-22T09:55:32.606Z"
   },
   {
    "duration": 204,
    "start_time": "2022-11-22T09:55:32.616Z"
   },
   {
    "duration": 16,
    "start_time": "2022-11-22T09:55:32.823Z"
   },
   {
    "duration": 451,
    "start_time": "2022-11-22T09:55:32.842Z"
   },
   {
    "duration": 189,
    "start_time": "2022-11-22T09:55:33.295Z"
   },
   {
    "duration": 11,
    "start_time": "2022-11-22T09:55:33.486Z"
   },
   {
    "duration": 34,
    "start_time": "2022-11-22T09:55:33.499Z"
   },
   {
    "duration": 67,
    "start_time": "2022-11-22T09:55:33.535Z"
   },
   {
    "duration": 15,
    "start_time": "2022-11-22T09:55:33.604Z"
   },
   {
    "duration": 6,
    "start_time": "2022-11-22T09:55:33.621Z"
   },
   {
    "duration": 32,
    "start_time": "2022-11-22T09:55:33.629Z"
   },
   {
    "duration": 21,
    "start_time": "2022-11-22T09:55:33.663Z"
   },
   {
    "duration": 35,
    "start_time": "2022-11-22T09:55:33.686Z"
   },
   {
    "duration": 13,
    "start_time": "2022-11-22T10:01:35.085Z"
   },
   {
    "duration": 1335,
    "start_time": "2022-11-22T10:02:06.608Z"
   },
   {
    "duration": 39,
    "start_time": "2022-11-22T10:02:07.945Z"
   },
   {
    "duration": 537,
    "start_time": "2022-11-22T10:02:07.988Z"
   },
   {
    "duration": 80,
    "start_time": "2022-11-22T10:02:08.527Z"
   },
   {
    "duration": 44,
    "start_time": "2022-11-22T10:02:08.609Z"
   },
   {
    "duration": 99,
    "start_time": "2022-11-22T10:02:08.655Z"
   },
   {
    "duration": 5,
    "start_time": "2022-11-22T10:02:08.757Z"
   },
   {
    "duration": 14,
    "start_time": "2022-11-22T10:02:08.764Z"
   },
   {
    "duration": 101,
    "start_time": "2022-11-22T10:02:08.780Z"
   },
   {
    "duration": 392,
    "start_time": "2022-11-22T10:02:08.883Z"
   },
   {
    "duration": 76,
    "start_time": "2022-11-22T10:02:09.278Z"
   },
   {
    "duration": 71,
    "start_time": "2022-11-22T10:02:09.356Z"
   },
   {
    "duration": 94,
    "start_time": "2022-11-22T10:02:09.430Z"
   },
   {
    "duration": 268,
    "start_time": "2022-11-22T10:02:09.525Z"
   },
   {
    "duration": 7,
    "start_time": "2022-11-22T10:02:09.795Z"
   },
   {
    "duration": 35,
    "start_time": "2022-11-22T10:02:09.803Z"
   },
   {
    "duration": 44,
    "start_time": "2022-11-22T10:02:09.840Z"
   },
   {
    "duration": 5,
    "start_time": "2022-11-22T10:02:09.886Z"
   },
   {
    "duration": 11,
    "start_time": "2022-11-22T10:02:09.893Z"
   },
   {
    "duration": 7,
    "start_time": "2022-11-22T10:02:09.906Z"
   },
   {
    "duration": 14,
    "start_time": "2022-11-22T10:02:09.914Z"
   },
   {
    "duration": 12,
    "start_time": "2022-11-22T10:02:09.929Z"
   },
   {
    "duration": 12,
    "start_time": "2022-11-22T10:02:09.943Z"
   },
   {
    "duration": 32,
    "start_time": "2022-11-22T10:02:09.979Z"
   },
   {
    "duration": 136,
    "start_time": "2022-11-22T10:02:10.013Z"
   },
   {
    "duration": 37,
    "start_time": "2022-11-22T10:02:10.151Z"
   },
   {
    "duration": 27,
    "start_time": "2022-11-22T10:02:10.190Z"
   },
   {
    "duration": 178,
    "start_time": "2022-11-22T10:02:10.219Z"
   },
   {
    "duration": 19,
    "start_time": "2022-11-22T10:02:10.399Z"
   },
   {
    "duration": 16,
    "start_time": "2022-11-22T10:02:10.419Z"
   },
   {
    "duration": 42,
    "start_time": "2022-11-22T10:02:10.437Z"
   },
   {
    "duration": 7,
    "start_time": "2022-11-22T10:02:10.481Z"
   },
   {
    "duration": 18,
    "start_time": "2022-11-22T10:02:10.490Z"
   },
   {
    "duration": 5,
    "start_time": "2022-11-22T10:02:10.510Z"
   },
   {
    "duration": 13,
    "start_time": "2022-11-22T10:02:10.516Z"
   },
   {
    "duration": 58,
    "start_time": "2022-11-22T10:02:10.531Z"
   },
   {
    "duration": 4,
    "start_time": "2022-11-22T10:02:10.591Z"
   },
   {
    "duration": 9,
    "start_time": "2022-11-22T10:02:10.597Z"
   },
   {
    "duration": 16,
    "start_time": "2022-11-22T10:02:10.608Z"
   },
   {
    "duration": 6,
    "start_time": "2022-11-22T10:02:10.628Z"
   },
   {
    "duration": 52,
    "start_time": "2022-11-22T10:02:10.636Z"
   },
   {
    "duration": 21,
    "start_time": "2022-11-22T10:02:10.689Z"
   },
   {
    "duration": 21,
    "start_time": "2022-11-22T10:02:10.712Z"
   },
   {
    "duration": 12,
    "start_time": "2022-11-22T10:02:10.735Z"
   },
   {
    "duration": 46,
    "start_time": "2022-11-22T10:02:10.748Z"
   },
   {
    "duration": 9,
    "start_time": "2022-11-22T10:02:10.796Z"
   },
   {
    "duration": 233,
    "start_time": "2022-11-22T10:02:10.807Z"
   },
   {
    "duration": 14,
    "start_time": "2022-11-22T10:02:11.042Z"
   },
   {
    "duration": 28,
    "start_time": "2022-11-22T10:02:11.058Z"
   },
   {
    "duration": 8,
    "start_time": "2022-11-22T10:02:11.088Z"
   },
   {
    "duration": 194,
    "start_time": "2022-11-22T10:02:11.098Z"
   },
   {
    "duration": 12,
    "start_time": "2022-11-22T10:02:11.294Z"
   },
   {
    "duration": 418,
    "start_time": "2022-11-22T10:02:11.308Z"
   },
   {
    "duration": 159,
    "start_time": "2022-11-22T10:02:11.728Z"
   },
   {
    "duration": 13,
    "start_time": "2022-11-22T10:02:11.889Z"
   },
   {
    "duration": 10,
    "start_time": "2022-11-22T10:02:11.904Z"
   },
   {
    "duration": 95,
    "start_time": "2022-11-22T10:02:11.916Z"
   },
   {
    "duration": 15,
    "start_time": "2022-11-22T10:02:12.013Z"
   },
   {
    "duration": 7,
    "start_time": "2022-11-22T10:02:12.029Z"
   },
   {
    "duration": 42,
    "start_time": "2022-11-22T10:02:12.037Z"
   },
   {
    "duration": 6,
    "start_time": "2022-11-22T10:02:12.080Z"
   },
   {
    "duration": 14,
    "start_time": "2022-11-22T10:02:12.088Z"
   },
   {
    "duration": 87,
    "start_time": "2022-11-22T10:04:56.646Z"
   },
   {
    "duration": 42,
    "start_time": "2022-11-22T10:05:20.988Z"
   },
   {
    "duration": 14,
    "start_time": "2022-11-22T10:07:37.849Z"
   },
   {
    "duration": 1287,
    "start_time": "2022-11-22T10:08:31.980Z"
   },
   {
    "duration": 39,
    "start_time": "2022-11-22T10:08:33.269Z"
   },
   {
    "duration": 524,
    "start_time": "2022-11-22T10:08:33.310Z"
   },
   {
    "duration": 80,
    "start_time": "2022-11-22T10:08:33.836Z"
   },
   {
    "duration": 41,
    "start_time": "2022-11-22T10:08:33.917Z"
   },
   {
    "duration": 133,
    "start_time": "2022-11-22T10:08:33.960Z"
   },
   {
    "duration": 6,
    "start_time": "2022-11-22T10:08:34.095Z"
   },
   {
    "duration": 45,
    "start_time": "2022-11-22T10:08:34.104Z"
   },
   {
    "duration": 116,
    "start_time": "2022-11-22T10:08:34.152Z"
   },
   {
    "duration": 389,
    "start_time": "2022-11-22T10:08:34.271Z"
   },
   {
    "duration": 83,
    "start_time": "2022-11-22T10:08:34.662Z"
   },
   {
    "duration": 67,
    "start_time": "2022-11-22T10:08:34.747Z"
   },
   {
    "duration": 91,
    "start_time": "2022-11-22T10:08:34.816Z"
   },
   {
    "duration": 282,
    "start_time": "2022-11-22T10:08:34.908Z"
   },
   {
    "duration": 8,
    "start_time": "2022-11-22T10:08:35.192Z"
   },
   {
    "duration": 48,
    "start_time": "2022-11-22T10:08:35.202Z"
   },
   {
    "duration": 38,
    "start_time": "2022-11-22T10:08:35.251Z"
   },
   {
    "duration": 5,
    "start_time": "2022-11-22T10:08:35.291Z"
   },
   {
    "duration": 17,
    "start_time": "2022-11-22T10:08:35.298Z"
   },
   {
    "duration": 25,
    "start_time": "2022-11-22T10:08:35.317Z"
   },
   {
    "duration": 16,
    "start_time": "2022-11-22T10:08:35.344Z"
   },
   {
    "duration": 19,
    "start_time": "2022-11-22T10:08:35.362Z"
   },
   {
    "duration": 26,
    "start_time": "2022-11-22T10:08:35.383Z"
   },
   {
    "duration": 32,
    "start_time": "2022-11-22T10:08:35.411Z"
   },
   {
    "duration": 130,
    "start_time": "2022-11-22T10:08:35.445Z"
   },
   {
    "duration": 32,
    "start_time": "2022-11-22T10:08:35.577Z"
   },
   {
    "duration": 26,
    "start_time": "2022-11-22T10:08:35.610Z"
   },
   {
    "duration": 186,
    "start_time": "2022-11-22T10:08:35.640Z"
   },
   {
    "duration": 19,
    "start_time": "2022-11-22T10:08:35.828Z"
   },
   {
    "duration": 34,
    "start_time": "2022-11-22T10:08:35.848Z"
   },
   {
    "duration": 22,
    "start_time": "2022-11-22T10:08:35.884Z"
   },
   {
    "duration": 6,
    "start_time": "2022-11-22T10:08:35.908Z"
   },
   {
    "duration": 25,
    "start_time": "2022-11-22T10:08:35.916Z"
   },
   {
    "duration": 5,
    "start_time": "2022-11-22T10:08:35.943Z"
   },
   {
    "duration": 35,
    "start_time": "2022-11-22T10:08:35.949Z"
   },
   {
    "duration": 43,
    "start_time": "2022-11-22T10:08:35.985Z"
   },
   {
    "duration": 5,
    "start_time": "2022-11-22T10:08:36.030Z"
   },
   {
    "duration": 20,
    "start_time": "2022-11-22T10:08:36.036Z"
   },
   {
    "duration": 14,
    "start_time": "2022-11-22T10:08:36.058Z"
   },
   {
    "duration": 7,
    "start_time": "2022-11-22T10:08:36.073Z"
   },
   {
    "duration": 32,
    "start_time": "2022-11-22T10:08:36.082Z"
   },
   {
    "duration": 21,
    "start_time": "2022-11-22T10:08:36.115Z"
   },
   {
    "duration": 42,
    "start_time": "2022-11-22T10:08:36.137Z"
   },
   {
    "duration": 14,
    "start_time": "2022-11-22T10:08:36.181Z"
   },
   {
    "duration": 26,
    "start_time": "2022-11-22T10:08:36.197Z"
   },
   {
    "duration": 9,
    "start_time": "2022-11-22T10:08:36.225Z"
   },
   {
    "duration": 216,
    "start_time": "2022-11-22T10:08:36.236Z"
   },
   {
    "duration": 12,
    "start_time": "2022-11-22T10:08:36.454Z"
   },
   {
    "duration": 15,
    "start_time": "2022-11-22T10:08:36.478Z"
   },
   {
    "duration": 9,
    "start_time": "2022-11-22T10:08:36.494Z"
   },
   {
    "duration": 196,
    "start_time": "2022-11-22T10:08:36.505Z"
   },
   {
    "duration": 12,
    "start_time": "2022-11-22T10:08:36.703Z"
   },
   {
    "duration": 402,
    "start_time": "2022-11-22T10:08:36.717Z"
   },
   {
    "duration": 186,
    "start_time": "2022-11-22T10:08:37.121Z"
   },
   {
    "duration": 14,
    "start_time": "2022-11-22T10:08:37.310Z"
   },
   {
    "duration": 20,
    "start_time": "2022-11-22T10:08:37.326Z"
   },
   {
    "duration": 91,
    "start_time": "2022-11-22T10:08:37.348Z"
   },
   {
    "duration": 16,
    "start_time": "2022-11-22T10:08:37.441Z"
   },
   {
    "duration": 7,
    "start_time": "2022-11-22T10:08:37.477Z"
   },
   {
    "duration": 23,
    "start_time": "2022-11-22T10:08:37.486Z"
   },
   {
    "duration": 13,
    "start_time": "2022-11-22T10:08:37.511Z"
   },
   {
    "duration": 20,
    "start_time": "2022-11-22T10:08:37.526Z"
   },
   {
    "duration": 78,
    "start_time": "2022-11-22T10:12:02.090Z"
   },
   {
    "duration": 1212,
    "start_time": "2022-11-23T01:00:29.649Z"
   },
   {
    "duration": 72,
    "start_time": "2022-11-23T01:00:30.863Z"
   },
   {
    "duration": 634,
    "start_time": "2022-11-23T01:00:30.937Z"
   },
   {
    "duration": 182,
    "start_time": "2022-11-23T01:00:31.573Z"
   },
   {
    "duration": 67,
    "start_time": "2022-11-23T01:00:31.757Z"
   },
   {
    "duration": 86,
    "start_time": "2022-11-23T01:00:31.826Z"
   },
   {
    "duration": 5,
    "start_time": "2022-11-23T01:00:31.914Z"
   },
   {
    "duration": 13,
    "start_time": "2022-11-23T01:00:31.921Z"
   },
   {
    "duration": 103,
    "start_time": "2022-11-23T01:00:31.935Z"
   },
   {
    "duration": 362,
    "start_time": "2022-11-23T01:00:32.041Z"
   },
   {
    "duration": 67,
    "start_time": "2022-11-23T01:00:32.404Z"
   },
   {
    "duration": 64,
    "start_time": "2022-11-23T01:00:32.473Z"
   },
   {
    "duration": 84,
    "start_time": "2022-11-23T01:00:32.539Z"
   },
   {
    "duration": 231,
    "start_time": "2022-11-23T01:00:32.625Z"
   },
   {
    "duration": 5,
    "start_time": "2022-11-23T01:00:32.858Z"
   },
   {
    "duration": 51,
    "start_time": "2022-11-23T01:00:32.865Z"
   },
   {
    "duration": 19,
    "start_time": "2022-11-23T01:00:32.918Z"
   },
   {
    "duration": 4,
    "start_time": "2022-11-23T01:00:32.939Z"
   },
   {
    "duration": 13,
    "start_time": "2022-11-23T01:00:32.944Z"
   },
   {
    "duration": 3,
    "start_time": "2022-11-23T01:00:32.958Z"
   },
   {
    "duration": 7,
    "start_time": "2022-11-23T01:00:32.963Z"
   },
   {
    "duration": 30,
    "start_time": "2022-11-23T01:00:32.972Z"
   },
   {
    "duration": 18,
    "start_time": "2022-11-23T01:00:33.004Z"
   },
   {
    "duration": 27,
    "start_time": "2022-11-23T01:00:33.023Z"
   },
   {
    "duration": 137,
    "start_time": "2022-11-23T01:00:33.052Z"
   },
   {
    "duration": 34,
    "start_time": "2022-11-23T01:00:33.191Z"
   },
   {
    "duration": 21,
    "start_time": "2022-11-23T01:00:33.227Z"
   },
   {
    "duration": 157,
    "start_time": "2022-11-23T01:00:33.251Z"
   },
   {
    "duration": 17,
    "start_time": "2022-11-23T01:00:33.410Z"
   },
   {
    "duration": 16,
    "start_time": "2022-11-23T01:00:33.429Z"
   },
   {
    "duration": 18,
    "start_time": "2022-11-23T01:00:33.447Z"
   },
   {
    "duration": 34,
    "start_time": "2022-11-23T01:00:33.467Z"
   },
   {
    "duration": 16,
    "start_time": "2022-11-23T01:00:33.503Z"
   },
   {
    "duration": 5,
    "start_time": "2022-11-23T01:00:33.521Z"
   },
   {
    "duration": 11,
    "start_time": "2022-11-23T01:00:33.527Z"
   },
   {
    "duration": 25,
    "start_time": "2022-11-23T01:00:33.540Z"
   },
   {
    "duration": 32,
    "start_time": "2022-11-23T01:00:33.566Z"
   },
   {
    "duration": 8,
    "start_time": "2022-11-23T01:00:33.599Z"
   },
   {
    "duration": 12,
    "start_time": "2022-11-23T01:00:33.608Z"
   },
   {
    "duration": 5,
    "start_time": "2022-11-23T01:00:33.621Z"
   },
   {
    "duration": 23,
    "start_time": "2022-11-23T01:00:33.628Z"
   },
   {
    "duration": 47,
    "start_time": "2022-11-23T01:00:33.652Z"
   },
   {
    "duration": 18,
    "start_time": "2022-11-23T01:00:33.701Z"
   },
   {
    "duration": 11,
    "start_time": "2022-11-23T01:00:33.720Z"
   },
   {
    "duration": 19,
    "start_time": "2022-11-23T01:00:33.732Z"
   },
   {
    "duration": 8,
    "start_time": "2022-11-23T01:00:33.752Z"
   },
   {
    "duration": 221,
    "start_time": "2022-11-23T01:00:33.761Z"
   },
   {
    "duration": 15,
    "start_time": "2022-11-23T01:00:33.984Z"
   },
   {
    "duration": 16,
    "start_time": "2022-11-23T01:00:34.001Z"
   },
   {
    "duration": 7,
    "start_time": "2022-11-23T01:00:34.019Z"
   },
   {
    "duration": 189,
    "start_time": "2022-11-23T01:00:34.027Z"
   },
   {
    "duration": 13,
    "start_time": "2022-11-23T01:00:34.218Z"
   },
   {
    "duration": 411,
    "start_time": "2022-11-23T01:00:34.232Z"
   },
   {
    "duration": 166,
    "start_time": "2022-11-23T01:00:34.645Z"
   },
   {
    "duration": 11,
    "start_time": "2022-11-23T01:00:34.813Z"
   },
   {
    "duration": 9,
    "start_time": "2022-11-23T01:00:34.825Z"
   },
   {
    "duration": 91,
    "start_time": "2022-11-23T01:00:34.835Z"
   },
   {
    "duration": 0,
    "start_time": "2022-11-23T01:00:34.928Z"
   },
   {
    "duration": 0,
    "start_time": "2022-11-23T01:00:34.929Z"
   },
   {
    "duration": 0,
    "start_time": "2022-11-23T01:00:34.930Z"
   },
   {
    "duration": 0,
    "start_time": "2022-11-23T01:00:34.931Z"
   },
   {
    "duration": 0,
    "start_time": "2022-11-23T01:00:34.932Z"
   },
   {
    "duration": 10,
    "start_time": "2022-11-23T01:05:35.824Z"
   },
   {
    "duration": 16,
    "start_time": "2022-11-23T01:05:36.831Z"
   },
   {
    "duration": 6,
    "start_time": "2022-11-23T01:05:56.097Z"
   },
   {
    "duration": 17,
    "start_time": "2022-11-23T01:05:56.555Z"
   },
   {
    "duration": 5,
    "start_time": "2022-11-23T01:05:57.207Z"
   },
   {
    "duration": 9,
    "start_time": "2022-11-23T01:05:58.668Z"
   },
   {
    "duration": 1197,
    "start_time": "2022-11-23T01:07:06.018Z"
   },
   {
    "duration": 39,
    "start_time": "2022-11-23T01:07:07.216Z"
   },
   {
    "duration": 479,
    "start_time": "2022-11-23T01:07:07.257Z"
   },
   {
    "duration": 71,
    "start_time": "2022-11-23T01:07:07.738Z"
   },
   {
    "duration": 31,
    "start_time": "2022-11-23T01:07:07.811Z"
   },
   {
    "duration": 86,
    "start_time": "2022-11-23T01:07:07.844Z"
   },
   {
    "duration": 4,
    "start_time": "2022-11-23T01:07:07.932Z"
   },
   {
    "duration": 6,
    "start_time": "2022-11-23T01:07:07.937Z"
   },
   {
    "duration": 96,
    "start_time": "2022-11-23T01:07:07.945Z"
   },
   {
    "duration": 374,
    "start_time": "2022-11-23T01:07:08.044Z"
   },
   {
    "duration": 63,
    "start_time": "2022-11-23T01:07:08.420Z"
   },
   {
    "duration": 47,
    "start_time": "2022-11-23T01:07:08.496Z"
   },
   {
    "duration": 88,
    "start_time": "2022-11-23T01:07:08.545Z"
   },
   {
    "duration": 234,
    "start_time": "2022-11-23T01:07:08.635Z"
   },
   {
    "duration": 7,
    "start_time": "2022-11-23T01:07:08.870Z"
   },
   {
    "duration": 55,
    "start_time": "2022-11-23T01:07:08.878Z"
   },
   {
    "duration": 18,
    "start_time": "2022-11-23T01:07:08.935Z"
   },
   {
    "duration": 5,
    "start_time": "2022-11-23T01:07:08.954Z"
   },
   {
    "duration": 24,
    "start_time": "2022-11-23T01:07:08.961Z"
   },
   {
    "duration": 27,
    "start_time": "2022-11-23T01:07:08.986Z"
   },
   {
    "duration": 11,
    "start_time": "2022-11-23T01:07:09.015Z"
   },
   {
    "duration": 15,
    "start_time": "2022-11-23T01:07:09.028Z"
   },
   {
    "duration": 14,
    "start_time": "2022-11-23T01:07:09.045Z"
   },
   {
    "duration": 31,
    "start_time": "2022-11-23T01:07:09.061Z"
   },
   {
    "duration": 115,
    "start_time": "2022-11-23T01:07:09.094Z"
   },
   {
    "duration": 27,
    "start_time": "2022-11-23T01:07:09.211Z"
   },
   {
    "duration": 33,
    "start_time": "2022-11-23T01:07:09.239Z"
   },
   {
    "duration": 154,
    "start_time": "2022-11-23T01:07:09.276Z"
   },
   {
    "duration": 17,
    "start_time": "2022-11-23T01:07:09.432Z"
   },
   {
    "duration": 19,
    "start_time": "2022-11-23T01:07:09.451Z"
   },
   {
    "duration": 38,
    "start_time": "2022-11-23T01:07:09.471Z"
   },
   {
    "duration": 7,
    "start_time": "2022-11-23T01:07:09.511Z"
   },
   {
    "duration": 24,
    "start_time": "2022-11-23T01:07:09.519Z"
   },
   {
    "duration": 5,
    "start_time": "2022-11-23T01:07:09.544Z"
   },
   {
    "duration": 28,
    "start_time": "2022-11-23T01:07:09.550Z"
   },
   {
    "duration": 40,
    "start_time": "2022-11-23T01:07:09.580Z"
   },
   {
    "duration": 28,
    "start_time": "2022-11-23T01:07:09.621Z"
   },
   {
    "duration": 23,
    "start_time": "2022-11-23T01:07:09.651Z"
   },
   {
    "duration": 51,
    "start_time": "2022-11-23T01:07:09.676Z"
   },
   {
    "duration": 6,
    "start_time": "2022-11-23T01:07:09.729Z"
   },
   {
    "duration": 28,
    "start_time": "2022-11-23T01:07:09.737Z"
   },
   {
    "duration": 21,
    "start_time": "2022-11-23T01:07:09.766Z"
   },
   {
    "duration": 18,
    "start_time": "2022-11-23T01:07:09.789Z"
   },
   {
    "duration": 11,
    "start_time": "2022-11-23T01:07:09.809Z"
   },
   {
    "duration": 22,
    "start_time": "2022-11-23T01:07:09.821Z"
   },
   {
    "duration": 8,
    "start_time": "2022-11-23T01:07:09.845Z"
   },
   {
    "duration": 215,
    "start_time": "2022-11-23T01:07:09.854Z"
   },
   {
    "duration": 12,
    "start_time": "2022-11-23T01:07:10.071Z"
   },
   {
    "duration": 15,
    "start_time": "2022-11-23T01:07:10.097Z"
   },
   {
    "duration": 9,
    "start_time": "2022-11-23T01:07:10.113Z"
   },
   {
    "duration": 196,
    "start_time": "2022-11-23T01:07:10.123Z"
   },
   {
    "duration": 12,
    "start_time": "2022-11-23T01:07:10.321Z"
   },
   {
    "duration": 371,
    "start_time": "2022-11-23T01:07:10.335Z"
   },
   {
    "duration": 146,
    "start_time": "2022-11-23T01:07:10.708Z"
   },
   {
    "duration": 43,
    "start_time": "2022-11-23T01:07:10.855Z"
   },
   {
    "duration": 10,
    "start_time": "2022-11-23T01:07:10.900Z"
   },
   {
    "duration": 87,
    "start_time": "2022-11-23T01:07:10.912Z"
   },
   {
    "duration": 0,
    "start_time": "2022-11-23T01:07:11.001Z"
   },
   {
    "duration": 0,
    "start_time": "2022-11-23T01:07:11.003Z"
   },
   {
    "duration": 0,
    "start_time": "2022-11-23T01:07:11.004Z"
   },
   {
    "duration": 0,
    "start_time": "2022-11-23T01:07:11.006Z"
   },
   {
    "duration": 0,
    "start_time": "2022-11-23T01:07:11.007Z"
   },
   {
    "duration": 1506,
    "start_time": "2022-11-23T06:39:17.981Z"
   },
   {
    "duration": 77,
    "start_time": "2022-11-23T06:39:19.489Z"
   },
   {
    "duration": 629,
    "start_time": "2022-11-23T06:39:19.568Z"
   },
   {
    "duration": 184,
    "start_time": "2022-11-23T06:39:20.200Z"
   },
   {
    "duration": 74,
    "start_time": "2022-11-23T06:39:20.386Z"
   },
   {
    "duration": 86,
    "start_time": "2022-11-23T06:39:20.461Z"
   },
   {
    "duration": 5,
    "start_time": "2022-11-23T06:39:20.548Z"
   },
   {
    "duration": 17,
    "start_time": "2022-11-23T06:39:20.555Z"
   },
   {
    "duration": 100,
    "start_time": "2022-11-23T06:39:20.574Z"
   },
   {
    "duration": 388,
    "start_time": "2022-11-23T06:39:20.677Z"
   },
   {
    "duration": 78,
    "start_time": "2022-11-23T06:39:21.067Z"
   },
   {
    "duration": 50,
    "start_time": "2022-11-23T06:39:21.147Z"
   },
   {
    "duration": 75,
    "start_time": "2022-11-23T06:39:21.213Z"
   },
   {
    "duration": 245,
    "start_time": "2022-11-23T06:39:21.290Z"
   },
   {
    "duration": 7,
    "start_time": "2022-11-23T06:39:21.536Z"
   },
   {
    "duration": 32,
    "start_time": "2022-11-23T06:39:21.544Z"
   },
   {
    "duration": 44,
    "start_time": "2022-11-23T06:39:21.578Z"
   },
   {
    "duration": 5,
    "start_time": "2022-11-23T06:39:21.623Z"
   },
   {
    "duration": 8,
    "start_time": "2022-11-23T06:39:21.630Z"
   },
   {
    "duration": 4,
    "start_time": "2022-11-23T06:39:21.640Z"
   },
   {
    "duration": 6,
    "start_time": "2022-11-23T06:39:21.646Z"
   },
   {
    "duration": 8,
    "start_time": "2022-11-23T06:39:21.653Z"
   },
   {
    "duration": 57,
    "start_time": "2022-11-23T06:39:21.663Z"
   },
   {
    "duration": 29,
    "start_time": "2022-11-23T06:39:21.722Z"
   },
   {
    "duration": 128,
    "start_time": "2022-11-23T06:39:21.753Z"
   },
   {
    "duration": 55,
    "start_time": "2022-11-23T06:39:21.883Z"
   },
   {
    "duration": 23,
    "start_time": "2022-11-23T06:39:21.940Z"
   },
   {
    "duration": 155,
    "start_time": "2022-11-23T06:39:21.966Z"
   },
   {
    "duration": 17,
    "start_time": "2022-11-23T06:39:22.123Z"
   },
   {
    "duration": 16,
    "start_time": "2022-11-23T06:39:22.142Z"
   },
   {
    "duration": 26,
    "start_time": "2022-11-23T06:39:22.160Z"
   },
   {
    "duration": 29,
    "start_time": "2022-11-23T06:39:22.188Z"
   },
   {
    "duration": 18,
    "start_time": "2022-11-23T06:39:22.219Z"
   },
   {
    "duration": 4,
    "start_time": "2022-11-23T06:39:22.239Z"
   },
   {
    "duration": 14,
    "start_time": "2022-11-23T06:39:22.245Z"
   },
   {
    "duration": 59,
    "start_time": "2022-11-23T06:39:22.260Z"
   },
   {
    "duration": 5,
    "start_time": "2022-11-23T06:39:22.321Z"
   },
   {
    "duration": 7,
    "start_time": "2022-11-23T06:39:22.328Z"
   },
   {
    "duration": 17,
    "start_time": "2022-11-23T06:39:22.337Z"
   },
   {
    "duration": 5,
    "start_time": "2022-11-23T06:39:22.356Z"
   },
   {
    "duration": 57,
    "start_time": "2022-11-23T06:39:22.363Z"
   },
   {
    "duration": 21,
    "start_time": "2022-11-23T06:39:22.422Z"
   },
   {
    "duration": 18,
    "start_time": "2022-11-23T06:39:22.445Z"
   },
   {
    "duration": 17,
    "start_time": "2022-11-23T06:39:22.465Z"
   },
   {
    "duration": 36,
    "start_time": "2022-11-23T06:39:22.483Z"
   },
   {
    "duration": 9,
    "start_time": "2022-11-23T06:39:22.521Z"
   },
   {
    "duration": 215,
    "start_time": "2022-11-23T06:39:22.533Z"
   },
   {
    "duration": 12,
    "start_time": "2022-11-23T06:39:22.750Z"
   },
   {
    "duration": 17,
    "start_time": "2022-11-23T06:39:22.763Z"
   },
   {
    "duration": 8,
    "start_time": "2022-11-23T06:39:22.781Z"
   },
   {
    "duration": 203,
    "start_time": "2022-11-23T06:39:22.791Z"
   },
   {
    "duration": 17,
    "start_time": "2022-11-23T06:39:22.996Z"
   },
   {
    "duration": 395,
    "start_time": "2022-11-23T06:39:23.015Z"
   },
   {
    "duration": 144,
    "start_time": "2022-11-23T06:39:23.411Z"
   },
   {
    "duration": 17,
    "start_time": "2022-11-23T06:39:23.556Z"
   },
   {
    "duration": 16,
    "start_time": "2022-11-23T06:39:23.612Z"
   },
   {
    "duration": 115,
    "start_time": "2022-11-23T06:39:23.631Z"
   },
   {
    "duration": 0,
    "start_time": "2022-11-23T06:39:23.748Z"
   },
   {
    "duration": 0,
    "start_time": "2022-11-23T06:39:23.749Z"
   },
   {
    "duration": 0,
    "start_time": "2022-11-23T06:39:23.751Z"
   },
   {
    "duration": 0,
    "start_time": "2022-11-23T06:39:23.752Z"
   },
   {
    "duration": 0,
    "start_time": "2022-11-23T06:39:23.753Z"
   },
   {
    "duration": 66,
    "start_time": "2022-11-23T06:41:42.864Z"
   },
   {
    "duration": 3,
    "start_time": "2022-11-23T06:44:48.774Z"
   },
   {
    "duration": 1206,
    "start_time": "2022-11-23T06:45:00.148Z"
   },
   {
    "duration": 39,
    "start_time": "2022-11-23T06:45:01.356Z"
   },
   {
    "duration": 484,
    "start_time": "2022-11-23T06:45:01.397Z"
   },
   {
    "duration": 76,
    "start_time": "2022-11-23T06:45:01.884Z"
   },
   {
    "duration": 31,
    "start_time": "2022-11-23T06:45:01.962Z"
   },
   {
    "duration": 86,
    "start_time": "2022-11-23T06:45:01.995Z"
   },
   {
    "duration": 5,
    "start_time": "2022-11-23T06:45:02.082Z"
   },
   {
    "duration": 13,
    "start_time": "2022-11-23T06:45:02.088Z"
   },
   {
    "duration": 103,
    "start_time": "2022-11-23T06:45:02.102Z"
   },
   {
    "duration": 377,
    "start_time": "2022-11-23T06:45:02.213Z"
   },
   {
    "duration": 79,
    "start_time": "2022-11-23T06:45:02.591Z"
   },
   {
    "duration": 61,
    "start_time": "2022-11-23T06:45:02.672Z"
   },
   {
    "duration": 82,
    "start_time": "2022-11-23T06:45:02.735Z"
   },
   {
    "duration": 215,
    "start_time": "2022-11-23T06:45:02.819Z"
   },
   {
    "duration": 6,
    "start_time": "2022-11-23T06:45:03.035Z"
   },
   {
    "duration": 32,
    "start_time": "2022-11-23T06:45:03.042Z"
   },
   {
    "duration": 41,
    "start_time": "2022-11-23T06:45:03.076Z"
   },
   {
    "duration": 6,
    "start_time": "2022-11-23T06:45:03.120Z"
   },
   {
    "duration": 13,
    "start_time": "2022-11-23T06:45:03.128Z"
   },
   {
    "duration": 8,
    "start_time": "2022-11-23T06:45:03.142Z"
   },
   {
    "duration": 18,
    "start_time": "2022-11-23T06:45:03.152Z"
   },
   {
    "duration": 10,
    "start_time": "2022-11-23T06:45:03.172Z"
   },
   {
    "duration": 46,
    "start_time": "2022-11-23T06:45:03.184Z"
   },
   {
    "duration": 39,
    "start_time": "2022-11-23T06:45:03.233Z"
   },
   {
    "duration": 139,
    "start_time": "2022-11-23T06:45:03.273Z"
   },
   {
    "duration": 30,
    "start_time": "2022-11-23T06:45:03.414Z"
   },
   {
    "duration": 26,
    "start_time": "2022-11-23T06:45:03.446Z"
   },
   {
    "duration": 170,
    "start_time": "2022-11-23T06:45:03.476Z"
   },
   {
    "duration": 18,
    "start_time": "2022-11-23T06:45:03.649Z"
   },
   {
    "duration": 17,
    "start_time": "2022-11-23T06:45:03.669Z"
   },
   {
    "duration": 40,
    "start_time": "2022-11-23T06:45:03.688Z"
   },
   {
    "duration": 8,
    "start_time": "2022-11-23T06:45:03.730Z"
   },
   {
    "duration": 18,
    "start_time": "2022-11-23T06:45:03.740Z"
   },
   {
    "duration": 4,
    "start_time": "2022-11-23T06:45:03.760Z"
   },
   {
    "duration": 46,
    "start_time": "2022-11-23T06:45:03.766Z"
   },
   {
    "duration": 26,
    "start_time": "2022-11-23T06:45:03.814Z"
   },
   {
    "duration": 5,
    "start_time": "2022-11-23T06:45:03.843Z"
   },
   {
    "duration": 8,
    "start_time": "2022-11-23T06:45:03.849Z"
   },
   {
    "duration": 13,
    "start_time": "2022-11-23T06:45:03.859Z"
   },
   {
    "duration": 9,
    "start_time": "2022-11-23T06:45:03.873Z"
   },
   {
    "duration": 68,
    "start_time": "2022-11-23T06:45:03.884Z"
   },
   {
    "duration": 23,
    "start_time": "2022-11-23T06:45:03.954Z"
   },
   {
    "duration": 20,
    "start_time": "2022-11-23T06:45:03.978Z"
   },
   {
    "duration": 13,
    "start_time": "2022-11-23T06:45:04.013Z"
   },
   {
    "duration": 18,
    "start_time": "2022-11-23T06:45:04.028Z"
   },
   {
    "duration": 10,
    "start_time": "2022-11-23T06:45:04.049Z"
   },
   {
    "duration": 245,
    "start_time": "2022-11-23T06:45:04.061Z"
   },
   {
    "duration": 12,
    "start_time": "2022-11-23T06:45:04.312Z"
   },
   {
    "duration": 22,
    "start_time": "2022-11-23T06:45:04.327Z"
   },
   {
    "duration": 8,
    "start_time": "2022-11-23T06:45:04.351Z"
   },
   {
    "duration": 204,
    "start_time": "2022-11-23T06:45:04.361Z"
   },
   {
    "duration": 14,
    "start_time": "2022-11-23T06:45:04.567Z"
   },
   {
    "duration": 413,
    "start_time": "2022-11-23T06:45:04.583Z"
   },
   {
    "duration": 146,
    "start_time": "2022-11-23T06:45:04.998Z"
   },
   {
    "duration": 12,
    "start_time": "2022-11-23T06:45:05.146Z"
   },
   {
    "duration": 14,
    "start_time": "2022-11-23T06:45:05.159Z"
   },
   {
    "duration": 83,
    "start_time": "2022-11-23T06:45:05.174Z"
   },
   {
    "duration": 15,
    "start_time": "2022-11-23T06:45:05.259Z"
   },
   {
    "duration": 6,
    "start_time": "2022-11-23T06:45:05.275Z"
   },
   {
    "duration": 41,
    "start_time": "2022-11-23T06:45:05.282Z"
   },
   {
    "duration": 5,
    "start_time": "2022-11-23T06:45:05.325Z"
   },
   {
    "duration": 14,
    "start_time": "2022-11-23T06:45:05.332Z"
   },
   {
    "duration": 6,
    "start_time": "2022-11-23T06:45:45.588Z"
   },
   {
    "duration": 7,
    "start_time": "2022-11-23T06:47:34.793Z"
   },
   {
    "duration": 9,
    "start_time": "2022-11-23T06:47:48.262Z"
   },
   {
    "duration": 1262,
    "start_time": "2022-11-23T06:48:47.610Z"
   },
   {
    "duration": 37,
    "start_time": "2022-11-23T06:48:48.875Z"
   },
   {
    "duration": 480,
    "start_time": "2022-11-23T06:48:48.914Z"
   },
   {
    "duration": 74,
    "start_time": "2022-11-23T06:48:49.396Z"
   },
   {
    "duration": 30,
    "start_time": "2022-11-23T06:48:49.472Z"
   },
   {
    "duration": 79,
    "start_time": "2022-11-23T06:48:49.504Z"
   },
   {
    "duration": 5,
    "start_time": "2022-11-23T06:48:49.585Z"
   },
   {
    "duration": 20,
    "start_time": "2022-11-23T06:48:49.592Z"
   },
   {
    "duration": 91,
    "start_time": "2022-11-23T06:48:49.614Z"
   },
   {
    "duration": 370,
    "start_time": "2022-11-23T06:48:49.715Z"
   },
   {
    "duration": 78,
    "start_time": "2022-11-23T06:48:50.088Z"
   },
   {
    "duration": 60,
    "start_time": "2022-11-23T06:48:50.168Z"
   },
   {
    "duration": 85,
    "start_time": "2022-11-23T06:48:50.230Z"
   },
   {
    "duration": 233,
    "start_time": "2022-11-23T06:48:50.316Z"
   },
   {
    "duration": 6,
    "start_time": "2022-11-23T06:48:50.551Z"
   },
   {
    "duration": 53,
    "start_time": "2022-11-23T06:48:50.559Z"
   },
   {
    "duration": 19,
    "start_time": "2022-11-23T06:48:50.614Z"
   },
   {
    "duration": 5,
    "start_time": "2022-11-23T06:48:50.635Z"
   },
   {
    "duration": 7,
    "start_time": "2022-11-23T06:48:50.642Z"
   },
   {
    "duration": 3,
    "start_time": "2022-11-23T06:48:50.651Z"
   },
   {
    "duration": 8,
    "start_time": "2022-11-23T06:48:50.656Z"
   },
   {
    "duration": 8,
    "start_time": "2022-11-23T06:48:50.666Z"
   },
   {
    "duration": 13,
    "start_time": "2022-11-23T06:48:50.713Z"
   },
   {
    "duration": 39,
    "start_time": "2022-11-23T06:48:50.728Z"
   },
   {
    "duration": 136,
    "start_time": "2022-11-23T06:48:50.769Z"
   },
   {
    "duration": 37,
    "start_time": "2022-11-23T06:48:50.907Z"
   },
   {
    "duration": 25,
    "start_time": "2022-11-23T06:48:50.946Z"
   },
   {
    "duration": 161,
    "start_time": "2022-11-23T06:48:50.974Z"
   },
   {
    "duration": 16,
    "start_time": "2022-11-23T06:48:51.137Z"
   },
   {
    "duration": 15,
    "start_time": "2022-11-23T06:48:51.154Z"
   },
   {
    "duration": 44,
    "start_time": "2022-11-23T06:48:51.171Z"
   },
   {
    "duration": 7,
    "start_time": "2022-11-23T06:48:51.216Z"
   },
   {
    "duration": 32,
    "start_time": "2022-11-23T06:48:51.224Z"
   },
   {
    "duration": 11,
    "start_time": "2022-11-23T06:48:51.257Z"
   },
   {
    "duration": 21,
    "start_time": "2022-11-23T06:48:51.270Z"
   },
   {
    "duration": 15,
    "start_time": "2022-11-23T06:48:51.293Z"
   },
   {
    "duration": 20,
    "start_time": "2022-11-23T06:48:51.309Z"
   },
   {
    "duration": 4,
    "start_time": "2022-11-23T06:48:51.331Z"
   },
   {
    "duration": 39,
    "start_time": "2022-11-23T06:48:51.336Z"
   },
   {
    "duration": 6,
    "start_time": "2022-11-23T06:48:51.377Z"
   },
   {
    "duration": 52,
    "start_time": "2022-11-23T06:48:51.384Z"
   },
   {
    "duration": 20,
    "start_time": "2022-11-23T06:48:51.437Z"
   },
   {
    "duration": 18,
    "start_time": "2022-11-23T06:48:51.458Z"
   },
   {
    "duration": 10,
    "start_time": "2022-11-23T06:48:51.477Z"
   },
   {
    "duration": 37,
    "start_time": "2022-11-23T06:48:51.489Z"
   },
   {
    "duration": 15,
    "start_time": "2022-11-23T06:48:51.528Z"
   },
   {
    "duration": 214,
    "start_time": "2022-11-23T06:48:51.544Z"
   },
   {
    "duration": 12,
    "start_time": "2022-11-23T06:48:51.760Z"
   },
   {
    "duration": 32,
    "start_time": "2022-11-23T06:48:51.774Z"
   },
   {
    "duration": 11,
    "start_time": "2022-11-23T06:48:51.808Z"
   },
   {
    "duration": 199,
    "start_time": "2022-11-23T06:48:51.821Z"
   },
   {
    "duration": 14,
    "start_time": "2022-11-23T06:48:52.022Z"
   },
   {
    "duration": 423,
    "start_time": "2022-11-23T06:48:52.038Z"
   },
   {
    "duration": 157,
    "start_time": "2022-11-23T06:48:52.464Z"
   },
   {
    "duration": 11,
    "start_time": "2022-11-23T06:48:52.623Z"
   },
   {
    "duration": 31,
    "start_time": "2022-11-23T06:48:52.636Z"
   },
   {
    "duration": 68,
    "start_time": "2022-11-23T06:48:52.669Z"
   },
   {
    "duration": 14,
    "start_time": "2022-11-23T06:48:52.739Z"
   },
   {
    "duration": 21,
    "start_time": "2022-11-23T06:48:52.755Z"
   },
   {
    "duration": 36,
    "start_time": "2022-11-23T06:48:52.778Z"
   },
   {
    "duration": 17,
    "start_time": "2022-11-23T06:48:52.816Z"
   },
   {
    "duration": 32,
    "start_time": "2022-11-23T06:48:52.835Z"
   },
   {
    "duration": 11,
    "start_time": "2022-11-23T06:50:17.047Z"
   },
   {
    "duration": 6,
    "start_time": "2022-11-23T06:50:21.814Z"
   },
   {
    "duration": 1230,
    "start_time": "2022-11-23T06:50:29.944Z"
   },
   {
    "duration": 37,
    "start_time": "2022-11-23T06:50:31.176Z"
   },
   {
    "duration": 510,
    "start_time": "2022-11-23T06:50:31.215Z"
   },
   {
    "duration": 78,
    "start_time": "2022-11-23T06:50:31.727Z"
   },
   {
    "duration": 34,
    "start_time": "2022-11-23T06:50:31.806Z"
   },
   {
    "duration": 84,
    "start_time": "2022-11-23T06:50:31.841Z"
   },
   {
    "duration": 5,
    "start_time": "2022-11-23T06:50:31.926Z"
   },
   {
    "duration": 7,
    "start_time": "2022-11-23T06:50:31.932Z"
   },
   {
    "duration": 115,
    "start_time": "2022-11-23T06:50:31.940Z"
   },
   {
    "duration": 411,
    "start_time": "2022-11-23T06:50:32.058Z"
   },
   {
    "duration": 77,
    "start_time": "2022-11-23T06:50:32.471Z"
   },
   {
    "duration": 63,
    "start_time": "2022-11-23T06:50:32.549Z"
   },
   {
    "duration": 78,
    "start_time": "2022-11-23T06:50:32.614Z"
   },
   {
    "duration": 267,
    "start_time": "2022-11-23T06:50:32.694Z"
   },
   {
    "duration": 6,
    "start_time": "2022-11-23T06:50:32.963Z"
   },
   {
    "duration": 56,
    "start_time": "2022-11-23T06:50:32.971Z"
   },
   {
    "duration": 21,
    "start_time": "2022-11-23T06:50:33.028Z"
   },
   {
    "duration": 4,
    "start_time": "2022-11-23T06:50:33.051Z"
   },
   {
    "duration": 11,
    "start_time": "2022-11-23T06:50:33.057Z"
   },
   {
    "duration": 4,
    "start_time": "2022-11-23T06:50:33.070Z"
   },
   {
    "duration": 39,
    "start_time": "2022-11-23T06:50:33.076Z"
   },
   {
    "duration": 8,
    "start_time": "2022-11-23T06:50:33.117Z"
   },
   {
    "duration": 12,
    "start_time": "2022-11-23T06:50:33.127Z"
   },
   {
    "duration": 30,
    "start_time": "2022-11-23T06:50:33.141Z"
   },
   {
    "duration": 150,
    "start_time": "2022-11-23T06:50:33.173Z"
   },
   {
    "duration": 32,
    "start_time": "2022-11-23T06:50:33.325Z"
   },
   {
    "duration": 25,
    "start_time": "2022-11-23T06:50:33.359Z"
   },
   {
    "duration": 186,
    "start_time": "2022-11-23T06:50:33.388Z"
   },
   {
    "duration": 17,
    "start_time": "2022-11-23T06:50:33.576Z"
   },
   {
    "duration": 27,
    "start_time": "2022-11-23T06:50:33.596Z"
   },
   {
    "duration": 21,
    "start_time": "2022-11-23T06:50:33.625Z"
   },
   {
    "duration": 7,
    "start_time": "2022-11-23T06:50:33.648Z"
   },
   {
    "duration": 16,
    "start_time": "2022-11-23T06:50:33.656Z"
   },
   {
    "duration": 5,
    "start_time": "2022-11-23T06:50:33.674Z"
   },
   {
    "duration": 10,
    "start_time": "2022-11-23T06:50:33.713Z"
   },
   {
    "duration": 6,
    "start_time": "2022-11-23T06:50:33.725Z"
   },
   {
    "duration": 4,
    "start_time": "2022-11-23T06:50:33.733Z"
   },
   {
    "duration": 5,
    "start_time": "2022-11-23T06:50:33.739Z"
   },
   {
    "duration": 15,
    "start_time": "2022-11-23T06:50:33.746Z"
   },
   {
    "duration": 5,
    "start_time": "2022-11-23T06:50:33.763Z"
   },
   {
    "duration": 53,
    "start_time": "2022-11-23T06:50:33.770Z"
   },
   {
    "duration": 22,
    "start_time": "2022-11-23T06:50:33.824Z"
   },
   {
    "duration": 17,
    "start_time": "2022-11-23T06:50:33.848Z"
   },
   {
    "duration": 12,
    "start_time": "2022-11-23T06:50:33.867Z"
   },
   {
    "duration": 43,
    "start_time": "2022-11-23T06:50:33.881Z"
   },
   {
    "duration": 9,
    "start_time": "2022-11-23T06:50:33.927Z"
   },
   {
    "duration": 237,
    "start_time": "2022-11-23T06:50:33.938Z"
   },
   {
    "duration": 13,
    "start_time": "2022-11-23T06:50:34.177Z"
   },
   {
    "duration": 35,
    "start_time": "2022-11-23T06:50:34.192Z"
   },
   {
    "duration": 20,
    "start_time": "2022-11-23T06:50:34.229Z"
   },
   {
    "duration": 195,
    "start_time": "2022-11-23T06:50:34.251Z"
   },
   {
    "duration": 13,
    "start_time": "2022-11-23T06:50:34.448Z"
   },
   {
    "duration": 429,
    "start_time": "2022-11-23T06:50:34.462Z"
   },
   {
    "duration": 158,
    "start_time": "2022-11-23T06:50:34.893Z"
   },
   {
    "duration": 13,
    "start_time": "2022-11-23T06:50:35.053Z"
   },
   {
    "duration": 26,
    "start_time": "2022-11-23T06:50:35.068Z"
   },
   {
    "duration": 89,
    "start_time": "2022-11-23T06:50:35.096Z"
   },
   {
    "duration": 16,
    "start_time": "2022-11-23T06:50:35.187Z"
   },
   {
    "duration": 14,
    "start_time": "2022-11-23T06:50:35.205Z"
   },
   {
    "duration": 32,
    "start_time": "2022-11-23T06:50:35.221Z"
   },
   {
    "duration": 25,
    "start_time": "2022-11-23T06:50:35.255Z"
   },
   {
    "duration": 37,
    "start_time": "2022-11-23T06:50:35.281Z"
   },
   {
    "duration": 12,
    "start_time": "2022-11-23T07:01:52.290Z"
   },
   {
    "duration": 13,
    "start_time": "2022-11-23T07:03:57.522Z"
   },
   {
    "duration": 4,
    "start_time": "2022-11-23T07:05:21.506Z"
   },
   {
    "duration": 49,
    "start_time": "2022-11-23T07:08:01.381Z"
   },
   {
    "duration": 1246,
    "start_time": "2022-11-23T07:08:42.023Z"
   },
   {
    "duration": 37,
    "start_time": "2022-11-23T07:08:43.272Z"
   },
   {
    "duration": 507,
    "start_time": "2022-11-23T07:08:43.312Z"
   },
   {
    "duration": 76,
    "start_time": "2022-11-23T07:08:43.822Z"
   },
   {
    "duration": 32,
    "start_time": "2022-11-23T07:08:43.900Z"
   },
   {
    "duration": 98,
    "start_time": "2022-11-23T07:08:43.934Z"
   },
   {
    "duration": 6,
    "start_time": "2022-11-23T07:08:44.034Z"
   },
   {
    "duration": 15,
    "start_time": "2022-11-23T07:08:44.042Z"
   },
   {
    "duration": 105,
    "start_time": "2022-11-23T07:08:44.059Z"
   },
   {
    "duration": 471,
    "start_time": "2022-11-23T07:08:44.168Z"
   },
   {
    "duration": 112,
    "start_time": "2022-11-23T07:08:44.641Z"
   },
   {
    "duration": 79,
    "start_time": "2022-11-23T07:08:44.756Z"
   },
   {
    "duration": 114,
    "start_time": "2022-11-23T07:08:44.838Z"
   },
   {
    "duration": 324,
    "start_time": "2022-11-23T07:08:44.954Z"
   },
   {
    "duration": 7,
    "start_time": "2022-11-23T07:08:45.281Z"
   },
   {
    "duration": 63,
    "start_time": "2022-11-23T07:08:45.290Z"
   },
   {
    "duration": 23,
    "start_time": "2022-11-23T07:08:45.355Z"
   },
   {
    "duration": 6,
    "start_time": "2022-11-23T07:08:45.380Z"
   },
   {
    "duration": 31,
    "start_time": "2022-11-23T07:08:45.388Z"
   },
   {
    "duration": 4,
    "start_time": "2022-11-23T07:08:45.422Z"
   },
   {
    "duration": 11,
    "start_time": "2022-11-23T07:08:45.428Z"
   },
   {
    "duration": 11,
    "start_time": "2022-11-23T07:08:45.441Z"
   },
   {
    "duration": 14,
    "start_time": "2022-11-23T07:08:45.454Z"
   },
   {
    "duration": 65,
    "start_time": "2022-11-23T07:08:45.470Z"
   },
   {
    "duration": 135,
    "start_time": "2022-11-23T07:08:45.536Z"
   },
   {
    "duration": 45,
    "start_time": "2022-11-23T07:08:45.674Z"
   },
   {
    "duration": 30,
    "start_time": "2022-11-23T07:08:45.721Z"
   },
   {
    "duration": 208,
    "start_time": "2022-11-23T07:08:45.756Z"
   },
   {
    "duration": 24,
    "start_time": "2022-11-23T07:08:45.967Z"
   },
   {
    "duration": 38,
    "start_time": "2022-11-23T07:08:45.994Z"
   },
   {
    "duration": 57,
    "start_time": "2022-11-23T07:08:46.034Z"
   },
   {
    "duration": 10,
    "start_time": "2022-11-23T07:08:46.094Z"
   },
   {
    "duration": 30,
    "start_time": "2022-11-23T07:08:46.106Z"
   },
   {
    "duration": 12,
    "start_time": "2022-11-23T07:08:46.139Z"
   },
   {
    "duration": 22,
    "start_time": "2022-11-23T07:08:46.154Z"
   },
   {
    "duration": 38,
    "start_time": "2022-11-23T07:08:46.178Z"
   },
   {
    "duration": 10,
    "start_time": "2022-11-23T07:08:46.219Z"
   },
   {
    "duration": 15,
    "start_time": "2022-11-23T07:08:46.231Z"
   },
   {
    "duration": 6,
    "start_time": "2022-11-23T07:08:46.248Z"
   },
   {
    "duration": 16,
    "start_time": "2022-11-23T07:08:46.258Z"
   },
   {
    "duration": 9,
    "start_time": "2022-11-23T07:08:46.276Z"
   },
   {
    "duration": 50,
    "start_time": "2022-11-23T07:08:46.289Z"
   },
   {
    "duration": 35,
    "start_time": "2022-11-23T07:08:46.341Z"
   },
   {
    "duration": 40,
    "start_time": "2022-11-23T07:08:46.378Z"
   },
   {
    "duration": 35,
    "start_time": "2022-11-23T07:08:46.420Z"
   },
   {
    "duration": 34,
    "start_time": "2022-11-23T07:08:46.457Z"
   },
   {
    "duration": 16,
    "start_time": "2022-11-23T07:08:46.493Z"
   },
   {
    "duration": 326,
    "start_time": "2022-11-23T07:08:46.512Z"
   },
   {
    "duration": 16,
    "start_time": "2022-11-23T07:08:46.840Z"
   },
   {
    "duration": 21,
    "start_time": "2022-11-23T07:08:46.858Z"
   },
   {
    "duration": 11,
    "start_time": "2022-11-23T07:08:46.883Z"
   },
   {
    "duration": 202,
    "start_time": "2022-11-23T07:08:46.895Z"
   },
   {
    "duration": 25,
    "start_time": "2022-11-23T07:08:47.100Z"
   },
   {
    "duration": 399,
    "start_time": "2022-11-23T07:08:47.128Z"
   },
   {
    "duration": 200,
    "start_time": "2022-11-23T07:08:47.529Z"
   },
   {
    "duration": 14,
    "start_time": "2022-11-23T07:08:47.731Z"
   },
   {
    "duration": 12,
    "start_time": "2022-11-23T07:08:47.746Z"
   },
   {
    "duration": 89,
    "start_time": "2022-11-23T07:08:47.760Z"
   },
   {
    "duration": 16,
    "start_time": "2022-11-23T07:08:47.851Z"
   },
   {
    "duration": 10,
    "start_time": "2022-11-23T07:08:47.869Z"
   },
   {
    "duration": 58,
    "start_time": "2022-11-23T07:08:47.881Z"
   },
   {
    "duration": 11,
    "start_time": "2022-11-23T07:08:47.942Z"
   },
   {
    "duration": 13,
    "start_time": "2022-11-23T07:08:47.956Z"
   },
   {
    "duration": 1267,
    "start_time": "2022-11-23T07:13:32.115Z"
   },
   {
    "duration": 39,
    "start_time": "2022-11-23T07:13:33.384Z"
   },
   {
    "duration": 475,
    "start_time": "2022-11-23T07:13:33.424Z"
   },
   {
    "duration": 77,
    "start_time": "2022-11-23T07:13:33.901Z"
   },
   {
    "duration": 33,
    "start_time": "2022-11-23T07:13:33.979Z"
   },
   {
    "duration": 78,
    "start_time": "2022-11-23T07:13:34.014Z"
   },
   {
    "duration": 4,
    "start_time": "2022-11-23T07:13:34.094Z"
   },
   {
    "duration": 23,
    "start_time": "2022-11-23T07:13:34.111Z"
   },
   {
    "duration": 118,
    "start_time": "2022-11-23T07:13:34.135Z"
   },
   {
    "duration": 369,
    "start_time": "2022-11-23T07:13:34.256Z"
   },
   {
    "duration": 70,
    "start_time": "2022-11-23T07:13:34.626Z"
   },
   {
    "duration": 59,
    "start_time": "2022-11-23T07:13:34.698Z"
   },
   {
    "duration": 87,
    "start_time": "2022-11-23T07:13:34.758Z"
   },
   {
    "duration": 256,
    "start_time": "2022-11-23T07:13:34.847Z"
   },
   {
    "duration": 8,
    "start_time": "2022-11-23T07:13:35.111Z"
   },
   {
    "duration": 62,
    "start_time": "2022-11-23T07:13:35.121Z"
   },
   {
    "duration": 20,
    "start_time": "2022-11-23T07:13:35.185Z"
   },
   {
    "duration": 16,
    "start_time": "2022-11-23T07:13:35.212Z"
   },
   {
    "duration": 24,
    "start_time": "2022-11-23T07:13:35.230Z"
   },
   {
    "duration": 25,
    "start_time": "2022-11-23T07:13:35.255Z"
   },
   {
    "duration": 28,
    "start_time": "2022-11-23T07:13:35.282Z"
   },
   {
    "duration": 18,
    "start_time": "2022-11-23T07:13:35.312Z"
   },
   {
    "duration": 17,
    "start_time": "2022-11-23T07:13:35.332Z"
   },
   {
    "duration": 38,
    "start_time": "2022-11-23T07:13:35.351Z"
   },
   {
    "duration": 130,
    "start_time": "2022-11-23T07:13:35.391Z"
   },
   {
    "duration": 33,
    "start_time": "2022-11-23T07:13:35.522Z"
   },
   {
    "duration": 25,
    "start_time": "2022-11-23T07:13:35.556Z"
   },
   {
    "duration": 175,
    "start_time": "2022-11-23T07:13:35.586Z"
   },
   {
    "duration": 16,
    "start_time": "2022-11-23T07:13:35.762Z"
   },
   {
    "duration": 32,
    "start_time": "2022-11-23T07:13:35.780Z"
   },
   {
    "duration": 20,
    "start_time": "2022-11-23T07:13:35.814Z"
   },
   {
    "duration": 21,
    "start_time": "2022-11-23T07:13:35.836Z"
   },
   {
    "duration": 27,
    "start_time": "2022-11-23T07:13:35.858Z"
   },
   {
    "duration": 5,
    "start_time": "2022-11-23T07:13:35.887Z"
   },
   {
    "duration": 30,
    "start_time": "2022-11-23T07:13:35.893Z"
   },
   {
    "duration": 18,
    "start_time": "2022-11-23T07:13:35.925Z"
   },
   {
    "duration": 19,
    "start_time": "2022-11-23T07:13:35.945Z"
   },
   {
    "duration": 19,
    "start_time": "2022-11-23T07:13:35.966Z"
   },
   {
    "duration": 13,
    "start_time": "2022-11-23T07:13:35.987Z"
   },
   {
    "duration": 31,
    "start_time": "2022-11-23T07:13:36.002Z"
   },
   {
    "duration": 23,
    "start_time": "2022-11-23T07:13:36.035Z"
   },
   {
    "duration": 44,
    "start_time": "2022-11-23T07:13:36.060Z"
   },
   {
    "duration": 23,
    "start_time": "2022-11-23T07:13:36.106Z"
   },
   {
    "duration": 19,
    "start_time": "2022-11-23T07:13:36.131Z"
   },
   {
    "duration": 23,
    "start_time": "2022-11-23T07:13:36.152Z"
   },
   {
    "duration": 33,
    "start_time": "2022-11-23T07:13:36.177Z"
   },
   {
    "duration": 8,
    "start_time": "2022-11-23T07:13:36.213Z"
   },
   {
    "duration": 263,
    "start_time": "2022-11-23T07:13:36.223Z"
   },
   {
    "duration": 27,
    "start_time": "2022-11-23T07:13:36.490Z"
   },
   {
    "duration": 39,
    "start_time": "2022-11-23T07:13:36.519Z"
   },
   {
    "duration": 26,
    "start_time": "2022-11-23T07:13:36.560Z"
   },
   {
    "duration": 189,
    "start_time": "2022-11-23T07:13:36.588Z"
   },
   {
    "duration": 16,
    "start_time": "2022-11-23T07:13:36.779Z"
   },
   {
    "duration": 463,
    "start_time": "2022-11-23T07:13:36.797Z"
   },
   {
    "duration": 116,
    "start_time": "2022-11-23T07:13:37.261Z"
   },
   {
    "duration": 43,
    "start_time": "2022-11-23T07:13:37.379Z"
   },
   {
    "duration": 11,
    "start_time": "2022-11-23T07:13:37.424Z"
   },
   {
    "duration": 87,
    "start_time": "2022-11-23T07:13:37.437Z"
   },
   {
    "duration": 15,
    "start_time": "2022-11-23T07:13:37.526Z"
   },
   {
    "duration": 6,
    "start_time": "2022-11-23T07:13:37.543Z"
   },
   {
    "duration": 19,
    "start_time": "2022-11-23T07:13:37.551Z"
   },
   {
    "duration": 6,
    "start_time": "2022-11-23T07:13:37.572Z"
   },
   {
    "duration": 21,
    "start_time": "2022-11-23T07:13:37.613Z"
   },
   {
    "duration": 1535,
    "start_time": "2022-11-23T21:57:49.095Z"
   },
   {
    "duration": 86,
    "start_time": "2022-11-23T21:57:50.632Z"
   },
   {
    "duration": 706,
    "start_time": "2022-11-23T21:57:50.720Z"
   },
   {
    "duration": 193,
    "start_time": "2022-11-23T21:57:51.428Z"
   },
   {
    "duration": 82,
    "start_time": "2022-11-23T21:57:51.623Z"
   },
   {
    "duration": 100,
    "start_time": "2022-11-23T21:57:51.707Z"
   },
   {
    "duration": 4,
    "start_time": "2022-11-23T21:57:51.809Z"
   },
   {
    "duration": 31,
    "start_time": "2022-11-23T21:57:51.815Z"
   },
   {
    "duration": 108,
    "start_time": "2022-11-23T21:57:51.849Z"
   },
   {
    "duration": 418,
    "start_time": "2022-11-23T21:57:51.961Z"
   },
   {
    "duration": 125,
    "start_time": "2022-11-23T21:57:52.381Z"
   },
   {
    "duration": 89,
    "start_time": "2022-11-23T21:57:52.509Z"
   },
   {
    "duration": 101,
    "start_time": "2022-11-23T21:57:52.600Z"
   },
   {
    "duration": 255,
    "start_time": "2022-11-23T21:57:52.703Z"
   },
   {
    "duration": 8,
    "start_time": "2022-11-23T21:57:52.960Z"
   },
   {
    "duration": 47,
    "start_time": "2022-11-23T21:57:52.969Z"
   },
   {
    "duration": 32,
    "start_time": "2022-11-23T21:57:53.018Z"
   },
   {
    "duration": 8,
    "start_time": "2022-11-23T21:57:53.052Z"
   },
   {
    "duration": 20,
    "start_time": "2022-11-23T21:57:53.062Z"
   },
   {
    "duration": 3,
    "start_time": "2022-11-23T21:57:53.084Z"
   },
   {
    "duration": 7,
    "start_time": "2022-11-23T21:57:53.089Z"
   },
   {
    "duration": 9,
    "start_time": "2022-11-23T21:57:53.098Z"
   },
   {
    "duration": 31,
    "start_time": "2022-11-23T21:57:53.109Z"
   },
   {
    "duration": 36,
    "start_time": "2022-11-23T21:57:53.142Z"
   },
   {
    "duration": 141,
    "start_time": "2022-11-23T21:57:53.180Z"
   },
   {
    "duration": 41,
    "start_time": "2022-11-23T21:57:53.323Z"
   },
   {
    "duration": 55,
    "start_time": "2022-11-23T21:57:53.366Z"
   },
   {
    "duration": 187,
    "start_time": "2022-11-23T21:57:53.425Z"
   },
   {
    "duration": 25,
    "start_time": "2022-11-23T21:57:53.614Z"
   },
   {
    "duration": 38,
    "start_time": "2022-11-23T21:57:53.641Z"
   },
   {
    "duration": 20,
    "start_time": "2022-11-23T21:57:53.681Z"
   },
   {
    "duration": 7,
    "start_time": "2022-11-23T21:57:53.703Z"
   },
   {
    "duration": 28,
    "start_time": "2022-11-23T21:57:53.711Z"
   },
   {
    "duration": 7,
    "start_time": "2022-11-23T21:57:53.741Z"
   },
   {
    "duration": 19,
    "start_time": "2022-11-23T21:57:53.750Z"
   },
   {
    "duration": 14,
    "start_time": "2022-11-23T21:57:53.771Z"
   },
   {
    "duration": 6,
    "start_time": "2022-11-23T21:57:53.787Z"
   },
   {
    "duration": 24,
    "start_time": "2022-11-23T21:57:53.795Z"
   },
   {
    "duration": 29,
    "start_time": "2022-11-23T21:57:53.821Z"
   },
   {
    "duration": 22,
    "start_time": "2022-11-23T21:57:53.852Z"
   },
   {
    "duration": 10,
    "start_time": "2022-11-23T21:57:53.875Z"
   },
   {
    "duration": 32,
    "start_time": "2022-11-23T21:57:53.887Z"
   },
   {
    "duration": 29,
    "start_time": "2022-11-23T21:57:53.921Z"
   },
   {
    "duration": 17,
    "start_time": "2022-11-23T21:57:53.952Z"
   },
   {
    "duration": 23,
    "start_time": "2022-11-23T21:57:53.971Z"
   },
   {
    "duration": 21,
    "start_time": "2022-11-23T21:57:53.996Z"
   },
   {
    "duration": 28,
    "start_time": "2022-11-23T21:57:54.019Z"
   },
   {
    "duration": 212,
    "start_time": "2022-11-23T21:57:54.050Z"
   },
   {
    "duration": 11,
    "start_time": "2022-11-23T21:57:54.264Z"
   },
   {
    "duration": 42,
    "start_time": "2022-11-23T21:57:54.277Z"
   },
   {
    "duration": 11,
    "start_time": "2022-11-23T21:57:54.321Z"
   },
   {
    "duration": 221,
    "start_time": "2022-11-23T21:57:54.335Z"
   },
   {
    "duration": 12,
    "start_time": "2022-11-23T21:57:54.558Z"
   },
   {
    "duration": 469,
    "start_time": "2022-11-23T21:57:54.572Z"
   },
   {
    "duration": 207,
    "start_time": "2022-11-23T21:57:55.043Z"
   },
   {
    "duration": 29,
    "start_time": "2022-11-23T21:57:55.252Z"
   },
   {
    "duration": 13,
    "start_time": "2022-11-23T21:57:55.283Z"
   },
   {
    "duration": 76,
    "start_time": "2022-11-23T21:57:55.298Z"
   },
   {
    "duration": 15,
    "start_time": "2022-11-23T21:57:55.376Z"
   },
   {
    "duration": 19,
    "start_time": "2022-11-23T21:57:55.393Z"
   },
   {
    "duration": 66,
    "start_time": "2022-11-23T21:57:55.414Z"
   },
   {
    "duration": 11,
    "start_time": "2022-11-23T21:57:55.483Z"
   },
   {
    "duration": 20,
    "start_time": "2022-11-23T21:57:55.496Z"
   },
   {
    "duration": 47,
    "start_time": "2022-11-24T07:55:48.071Z"
   },
   {
    "duration": 1431,
    "start_time": "2022-11-24T07:55:54.206Z"
   },
   {
    "duration": 77,
    "start_time": "2022-11-24T07:55:55.640Z"
   },
   {
    "duration": 1556,
    "start_time": "2022-11-24T07:55:55.718Z"
   },
   {
    "duration": 250,
    "start_time": "2022-11-24T07:55:57.276Z"
   },
   {
    "duration": 109,
    "start_time": "2022-11-24T07:55:57.528Z"
   },
   {
    "duration": 98,
    "start_time": "2022-11-24T07:55:57.639Z"
   },
   {
    "duration": 5,
    "start_time": "2022-11-24T07:55:57.739Z"
   },
   {
    "duration": 7,
    "start_time": "2022-11-24T07:55:57.746Z"
   },
   {
    "duration": 102,
    "start_time": "2022-11-24T07:55:57.754Z"
   },
   {
    "duration": 365,
    "start_time": "2022-11-24T07:55:57.858Z"
   },
   {
    "duration": 76,
    "start_time": "2022-11-24T07:55:58.225Z"
   },
   {
    "duration": 63,
    "start_time": "2022-11-24T07:55:58.303Z"
   },
   {
    "duration": 78,
    "start_time": "2022-11-24T07:55:58.368Z"
   },
   {
    "duration": 227,
    "start_time": "2022-11-24T07:55:58.447Z"
   },
   {
    "duration": 6,
    "start_time": "2022-11-24T07:55:58.675Z"
   },
   {
    "duration": 31,
    "start_time": "2022-11-24T07:55:58.682Z"
   },
   {
    "duration": 36,
    "start_time": "2022-11-24T07:55:58.715Z"
   },
   {
    "duration": 5,
    "start_time": "2022-11-24T07:55:58.753Z"
   },
   {
    "duration": 9,
    "start_time": "2022-11-24T07:55:58.759Z"
   },
   {
    "duration": 6,
    "start_time": "2022-11-24T07:55:58.769Z"
   },
   {
    "duration": 6,
    "start_time": "2022-11-24T07:55:58.777Z"
   },
   {
    "duration": 8,
    "start_time": "2022-11-24T07:55:58.784Z"
   },
   {
    "duration": 46,
    "start_time": "2022-11-24T07:55:58.793Z"
   },
   {
    "duration": 34,
    "start_time": "2022-11-24T07:55:58.841Z"
   },
   {
    "duration": 152,
    "start_time": "2022-11-24T07:55:58.877Z"
   },
   {
    "duration": 33,
    "start_time": "2022-11-24T07:55:59.031Z"
   },
   {
    "duration": 24,
    "start_time": "2022-11-24T07:55:59.065Z"
   },
   {
    "duration": 164,
    "start_time": "2022-11-24T07:55:59.093Z"
   },
   {
    "duration": 17,
    "start_time": "2022-11-24T07:55:59.259Z"
   },
   {
    "duration": 16,
    "start_time": "2022-11-24T07:55:59.277Z"
   },
   {
    "duration": 43,
    "start_time": "2022-11-24T07:55:59.294Z"
   },
   {
    "duration": 7,
    "start_time": "2022-11-24T07:55:59.339Z"
   },
   {
    "duration": 17,
    "start_time": "2022-11-24T07:55:59.347Z"
   },
   {
    "duration": 4,
    "start_time": "2022-11-24T07:55:59.366Z"
   },
   {
    "duration": 12,
    "start_time": "2022-11-24T07:55:59.371Z"
   },
   {
    "duration": 11,
    "start_time": "2022-11-24T07:55:59.385Z"
   },
   {
    "duration": 5,
    "start_time": "2022-11-24T07:55:59.397Z"
   },
   {
    "duration": 34,
    "start_time": "2022-11-24T07:55:59.403Z"
   },
   {
    "duration": 5,
    "start_time": "2022-11-24T07:55:59.439Z"
   },
   {
    "duration": 12,
    "start_time": "2022-11-24T07:55:59.446Z"
   },
   {
    "duration": 5,
    "start_time": "2022-11-24T07:55:59.460Z"
   },
   {
    "duration": 26,
    "start_time": "2022-11-24T07:55:59.467Z"
   },
   {
    "duration": 9,
    "start_time": "2022-11-24T07:55:59.495Z"
   },
   {
    "duration": 51,
    "start_time": "2022-11-24T07:55:59.506Z"
   },
   {
    "duration": 20,
    "start_time": "2022-11-24T07:55:59.559Z"
   },
   {
    "duration": 11,
    "start_time": "2022-11-24T07:55:59.581Z"
   },
   {
    "duration": 49,
    "start_time": "2022-11-24T07:55:59.593Z"
   },
   {
    "duration": 7,
    "start_time": "2022-11-24T07:55:59.644Z"
   },
   {
    "duration": 203,
    "start_time": "2022-11-24T07:55:59.653Z"
   },
   {
    "duration": 11,
    "start_time": "2022-11-24T07:55:59.858Z"
   },
   {
    "duration": 18,
    "start_time": "2022-11-24T07:55:59.870Z"
   },
   {
    "duration": 8,
    "start_time": "2022-11-24T07:55:59.889Z"
   },
   {
    "duration": 188,
    "start_time": "2022-11-24T07:55:59.898Z"
   },
   {
    "duration": 14,
    "start_time": "2022-11-24T07:56:00.088Z"
   },
   {
    "duration": 376,
    "start_time": "2022-11-24T07:56:00.103Z"
   },
   {
    "duration": 157,
    "start_time": "2022-11-24T07:56:00.480Z"
   },
   {
    "duration": 12,
    "start_time": "2022-11-24T07:56:00.640Z"
   },
   {
    "duration": 24,
    "start_time": "2022-11-24T07:56:00.654Z"
   },
   {
    "duration": 71,
    "start_time": "2022-11-24T07:56:00.679Z"
   },
   {
    "duration": 16,
    "start_time": "2022-11-24T07:56:00.752Z"
   },
   {
    "duration": 7,
    "start_time": "2022-11-24T07:56:00.770Z"
   },
   {
    "duration": 24,
    "start_time": "2022-11-24T07:56:00.779Z"
   },
   {
    "duration": 11,
    "start_time": "2022-11-24T07:56:00.804Z"
   },
   {
    "duration": 26,
    "start_time": "2022-11-24T07:56:00.817Z"
   },
   {
    "duration": 11,
    "start_time": "2022-11-24T07:57:29.555Z"
   },
   {
    "duration": 11,
    "start_time": "2022-11-24T07:57:41.949Z"
   },
   {
    "duration": 29,
    "start_time": "2022-11-24T08:00:07.515Z"
   },
   {
    "duration": 65,
    "start_time": "2022-11-24T08:01:13.927Z"
   },
   {
    "duration": 18,
    "start_time": "2022-11-24T08:01:19.980Z"
   },
   {
    "duration": 6,
    "start_time": "2022-11-24T08:02:00.843Z"
   },
   {
    "duration": 1204,
    "start_time": "2022-11-24T08:02:11.529Z"
   },
   {
    "duration": 34,
    "start_time": "2022-11-24T08:02:12.735Z"
   },
   {
    "duration": 450,
    "start_time": "2022-11-24T08:02:12.770Z"
   },
   {
    "duration": 68,
    "start_time": "2022-11-24T08:02:13.222Z"
   },
   {
    "duration": 28,
    "start_time": "2022-11-24T08:02:13.292Z"
   },
   {
    "duration": 88,
    "start_time": "2022-11-24T08:02:13.322Z"
   },
   {
    "duration": 4,
    "start_time": "2022-11-24T08:02:13.412Z"
   },
   {
    "duration": 6,
    "start_time": "2022-11-24T08:02:13.417Z"
   },
   {
    "duration": 97,
    "start_time": "2022-11-24T08:02:13.425Z"
   },
   {
    "duration": 378,
    "start_time": "2022-11-24T08:02:13.524Z"
   },
   {
    "duration": 86,
    "start_time": "2022-11-24T08:02:13.904Z"
   },
   {
    "duration": 61,
    "start_time": "2022-11-24T08:02:13.992Z"
   },
   {
    "duration": 69,
    "start_time": "2022-11-24T08:02:14.056Z"
   },
   {
    "duration": 231,
    "start_time": "2022-11-24T08:02:14.126Z"
   },
   {
    "duration": 6,
    "start_time": "2022-11-24T08:02:14.358Z"
   },
   {
    "duration": 31,
    "start_time": "2022-11-24T08:02:14.365Z"
   },
   {
    "duration": 41,
    "start_time": "2022-11-24T08:02:14.398Z"
   },
   {
    "duration": 5,
    "start_time": "2022-11-24T08:02:14.440Z"
   },
   {
    "duration": 10,
    "start_time": "2022-11-24T08:02:14.447Z"
   },
   {
    "duration": 4,
    "start_time": "2022-11-24T08:02:14.458Z"
   },
   {
    "duration": 9,
    "start_time": "2022-11-24T08:02:14.463Z"
   },
   {
    "duration": 10,
    "start_time": "2022-11-24T08:02:14.474Z"
   },
   {
    "duration": 13,
    "start_time": "2022-11-24T08:02:14.485Z"
   },
   {
    "duration": 62,
    "start_time": "2022-11-24T08:02:14.499Z"
   },
   {
    "duration": 122,
    "start_time": "2022-11-24T08:02:14.562Z"
   },
   {
    "duration": 25,
    "start_time": "2022-11-24T08:02:14.685Z"
   },
   {
    "duration": 37,
    "start_time": "2022-11-24T08:02:14.711Z"
   },
   {
    "duration": 148,
    "start_time": "2022-11-24T08:02:14.752Z"
   },
   {
    "duration": 20,
    "start_time": "2022-11-24T08:02:14.902Z"
   },
   {
    "duration": 32,
    "start_time": "2022-11-24T08:02:14.923Z"
   },
   {
    "duration": 34,
    "start_time": "2022-11-24T08:02:14.957Z"
   },
   {
    "duration": 7,
    "start_time": "2022-11-24T08:02:14.993Z"
   },
   {
    "duration": 47,
    "start_time": "2022-11-24T08:02:15.002Z"
   },
   {
    "duration": 9,
    "start_time": "2022-11-24T08:02:15.051Z"
   },
   {
    "duration": 16,
    "start_time": "2022-11-24T08:02:15.062Z"
   },
   {
    "duration": 15,
    "start_time": "2022-11-24T08:02:15.080Z"
   },
   {
    "duration": 9,
    "start_time": "2022-11-24T08:02:15.097Z"
   },
   {
    "duration": 7,
    "start_time": "2022-11-24T08:02:15.108Z"
   },
   {
    "duration": 8,
    "start_time": "2022-11-24T08:02:15.117Z"
   },
   {
    "duration": 21,
    "start_time": "2022-11-24T08:02:15.127Z"
   },
   {
    "duration": 6,
    "start_time": "2022-11-24T08:02:15.150Z"
   },
   {
    "duration": 26,
    "start_time": "2022-11-24T08:02:15.158Z"
   },
   {
    "duration": 17,
    "start_time": "2022-11-24T08:02:15.186Z"
   },
   {
    "duration": 58,
    "start_time": "2022-11-24T08:02:15.205Z"
   },
   {
    "duration": 17,
    "start_time": "2022-11-24T08:02:15.265Z"
   },
   {
    "duration": 9,
    "start_time": "2022-11-24T08:02:15.284Z"
   },
   {
    "duration": 16,
    "start_time": "2022-11-24T08:02:15.295Z"
   },
   {
    "duration": 10,
    "start_time": "2022-11-24T08:02:15.337Z"
   },
   {
    "duration": 208,
    "start_time": "2022-11-24T08:02:15.348Z"
   },
   {
    "duration": 13,
    "start_time": "2022-11-24T08:02:15.558Z"
   },
   {
    "duration": 15,
    "start_time": "2022-11-24T08:02:15.573Z"
   },
   {
    "duration": 8,
    "start_time": "2022-11-24T08:02:15.589Z"
   },
   {
    "duration": 201,
    "start_time": "2022-11-24T08:02:15.599Z"
   },
   {
    "duration": 13,
    "start_time": "2022-11-24T08:02:15.802Z"
   },
   {
    "duration": 394,
    "start_time": "2022-11-24T08:02:15.817Z"
   },
   {
    "duration": 157,
    "start_time": "2022-11-24T08:02:16.213Z"
   },
   {
    "duration": 11,
    "start_time": "2022-11-24T08:02:16.372Z"
   },
   {
    "duration": 10,
    "start_time": "2022-11-24T08:02:16.385Z"
   },
   {
    "duration": 83,
    "start_time": "2022-11-24T08:02:16.396Z"
   },
   {
    "duration": 15,
    "start_time": "2022-11-24T08:02:16.480Z"
   },
   {
    "duration": 4,
    "start_time": "2022-11-24T08:02:16.497Z"
   },
   {
    "duration": 37,
    "start_time": "2022-11-24T08:02:16.503Z"
   },
   {
    "duration": 5,
    "start_time": "2022-11-24T08:02:16.541Z"
   },
   {
    "duration": 13,
    "start_time": "2022-11-24T08:02:16.548Z"
   },
   {
    "duration": 10,
    "start_time": "2022-11-24T08:05:42.096Z"
   },
   {
    "duration": 17,
    "start_time": "2022-11-24T08:05:47.830Z"
   },
   {
    "duration": 14,
    "start_time": "2022-11-24T08:05:59.342Z"
   },
   {
    "duration": 15,
    "start_time": "2022-11-24T08:06:10.401Z"
   },
   {
    "duration": 15,
    "start_time": "2022-11-24T08:06:20.399Z"
   },
   {
    "duration": 1214,
    "start_time": "2022-11-24T08:10:07.148Z"
   },
   {
    "duration": 34,
    "start_time": "2022-11-24T08:10:08.364Z"
   },
   {
    "duration": 480,
    "start_time": "2022-11-24T08:10:08.400Z"
   },
   {
    "duration": 84,
    "start_time": "2022-11-24T08:10:08.883Z"
   },
   {
    "duration": 34,
    "start_time": "2022-11-24T08:10:08.969Z"
   },
   {
    "duration": 113,
    "start_time": "2022-11-24T08:10:09.006Z"
   },
   {
    "duration": 4,
    "start_time": "2022-11-24T08:10:09.120Z"
   },
   {
    "duration": 15,
    "start_time": "2022-11-24T08:10:09.126Z"
   },
   {
    "duration": 102,
    "start_time": "2022-11-24T08:10:09.143Z"
   },
   {
    "duration": 341,
    "start_time": "2022-11-24T08:10:09.249Z"
   },
   {
    "duration": 90,
    "start_time": "2022-11-24T08:10:09.592Z"
   },
   {
    "duration": 61,
    "start_time": "2022-11-24T08:10:09.684Z"
   },
   {
    "duration": 71,
    "start_time": "2022-11-24T08:10:09.747Z"
   },
   {
    "duration": 236,
    "start_time": "2022-11-24T08:10:09.820Z"
   },
   {
    "duration": 8,
    "start_time": "2022-11-24T08:10:10.058Z"
   },
   {
    "duration": 33,
    "start_time": "2022-11-24T08:10:10.067Z"
   },
   {
    "duration": 40,
    "start_time": "2022-11-24T08:10:10.102Z"
   },
   {
    "duration": 6,
    "start_time": "2022-11-24T08:10:10.145Z"
   },
   {
    "duration": 23,
    "start_time": "2022-11-24T08:10:10.153Z"
   },
   {
    "duration": 16,
    "start_time": "2022-11-24T08:10:10.178Z"
   },
   {
    "duration": 13,
    "start_time": "2022-11-24T08:10:10.196Z"
   },
   {
    "duration": 17,
    "start_time": "2022-11-24T08:10:10.211Z"
   },
   {
    "duration": 20,
    "start_time": "2022-11-24T08:10:10.230Z"
   },
   {
    "duration": 36,
    "start_time": "2022-11-24T08:10:10.252Z"
   },
   {
    "duration": 111,
    "start_time": "2022-11-24T08:10:10.289Z"
   },
   {
    "duration": 37,
    "start_time": "2022-11-24T08:10:10.401Z"
   },
   {
    "duration": 26,
    "start_time": "2022-11-24T08:10:10.440Z"
   },
   {
    "duration": 175,
    "start_time": "2022-11-24T08:10:10.471Z"
   },
   {
    "duration": 17,
    "start_time": "2022-11-24T08:10:10.648Z"
   },
   {
    "duration": 19,
    "start_time": "2022-11-24T08:10:10.667Z"
   },
   {
    "duration": 21,
    "start_time": "2022-11-24T08:10:10.687Z"
   },
   {
    "duration": 28,
    "start_time": "2022-11-24T08:10:10.710Z"
   },
   {
    "duration": 22,
    "start_time": "2022-11-24T08:10:10.740Z"
   },
   {
    "duration": 4,
    "start_time": "2022-11-24T08:10:10.764Z"
   },
   {
    "duration": 14,
    "start_time": "2022-11-24T08:10:10.770Z"
   },
   {
    "duration": 14,
    "start_time": "2022-11-24T08:10:10.786Z"
   },
   {
    "duration": 24,
    "start_time": "2022-11-24T08:10:10.802Z"
   },
   {
    "duration": 12,
    "start_time": "2022-11-24T08:10:10.827Z"
   },
   {
    "duration": 21,
    "start_time": "2022-11-24T08:10:10.841Z"
   },
   {
    "duration": 25,
    "start_time": "2022-11-24T08:10:10.864Z"
   },
   {
    "duration": 6,
    "start_time": "2022-11-24T08:10:10.891Z"
   },
   {
    "duration": 38,
    "start_time": "2022-11-24T08:10:10.899Z"
   },
   {
    "duration": 15,
    "start_time": "2022-11-24T08:10:10.939Z"
   },
   {
    "duration": 25,
    "start_time": "2022-11-24T08:10:10.956Z"
   },
   {
    "duration": 18,
    "start_time": "2022-11-24T08:10:10.983Z"
   },
   {
    "duration": 11,
    "start_time": "2022-11-24T08:10:11.003Z"
   },
   {
    "duration": 37,
    "start_time": "2022-11-24T08:10:11.016Z"
   },
   {
    "duration": 24,
    "start_time": "2022-11-24T08:10:11.054Z"
   },
   {
    "duration": 190,
    "start_time": "2022-11-24T08:10:11.080Z"
   },
   {
    "duration": 11,
    "start_time": "2022-11-24T08:10:11.272Z"
   },
   {
    "duration": 26,
    "start_time": "2022-11-24T08:10:11.285Z"
   },
   {
    "duration": 7,
    "start_time": "2022-11-24T08:10:11.313Z"
   },
   {
    "duration": 174,
    "start_time": "2022-11-24T08:10:11.322Z"
   },
   {
    "duration": 12,
    "start_time": "2022-11-24T08:10:11.498Z"
   },
   {
    "duration": 375,
    "start_time": "2022-11-24T08:10:11.512Z"
   },
   {
    "duration": 107,
    "start_time": "2022-11-24T08:10:11.888Z"
   },
   {
    "duration": 44,
    "start_time": "2022-11-24T08:10:11.996Z"
   },
   {
    "duration": 9,
    "start_time": "2022-11-24T08:10:12.042Z"
   },
   {
    "duration": 62,
    "start_time": "2022-11-24T08:10:12.053Z"
   },
   {
    "duration": 34,
    "start_time": "2022-11-24T08:10:12.116Z"
   },
   {
    "duration": 19,
    "start_time": "2022-11-24T08:10:12.152Z"
   },
   {
    "duration": 32,
    "start_time": "2022-11-24T08:10:12.173Z"
   },
   {
    "duration": 22,
    "start_time": "2022-11-24T08:10:12.206Z"
   },
   {
    "duration": 40,
    "start_time": "2022-11-24T08:10:12.229Z"
   },
   {
    "duration": 1102,
    "start_time": "2022-11-26T20:38:50.207Z"
   },
   {
    "duration": 2150,
    "start_time": "2022-11-26T20:39:08.904Z"
   },
   {
    "duration": 2083,
    "start_time": "2022-11-26T20:44:36.147Z"
   },
   {
    "duration": 1238,
    "start_time": "2022-11-26T20:44:38.232Z"
   },
   {
    "duration": 76,
    "start_time": "2022-11-26T20:44:39.471Z"
   },
   {
    "duration": 582,
    "start_time": "2022-11-26T20:44:39.550Z"
   },
   {
    "duration": 181,
    "start_time": "2022-11-26T20:44:40.133Z"
   },
   {
    "duration": 68,
    "start_time": "2022-11-26T20:44:40.316Z"
   },
   {
    "duration": 81,
    "start_time": "2022-11-26T20:44:40.385Z"
   },
   {
    "duration": 4,
    "start_time": "2022-11-26T20:44:40.467Z"
   },
   {
    "duration": 8,
    "start_time": "2022-11-26T20:44:40.473Z"
   },
   {
    "duration": 92,
    "start_time": "2022-11-26T20:44:40.483Z"
   },
   {
    "duration": 363,
    "start_time": "2022-11-26T20:44:40.577Z"
   },
   {
    "duration": 76,
    "start_time": "2022-11-26T20:44:40.942Z"
   },
   {
    "duration": 51,
    "start_time": "2022-11-26T20:44:41.019Z"
   },
   {
    "duration": 89,
    "start_time": "2022-11-26T20:44:41.072Z"
   },
   {
    "duration": 207,
    "start_time": "2022-11-26T20:44:41.162Z"
   },
   {
    "duration": 6,
    "start_time": "2022-11-26T20:44:41.371Z"
   },
   {
    "duration": 49,
    "start_time": "2022-11-26T20:44:41.379Z"
   },
   {
    "duration": 18,
    "start_time": "2022-11-26T20:44:41.430Z"
   },
   {
    "duration": 5,
    "start_time": "2022-11-26T20:44:41.450Z"
   },
   {
    "duration": 9,
    "start_time": "2022-11-26T20:44:41.457Z"
   },
   {
    "duration": 4,
    "start_time": "2022-11-26T20:44:41.467Z"
   },
   {
    "duration": 42,
    "start_time": "2022-11-26T20:44:41.472Z"
   },
   {
    "duration": 7,
    "start_time": "2022-11-26T20:44:41.516Z"
   },
   {
    "duration": 11,
    "start_time": "2022-11-26T20:44:41.525Z"
   },
   {
    "duration": 27,
    "start_time": "2022-11-26T20:44:41.537Z"
   },
   {
    "duration": 141,
    "start_time": "2022-11-26T20:44:41.565Z"
   },
   {
    "duration": 27,
    "start_time": "2022-11-26T20:44:41.708Z"
   },
   {
    "duration": 24,
    "start_time": "2022-11-26T20:44:41.738Z"
   },
   {
    "duration": 148,
    "start_time": "2022-11-26T20:44:41.763Z"
   },
   {
    "duration": 16,
    "start_time": "2022-11-26T20:44:41.912Z"
   },
   {
    "duration": 17,
    "start_time": "2022-11-26T20:44:41.930Z"
   },
   {
    "duration": 21,
    "start_time": "2022-11-26T20:44:41.949Z"
   },
   {
    "duration": 7,
    "start_time": "2022-11-26T20:44:41.971Z"
   },
   {
    "duration": 15,
    "start_time": "2022-11-26T20:44:42.013Z"
   },
   {
    "duration": 5,
    "start_time": "2022-11-26T20:44:42.029Z"
   },
   {
    "duration": 12,
    "start_time": "2022-11-26T20:44:42.035Z"
   },
   {
    "duration": 17,
    "start_time": "2022-11-26T20:44:42.048Z"
   },
   {
    "duration": 14,
    "start_time": "2022-11-26T20:44:42.067Z"
   },
   {
    "duration": 29,
    "start_time": "2022-11-26T20:44:42.083Z"
   },
   {
    "duration": 24,
    "start_time": "2022-11-26T20:44:42.114Z"
   },
   {
    "duration": 15,
    "start_time": "2022-11-26T20:44:42.139Z"
   },
   {
    "duration": 19,
    "start_time": "2022-11-26T20:44:42.155Z"
   },
   {
    "duration": 47,
    "start_time": "2022-11-26T20:44:42.175Z"
   },
   {
    "duration": 9,
    "start_time": "2022-11-26T20:44:42.224Z"
   },
   {
    "duration": 14,
    "start_time": "2022-11-26T20:44:42.235Z"
   },
   {
    "duration": 7,
    "start_time": "2022-11-26T20:44:42.251Z"
   },
   {
    "duration": 208,
    "start_time": "2022-11-26T20:44:42.259Z"
   },
   {
    "duration": 12,
    "start_time": "2022-11-26T20:44:42.468Z"
   },
   {
    "duration": 31,
    "start_time": "2022-11-26T20:44:42.482Z"
   },
   {
    "duration": 8,
    "start_time": "2022-11-26T20:44:42.515Z"
   },
   {
    "duration": 182,
    "start_time": "2022-11-26T20:44:42.525Z"
   },
   {
    "duration": 14,
    "start_time": "2022-11-26T20:44:42.713Z"
   },
   {
    "duration": 1150,
    "start_time": "2022-11-26T20:44:42.729Z"
   },
   {
    "duration": 156,
    "start_time": "2022-11-26T20:44:43.880Z"
   },
   {
    "duration": 13,
    "start_time": "2022-11-26T20:44:44.038Z"
   },
   {
    "duration": 13,
    "start_time": "2022-11-26T20:44:44.052Z"
   },
   {
    "duration": 170,
    "start_time": "2022-11-26T20:44:44.067Z"
   },
   {
    "duration": 14,
    "start_time": "2022-11-26T20:44:44.239Z"
   },
   {
    "duration": 5,
    "start_time": "2022-11-26T20:44:44.255Z"
   },
   {
    "duration": 21,
    "start_time": "2022-11-26T20:44:44.262Z"
   },
   {
    "duration": 5,
    "start_time": "2022-11-26T20:44:44.313Z"
   },
   {
    "duration": 19,
    "start_time": "2022-11-26T20:44:44.320Z"
   }
  ],
  "kernelspec": {
   "display_name": "Python 3 (ipykernel)",
   "language": "python",
   "name": "python3"
  },
  "language_info": {
   "codemirror_mode": {
    "name": "ipython",
    "version": 3
   },
   "file_extension": ".py",
   "mimetype": "text/x-python",
   "name": "python",
   "nbconvert_exporter": "python",
   "pygments_lexer": "ipython3",
   "version": "3.9.5"
  },
  "toc": {
   "base_numbering": 1,
   "nav_menu": {},
   "number_sections": true,
   "sideBar": true,
   "skip_h1_title": true,
   "title_cell": "А/В тестирование",
   "title_sidebar": "Contents",
   "toc_cell": true,
   "toc_position": {
    "height": "calc(100% - 180px)",
    "left": "10px",
    "top": "150px",
    "width": "289.984px"
   },
   "toc_section_display": true,
   "toc_window_display": true
  }
 },
 "nbformat": 4,
 "nbformat_minor": 5
}
